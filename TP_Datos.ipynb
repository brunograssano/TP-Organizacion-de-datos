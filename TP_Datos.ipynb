{
  "nbformat": 4,
  "nbformat_minor": 0,
  "metadata": {
    "colab": {
      "name": "TP-Datos.ipynb",
      "provenance": [],
      "collapsed_sections": [],
      "include_colab_link": true
    },
    "kernelspec": {
      "name": "python3",
      "display_name": "Python 3"
    }
  },
  "cells": [
    {
      "cell_type": "markdown",
      "metadata": {
        "id": "view-in-github",
        "colab_type": "text"
      },
      "source": [
        "<a href=\"https://colab.research.google.com/github/brunograssano/TP-Organizacion-de-datos/blob/main/TP_Datos.ipynb\" target=\"_parent\"><img src=\"https://colab.research.google.com/assets/colab-badge.svg\" alt=\"Open In Colab\"/></a>"
      ]
    },
    {
      "cell_type": "markdown",
      "metadata": {
        "id": "L23p0lRmEsZ5"
      },
      "source": [
        "# Trabajo Practico: Analisis Exploratorio - Organizacion de Datos"
      ]
    },
    {
      "cell_type": "markdown",
      "metadata": {
        "id": "VZvqSJKEE9D4"
      },
      "source": [
        "## Introduccion"
      ]
    },
    {
      "cell_type": "markdown",
      "metadata": {
        "id": "gwtUueJeFCmh"
      },
      "source": [
        "Explicacion"
      ]
    },
    {
      "cell_type": "markdown",
      "metadata": {
        "id": "h4kz6GojFSZw"
      },
      "source": [
        "## Objetivos"
      ]
    },
    {
      "cell_type": "markdown",
      "metadata": {
        "id": "tiPzBHUlJ0vU"
      },
      "source": [
        "El objetivo del notebook es:\n",
        "*   Entender los datos\n",
        "*   Ver como los datos se relacionan entre si\n",
        "*   Poder sacar alguna conclusión o descubrir un patrón a partir de estos\n",
        "*   Indicar cuáles son los factores más importantes que determinan si un usuario va a ir al cine a ver Frozen 4 o no.\n",
        "\n",
        "\n"
      ]
    },
    {
      "cell_type": "markdown",
      "metadata": {
        "id": "vLn4b3ckGpN-"
      },
      "source": [
        "## Configuraciones Iniciales"
      ]
    },
    {
      "cell_type": "markdown",
      "metadata": {
        "id": "ryJZhQRlHRPv"
      },
      "source": [
        "Primero cargamos las bibliotecas que se van a ir usando a lo largo del trabajo, y realizamos la configuracion para los graficos que armemos."
      ]
    },
    {
      "cell_type": "code",
      "metadata": {
        "id": "QaKwLbPIGsNV"
      },
      "source": [
        "import pandas as pd\n",
        "import numpy as np\n",
        "import matplotlib.pyplot as plt\n",
        "import seaborn as sns"
      ],
      "execution_count": null,
      "outputs": []
    },
    {
      "cell_type": "code",
      "metadata": {
        "id": "Qs6uxYNOHq17",
        "outputId": "3d84a4c4-ec40-4e90-bdd1-b1058d562496",
        "colab": {
          "base_uri": "https://localhost:8080/",
          "height": 34
        }
      },
      "source": [
        "from google.colab import drive \n",
        "drive.mount('/content/gdrive/')"
      ],
      "execution_count": null,
      "outputs": [
        {
          "output_type": "stream",
          "text": [
            "Drive already mounted at /content/gdrive/; to attempt to forcibly remount, call drive.mount(\"/content/gdrive/\", force_remount=True).\n"
          ],
          "name": "stdout"
        }
      ]
    },
    {
      "cell_type": "markdown",
      "metadata": {
        "id": "UZq__1YAFZi-"
      },
      "source": [
        "## Carga y limpieza del set de datos"
      ]
    },
    {
      "cell_type": "markdown",
      "metadata": {
        "id": "XcZxtmo6KFI1"
      },
      "source": [
        "Cargamos ambos Datasets y vemos de dejarlos listos para comenzar el trabajo"
      ]
    },
    {
      "cell_type": "code",
      "metadata": {
        "id": "iekRTA5nGjcb",
        "outputId": "94e1f10d-0982-4aef-ee2a-bf7313d66494",
        "colab": {
          "base_uri": "https://localhost:8080/",
          "height": 204
        }
      },
      "source": [
        "usuario_volveria_df = pd.read_csv('gdrive/My Drive/Datos/tp-2020-2c-train-cols1.csv')\n",
        "usuario_volveria_df.head()"
      ],
      "execution_count": null,
      "outputs": [
        {
          "output_type": "execute_result",
          "data": {
            "text/html": [
              "<div>\n",
              "<style scoped>\n",
              "    .dataframe tbody tr th:only-of-type {\n",
              "        vertical-align: middle;\n",
              "    }\n",
              "\n",
              "    .dataframe tbody tr th {\n",
              "        vertical-align: top;\n",
              "    }\n",
              "\n",
              "    .dataframe thead th {\n",
              "        text-align: right;\n",
              "    }\n",
              "</style>\n",
              "<table border=\"1\" class=\"dataframe\">\n",
              "  <thead>\n",
              "    <tr style=\"text-align: right;\">\n",
              "      <th></th>\n",
              "      <th>id_usuario</th>\n",
              "      <th>volveria</th>\n",
              "    </tr>\n",
              "  </thead>\n",
              "  <tbody>\n",
              "    <tr>\n",
              "      <th>0</th>\n",
              "      <td>117</td>\n",
              "      <td>0</td>\n",
              "    </tr>\n",
              "    <tr>\n",
              "      <th>1</th>\n",
              "      <td>658</td>\n",
              "      <td>0</td>\n",
              "    </tr>\n",
              "    <tr>\n",
              "      <th>2</th>\n",
              "      <td>794</td>\n",
              "      <td>0</td>\n",
              "    </tr>\n",
              "    <tr>\n",
              "      <th>3</th>\n",
              "      <td>455</td>\n",
              "      <td>0</td>\n",
              "    </tr>\n",
              "    <tr>\n",
              "      <th>4</th>\n",
              "      <td>173</td>\n",
              "      <td>1</td>\n",
              "    </tr>\n",
              "  </tbody>\n",
              "</table>\n",
              "</div>"
            ],
            "text/plain": [
              "   id_usuario  volveria\n",
              "0         117         0\n",
              "1         658         0\n",
              "2         794         0\n",
              "3         455         0\n",
              "4         173         1"
            ]
          },
          "metadata": {
            "tags": []
          },
          "execution_count": 57
        }
      ]
    },
    {
      "cell_type": "code",
      "metadata": {
        "id": "2ctUvMqoKQ0_",
        "outputId": "b0c9b756-de6d-4bbd-acdb-b46b0df4cea4",
        "colab": {
          "base_uri": "https://localhost:8080/",
          "height": 204
        }
      },
      "source": [
        "info_fiumark_df = pd.read_csv('gdrive/My Drive/Datos/tp-2020-2c-train-cols2.csv')\n",
        "info_fiumark_df.head()"
      ],
      "execution_count": null,
      "outputs": [
        {
          "output_type": "execute_result",
          "data": {
            "text/html": [
              "<div>\n",
              "<style scoped>\n",
              "    .dataframe tbody tr th:only-of-type {\n",
              "        vertical-align: middle;\n",
              "    }\n",
              "\n",
              "    .dataframe tbody tr th {\n",
              "        vertical-align: top;\n",
              "    }\n",
              "\n",
              "    .dataframe thead th {\n",
              "        text-align: right;\n",
              "    }\n",
              "</style>\n",
              "<table border=\"1\" class=\"dataframe\">\n",
              "  <thead>\n",
              "    <tr style=\"text-align: right;\">\n",
              "      <th></th>\n",
              "      <th>tipo_de_sala</th>\n",
              "      <th>nombre</th>\n",
              "      <th>id_usuario</th>\n",
              "      <th>genero</th>\n",
              "      <th>edad</th>\n",
              "      <th>amigos</th>\n",
              "      <th>parientes</th>\n",
              "      <th>id_ticket</th>\n",
              "      <th>precio_ticket</th>\n",
              "      <th>fila</th>\n",
              "      <th>nombre_sede</th>\n",
              "    </tr>\n",
              "  </thead>\n",
              "  <tbody>\n",
              "    <tr>\n",
              "      <th>0</th>\n",
              "      <td>4d</td>\n",
              "      <td>Señor Camilo Pedro</td>\n",
              "      <td>117</td>\n",
              "      <td>hombre</td>\n",
              "      <td>73.5</td>\n",
              "      <td>0</td>\n",
              "      <td>0</td>\n",
              "      <td>59258;</td>\n",
              "      <td>1</td>\n",
              "      <td>NaN</td>\n",
              "      <td>fiumark_quilmes</td>\n",
              "    </tr>\n",
              "    <tr>\n",
              "      <th>1</th>\n",
              "      <td>4d</td>\n",
              "      <td>Señora Raquel Angelica</td>\n",
              "      <td>658</td>\n",
              "      <td>mujer</td>\n",
              "      <td>35.0</td>\n",
              "      <td>1</td>\n",
              "      <td>1</td>\n",
              "      <td>586:6;</td>\n",
              "      <td>2</td>\n",
              "      <td>NaN</td>\n",
              "      <td>fiumark_quilmes</td>\n",
              "    </tr>\n",
              "    <tr>\n",
              "      <th>2</th>\n",
              "      <td>normal</td>\n",
              "      <td>Señor Antonio Federico</td>\n",
              "      <td>794</td>\n",
              "      <td>hombre</td>\n",
              "      <td>NaN</td>\n",
              "      <td>0</td>\n",
              "      <td>0</td>\n",
              "      <td>RE\"39822</td>\n",
              "      <td>3</td>\n",
              "      <td>NaN</td>\n",
              "      <td>fiumark_chacarita</td>\n",
              "    </tr>\n",
              "    <tr>\n",
              "      <th>3</th>\n",
              "      <td>4d</td>\n",
              "      <td>Señor Osvaldo Aureliano</td>\n",
              "      <td>455</td>\n",
              "      <td>hombre</td>\n",
              "      <td>NaN</td>\n",
              "      <td>0</td>\n",
              "      <td>0</td>\n",
              "      <td>C17\"4:39</td>\n",
              "      <td>1</td>\n",
              "      <td>NaN</td>\n",
              "      <td>fiumark_palermo</td>\n",
              "    </tr>\n",
              "    <tr>\n",
              "      <th>4</th>\n",
              "      <td>4d</td>\n",
              "      <td>Señorita Rita Eudosia</td>\n",
              "      <td>173</td>\n",
              "      <td>mujer</td>\n",
              "      <td>4.0</td>\n",
              "      <td>1</td>\n",
              "      <td>1</td>\n",
              "      <td>569964</td>\n",
              "      <td>2</td>\n",
              "      <td>NaN</td>\n",
              "      <td>fiumark_palermo</td>\n",
              "    </tr>\n",
              "  </tbody>\n",
              "</table>\n",
              "</div>"
            ],
            "text/plain": [
              "  tipo_de_sala                   nombre  ...  fila        nombre_sede\n",
              "0           4d       Señor Camilo Pedro  ...   NaN    fiumark_quilmes\n",
              "1           4d   Señora Raquel Angelica  ...   NaN    fiumark_quilmes\n",
              "2       normal   Señor Antonio Federico  ...   NaN  fiumark_chacarita\n",
              "3           4d  Señor Osvaldo Aureliano  ...   NaN    fiumark_palermo\n",
              "4           4d    Señorita Rita Eudosia  ...   NaN    fiumark_palermo\n",
              "\n",
              "[5 rows x 11 columns]"
            ]
          },
          "metadata": {
            "tags": []
          },
          "execution_count": 58
        }
      ]
    },
    {
      "cell_type": "markdown",
      "metadata": {
        "id": "9b25m2BLKpSd"
      },
      "source": [
        "Analizamos primero los tipos de datos que tienen ambos dataframes con el objetivo de poder convertirlos a otros que puedan llegar a ser mas utiles."
      ]
    },
    {
      "cell_type": "code",
      "metadata": {
        "id": "e-2myoT-K820",
        "outputId": "82b896db-d95d-4ac0-d120-81d96d79e4ca",
        "colab": {
          "base_uri": "https://localhost:8080/",
          "height": 170
        }
      },
      "source": [
        "usuario_volveria_df.info()"
      ],
      "execution_count": null,
      "outputs": [
        {
          "output_type": "stream",
          "text": [
            "<class 'pandas.core.frame.DataFrame'>\n",
            "RangeIndex: 801 entries, 0 to 800\n",
            "Data columns (total 2 columns):\n",
            " #   Column      Non-Null Count  Dtype\n",
            "---  ------      --------------  -----\n",
            " 0   id_usuario  801 non-null    int64\n",
            " 1   volveria    801 non-null    int64\n",
            "dtypes: int64(2)\n",
            "memory usage: 12.6 KB\n"
          ],
          "name": "stdout"
        }
      ]
    },
    {
      "cell_type": "markdown",
      "metadata": {
        "id": "VM026iYRNyYR"
      },
      "source": [
        "Notamos que la columna de 'volveria' es de tipo int64, cuando solamente tiene valores que pueden ser 0 o 1. Un mejor tipo de dato para este caso puede ser un int8. Esto permitiria ahorrar memoria. (Aunque en este caso no sean muchos datos)"
      ]
    },
    {
      "cell_type": "code",
      "metadata": {
        "id": "MP7Ia9-kN16y"
      },
      "source": [
        "usuario_volveria_df['volveria'] = usuario_volveria_df['volveria'].astype(np.int8)"
      ],
      "execution_count": null,
      "outputs": []
    },
    {
      "cell_type": "markdown",
      "metadata": {
        "id": "vsgPgT6yPFq4"
      },
      "source": [
        "Observamos en la informacion del dataframe que hay 801 registros y que para este caso no se encuentran valores nulos"
      ]
    },
    {
      "cell_type": "markdown",
      "metadata": {
        "id": "svXfIHx8Pj-D"
      },
      "source": [
        "Veamos ahora el otro dataframe. Este dataframe contiene la informacion respecto de las personas. "
      ]
    },
    {
      "cell_type": "code",
      "metadata": {
        "id": "k0Dn0Eu2MVnM",
        "outputId": "aac56218-c457-444c-8182-c935b9494410",
        "colab": {
          "base_uri": "https://localhost:8080/",
          "height": 323
        }
      },
      "source": [
        "info_fiumark_df.info()"
      ],
      "execution_count": null,
      "outputs": [
        {
          "output_type": "stream",
          "text": [
            "<class 'pandas.core.frame.DataFrame'>\n",
            "RangeIndex: 801 entries, 0 to 800\n",
            "Data columns (total 11 columns):\n",
            " #   Column         Non-Null Count  Dtype  \n",
            "---  ------         --------------  -----  \n",
            " 0   tipo_de_sala   801 non-null    object \n",
            " 1   nombre         801 non-null    object \n",
            " 2   id_usuario     801 non-null    int64  \n",
            " 3   genero         801 non-null    object \n",
            " 4   edad           641 non-null    float64\n",
            " 5   amigos         801 non-null    int64  \n",
            " 6   parientes      801 non-null    int64  \n",
            " 7   id_ticket      801 non-null    object \n",
            " 8   precio_ticket  801 non-null    int64  \n",
            " 9   fila           177 non-null    object \n",
            " 10  nombre_sede    799 non-null    object \n",
            "dtypes: float64(1), int64(4), object(6)\n",
            "memory usage: 69.0+ KB\n"
          ],
          "name": "stdout"
        }
      ]
    },
    {
      "cell_type": "markdown",
      "metadata": {
        "id": "4SPAoHwdQJ1v"
      },
      "source": [
        "Notamos una gran cantidad de valores nulos en la columna \"fila\" y algunos en \"edad\" y \"nombre_sede\". Como las columnas que tienen los valores nulos pueden llegar a ser relevantes para el analisis, siendo este el caso de las columnas \"fila\" y \"edad\" decidimos crear la categoria \"No responde\" para el caso de \"fila\"."
      ]
    },
    {
      "cell_type": "code",
      "metadata": {
        "id": "Bq12PsRaXk1D"
      },
      "source": [
        "info_fiumark_df['fila'].fillna(\"No responde\",inplace=True)"
      ],
      "execution_count": null,
      "outputs": []
    },
    {
      "cell_type": "markdown",
      "metadata": {
        "id": "l9EceQi1YPkY"
      },
      "source": [
        "Ahora vemos la cantidad de valores unicos para las columnas de tipo objeto, para poder determinar a cuales les corresponderia tener un tipo categorico."
      ]
    },
    {
      "cell_type": "code",
      "metadata": {
        "id": "UCSJpvUGMV0b",
        "outputId": "2891b9a8-d1fa-422d-db2a-041c70564038",
        "colab": {
          "base_uri": "https://localhost:8080/",
          "height": 136
        }
      },
      "source": [
        "info_fiumark_df.select_dtypes(include=['object']).nunique()"
      ],
      "execution_count": null,
      "outputs": [
        {
          "output_type": "execute_result",
          "data": {
            "text/plain": [
              "tipo_de_sala      3\n",
              "nombre          801\n",
              "genero            2\n",
              "id_ticket       635\n",
              "fila              3\n",
              "nombre_sede       3\n",
              "dtype: int64"
            ]
          },
          "metadata": {
            "tags": []
          },
          "execution_count": 63
        }
      ]
    },
    {
      "cell_type": "code",
      "metadata": {
        "id": "s1qbPtggRorl"
      },
      "source": [
        "info_fiumark_df[\"tipo_de_sala\"] = info_fiumark_df[\"tipo_de_sala\"].astype(\"category\")\n",
        "info_fiumark_df[\"genero\"] = info_fiumark_df[\"genero\"].astype(\"category\")\n",
        "info_fiumark_df[\"nombre_sede\"] = info_fiumark_df[\"nombre_sede\"].astype(\"category\")\n",
        "info_fiumark_df[\"fila\"] = info_fiumark_df[\"fila\"].astype(\"category\")\n"
      ],
      "execution_count": null,
      "outputs": []
    },
    {
      "cell_type": "markdown",
      "metadata": {
        "id": "YSEnM6X0Rp1Q"
      },
      "source": [
        "Otra cosa que observamos que las edades estan en formato de float, lo cual nos resulto llamativo, por lo que decidimos cortar los valores, llevandolos al piso."
      ]
    },
    {
      "cell_type": "code",
      "metadata": {
        "id": "2DHci65oUPPJ"
      },
      "source": [
        "info_fiumark_df['edad'] = info_fiumark_df['edad'].apply(np.floor) \n",
        "#info_fiumark_df['edad'] = info_fiumark_df['edad'].astype(np.int) # VER QUE HACEMOS CON LOS VALORES NULOS, PREGUNTAR SI ES VALIDO TOMAR EL 3er CUANTIL POR LA EDAD"
      ],
      "execution_count": null,
      "outputs": []
    },
    {
      "cell_type": "markdown",
      "metadata": {
        "id": "YUv4nA73MuhE"
      },
      "source": [
        "Tambien observamos que entre los datos que nos fueron entregados se encuentra el codigo de ticket: \"id_ticket\". Consideramos\n",
        "que la informacion en ella es irrelevante para nuestros propositos y por lo tanto la eliminamos. Esta decision se debe a que parece que el codigo del ticket tiene forma de ser generada de forma aleatoria y no da la impresion de estar relacionada con la variable de interes para el analisis."
      ]
    },
    {
      "cell_type": "code",
      "metadata": {
        "id": "3Y7d9mFhZmGY"
      },
      "source": [
        "info_fiumark_df.drop(columns='id_ticket',inplace=True)"
      ],
      "execution_count": null,
      "outputs": []
    },
    {
      "cell_type": "markdown",
      "metadata": {
        "id": "6c88G25mYkD4"
      },
      "source": [
        "Habiendo hecho esos cambios, finalmente nos queda el dataframe de la siguiente forma. En el proceso se redujo el uso de memoria, pasando de 69.0KB a 41.2KB."
      ]
    },
    {
      "cell_type": "code",
      "metadata": {
        "id": "G9eDYU86MWOu",
        "outputId": "374a195d-092e-47ce-ed56-4380fec27709",
        "colab": {
          "base_uri": "https://localhost:8080/",
          "height": 306
        }
      },
      "source": [
        "info_fiumark_df.info()"
      ],
      "execution_count": null,
      "outputs": [
        {
          "output_type": "stream",
          "text": [
            "<class 'pandas.core.frame.DataFrame'>\n",
            "RangeIndex: 801 entries, 0 to 800\n",
            "Data columns (total 10 columns):\n",
            " #   Column         Non-Null Count  Dtype   \n",
            "---  ------         --------------  -----   \n",
            " 0   tipo_de_sala   801 non-null    category\n",
            " 1   nombre         801 non-null    object  \n",
            " 2   id_usuario     801 non-null    int64   \n",
            " 3   genero         801 non-null    category\n",
            " 4   edad           641 non-null    float64 \n",
            " 5   amigos         801 non-null    int64   \n",
            " 6   parientes      801 non-null    int64   \n",
            " 7   precio_ticket  801 non-null    int64   \n",
            " 8   fila           801 non-null    category\n",
            " 9   nombre_sede    799 non-null    category\n",
            "dtypes: category(4), float64(1), int64(4), object(1)\n",
            "memory usage: 41.2+ KB\n"
          ],
          "name": "stdout"
        }
      ]
    },
    {
      "cell_type": "code",
      "metadata": {
        "id": "L9J4tEH9W0qI",
        "outputId": "6039aecd-a19e-46b3-dc5f-01262379b4c7",
        "colab": {
          "base_uri": "https://localhost:8080/",
          "height": 204
        }
      },
      "source": [
        "info_fiumark_df.head()"
      ],
      "execution_count": null,
      "outputs": [
        {
          "output_type": "execute_result",
          "data": {
            "text/html": [
              "<div>\n",
              "<style scoped>\n",
              "    .dataframe tbody tr th:only-of-type {\n",
              "        vertical-align: middle;\n",
              "    }\n",
              "\n",
              "    .dataframe tbody tr th {\n",
              "        vertical-align: top;\n",
              "    }\n",
              "\n",
              "    .dataframe thead th {\n",
              "        text-align: right;\n",
              "    }\n",
              "</style>\n",
              "<table border=\"1\" class=\"dataframe\">\n",
              "  <thead>\n",
              "    <tr style=\"text-align: right;\">\n",
              "      <th></th>\n",
              "      <th>tipo_de_sala</th>\n",
              "      <th>nombre</th>\n",
              "      <th>id_usuario</th>\n",
              "      <th>genero</th>\n",
              "      <th>edad</th>\n",
              "      <th>amigos</th>\n",
              "      <th>parientes</th>\n",
              "      <th>precio_ticket</th>\n",
              "      <th>fila</th>\n",
              "      <th>nombre_sede</th>\n",
              "    </tr>\n",
              "  </thead>\n",
              "  <tbody>\n",
              "    <tr>\n",
              "      <th>0</th>\n",
              "      <td>4d</td>\n",
              "      <td>Señor Camilo Pedro</td>\n",
              "      <td>117</td>\n",
              "      <td>hombre</td>\n",
              "      <td>73.0</td>\n",
              "      <td>0</td>\n",
              "      <td>0</td>\n",
              "      <td>1</td>\n",
              "      <td>No responde</td>\n",
              "      <td>fiumark_quilmes</td>\n",
              "    </tr>\n",
              "    <tr>\n",
              "      <th>1</th>\n",
              "      <td>4d</td>\n",
              "      <td>Señora Raquel Angelica</td>\n",
              "      <td>658</td>\n",
              "      <td>mujer</td>\n",
              "      <td>35.0</td>\n",
              "      <td>1</td>\n",
              "      <td>1</td>\n",
              "      <td>2</td>\n",
              "      <td>No responde</td>\n",
              "      <td>fiumark_quilmes</td>\n",
              "    </tr>\n",
              "    <tr>\n",
              "      <th>2</th>\n",
              "      <td>normal</td>\n",
              "      <td>Señor Antonio Federico</td>\n",
              "      <td>794</td>\n",
              "      <td>hombre</td>\n",
              "      <td>NaN</td>\n",
              "      <td>0</td>\n",
              "      <td>0</td>\n",
              "      <td>3</td>\n",
              "      <td>No responde</td>\n",
              "      <td>fiumark_chacarita</td>\n",
              "    </tr>\n",
              "    <tr>\n",
              "      <th>3</th>\n",
              "      <td>4d</td>\n",
              "      <td>Señor Osvaldo Aureliano</td>\n",
              "      <td>455</td>\n",
              "      <td>hombre</td>\n",
              "      <td>NaN</td>\n",
              "      <td>0</td>\n",
              "      <td>0</td>\n",
              "      <td>1</td>\n",
              "      <td>No responde</td>\n",
              "      <td>fiumark_palermo</td>\n",
              "    </tr>\n",
              "    <tr>\n",
              "      <th>4</th>\n",
              "      <td>4d</td>\n",
              "      <td>Señorita Rita Eudosia</td>\n",
              "      <td>173</td>\n",
              "      <td>mujer</td>\n",
              "      <td>4.0</td>\n",
              "      <td>1</td>\n",
              "      <td>1</td>\n",
              "      <td>2</td>\n",
              "      <td>No responde</td>\n",
              "      <td>fiumark_palermo</td>\n",
              "    </tr>\n",
              "  </tbody>\n",
              "</table>\n",
              "</div>"
            ],
            "text/plain": [
              "  tipo_de_sala                   nombre  ...         fila        nombre_sede\n",
              "0           4d       Señor Camilo Pedro  ...  No responde    fiumark_quilmes\n",
              "1           4d   Señora Raquel Angelica  ...  No responde    fiumark_quilmes\n",
              "2       normal   Señor Antonio Federico  ...  No responde  fiumark_chacarita\n",
              "3           4d  Señor Osvaldo Aureliano  ...  No responde    fiumark_palermo\n",
              "4           4d    Señorita Rita Eudosia  ...  No responde    fiumark_palermo\n",
              "\n",
              "[5 rows x 10 columns]"
            ]
          },
          "metadata": {
            "tags": []
          },
          "execution_count": 68
        }
      ]
    },
    {
      "cell_type": "markdown",
      "metadata": {
        "id": "ZtiDONfHhJWI"
      },
      "source": [
        "Por ultimo, dejamos unidos ambos dataframes."
      ]
    },
    {
      "cell_type": "code",
      "metadata": {
        "id": "H_3rfm0tglxY",
        "outputId": "c07acc12-1247-44a2-c095-affdf71a8fba",
        "colab": {
          "base_uri": "https://localhost:8080/",
          "height": 204
        }
      },
      "source": [
        "info_fiumark_df = info_fiumark_df.merge(usuario_volveria_df,on='id_usuario')\n",
        "info_fiumark_df.head()"
      ],
      "execution_count": null,
      "outputs": [
        {
          "output_type": "execute_result",
          "data": {
            "text/html": [
              "<div>\n",
              "<style scoped>\n",
              "    .dataframe tbody tr th:only-of-type {\n",
              "        vertical-align: middle;\n",
              "    }\n",
              "\n",
              "    .dataframe tbody tr th {\n",
              "        vertical-align: top;\n",
              "    }\n",
              "\n",
              "    .dataframe thead th {\n",
              "        text-align: right;\n",
              "    }\n",
              "</style>\n",
              "<table border=\"1\" class=\"dataframe\">\n",
              "  <thead>\n",
              "    <tr style=\"text-align: right;\">\n",
              "      <th></th>\n",
              "      <th>tipo_de_sala</th>\n",
              "      <th>nombre</th>\n",
              "      <th>id_usuario</th>\n",
              "      <th>genero</th>\n",
              "      <th>edad</th>\n",
              "      <th>amigos</th>\n",
              "      <th>parientes</th>\n",
              "      <th>precio_ticket</th>\n",
              "      <th>fila</th>\n",
              "      <th>nombre_sede</th>\n",
              "      <th>volveria</th>\n",
              "    </tr>\n",
              "  </thead>\n",
              "  <tbody>\n",
              "    <tr>\n",
              "      <th>0</th>\n",
              "      <td>4d</td>\n",
              "      <td>Señor Camilo Pedro</td>\n",
              "      <td>117</td>\n",
              "      <td>hombre</td>\n",
              "      <td>73.0</td>\n",
              "      <td>0</td>\n",
              "      <td>0</td>\n",
              "      <td>1</td>\n",
              "      <td>No responde</td>\n",
              "      <td>fiumark_quilmes</td>\n",
              "      <td>0</td>\n",
              "    </tr>\n",
              "    <tr>\n",
              "      <th>1</th>\n",
              "      <td>4d</td>\n",
              "      <td>Señora Raquel Angelica</td>\n",
              "      <td>658</td>\n",
              "      <td>mujer</td>\n",
              "      <td>35.0</td>\n",
              "      <td>1</td>\n",
              "      <td>1</td>\n",
              "      <td>2</td>\n",
              "      <td>No responde</td>\n",
              "      <td>fiumark_quilmes</td>\n",
              "      <td>0</td>\n",
              "    </tr>\n",
              "    <tr>\n",
              "      <th>2</th>\n",
              "      <td>normal</td>\n",
              "      <td>Señor Antonio Federico</td>\n",
              "      <td>794</td>\n",
              "      <td>hombre</td>\n",
              "      <td>NaN</td>\n",
              "      <td>0</td>\n",
              "      <td>0</td>\n",
              "      <td>3</td>\n",
              "      <td>No responde</td>\n",
              "      <td>fiumark_chacarita</td>\n",
              "      <td>0</td>\n",
              "    </tr>\n",
              "    <tr>\n",
              "      <th>3</th>\n",
              "      <td>4d</td>\n",
              "      <td>Señor Osvaldo Aureliano</td>\n",
              "      <td>455</td>\n",
              "      <td>hombre</td>\n",
              "      <td>NaN</td>\n",
              "      <td>0</td>\n",
              "      <td>0</td>\n",
              "      <td>1</td>\n",
              "      <td>No responde</td>\n",
              "      <td>fiumark_palermo</td>\n",
              "      <td>0</td>\n",
              "    </tr>\n",
              "    <tr>\n",
              "      <th>4</th>\n",
              "      <td>4d</td>\n",
              "      <td>Señorita Rita Eudosia</td>\n",
              "      <td>173</td>\n",
              "      <td>mujer</td>\n",
              "      <td>4.0</td>\n",
              "      <td>1</td>\n",
              "      <td>1</td>\n",
              "      <td>2</td>\n",
              "      <td>No responde</td>\n",
              "      <td>fiumark_palermo</td>\n",
              "      <td>1</td>\n",
              "    </tr>\n",
              "  </tbody>\n",
              "</table>\n",
              "</div>"
            ],
            "text/plain": [
              "  tipo_de_sala                   nombre  ...        nombre_sede volveria\n",
              "0           4d       Señor Camilo Pedro  ...    fiumark_quilmes        0\n",
              "1           4d   Señora Raquel Angelica  ...    fiumark_quilmes        0\n",
              "2       normal   Señor Antonio Federico  ...  fiumark_chacarita        0\n",
              "3           4d  Señor Osvaldo Aureliano  ...    fiumark_palermo        0\n",
              "4           4d    Señorita Rita Eudosia  ...    fiumark_palermo        1\n",
              "\n",
              "[5 rows x 11 columns]"
            ]
          },
          "metadata": {
            "tags": []
          },
          "execution_count": 69
        }
      ]
    },
    {
      "cell_type": "code",
      "metadata": {
        "id": "qwVauDe8DEo1"
      },
      "source": [
        "#Explicar qué conclusiones se pueden llegar a partir de analizar los datos recolectados. \n",
        "#La empresa quiere saber cómo entender cada uno de los datos, cómo se relacionan entre sí\n",
        "#Si se puede sacar alguna conclusión o descubrir un patrón a partir de estos. \n",
        "#Adicionalmente quieren saber cuáles son los factores más importantes que determinan si un usuario va a ir al cine a ver Frozen 4 o no."
      ],
      "execution_count": null,
      "outputs": []
    },
    {
      "cell_type": "markdown",
      "metadata": {
        "id": "iuV3s3jjfMAo"
      },
      "source": [
        "## Analisis exploratorio"
      ]
    },
    {
      "cell_type": "markdown",
      "metadata": {
        "id": "jd7RjcsQff_m"
      },
      "source": [
        "Empecemos el analisis haciendonos algunas preguntas sencillas.  \n",
        "* ¿Es el genero una variable determinante a la hora de decidir ver la secuela?\n",
        "*\n",
        "*\n",
        "*\n",
        "*\n",
        "*\n",
        "*\n",
        "*"
      ]
    },
    {
      "cell_type": "code",
      "metadata": {
        "id": "kJFskt14jWfP"
      },
      "source": [
        "#¿Cuáles fueron las preguntas que se plantearon inicialmente?\n",
        "#¿Qué se hizo para responder a esas preguntas?\n",
        "#De los gráficos y análisis hechos, ¿qué conclusiones se pueden sacar?\n",
        "#A partir del trabajo en los anteriores puntos, ¿surgieron nuevas dudas? -> Volver al paso 2\n",
        "#A partir de todo el análisis anterior, construir el código baseline que se va a usar para la primera ronda de campaña digital. Fundamentar el código basándose en las conclusiones de los anteriores puntos."
      ],
      "execution_count": null,
      "outputs": []
    },
    {
      "cell_type": "markdown",
      "metadata": {
        "id": "LFS0t-PsfwhS"
      },
      "source": [
        "### ¿Cuanto afecta el genero a la hora de ir a ver la siguiente pelicula?"
      ]
    },
    {
      "cell_type": "markdown",
      "metadata": {
        "id": "dCd9ScgmkDkQ"
      },
      "source": [
        "Vemos que proporcion de los hombres y mujeres que fueron a ver la pelicula volverian a ver la secuela. Esto se puede obtener de forma sencilla.\n",
        "\n",
        "A priori esperamos que la proporcion de mujeres que deciden ir a ver la secuela sea mucho mayor que la de los hombres que fueron a ver la pelicula."
      ]
    },
    {
      "cell_type": "code",
      "metadata": {
        "id": "kvjNx52MgQWi",
        "outputId": "31eb6d4f-686f-4b8e-dc7c-20b1fe2a9d52",
        "colab": {
          "base_uri": "https://localhost:8080/",
          "height": 85
        }
      },
      "source": [
        "porcentaje_generos_volveria = info_fiumark_df.groupby(by='genero')['volveria'].agg('mean')\n",
        "porcentaje_generos_volveria.round(2)"
      ],
      "execution_count": null,
      "outputs": [
        {
          "output_type": "execute_result",
          "data": {
            "text/plain": [
              "genero\n",
              "hombre    0.18\n",
              "mujer     0.74\n",
              "Name: volveria, dtype: float64"
            ]
          },
          "metadata": {
            "tags": []
          },
          "execution_count": 72
        }
      ]
    },
    {
      "cell_type": "markdown",
      "metadata": {
        "id": "GeFJl8eyk2bm"
      },
      "source": [
        "Habiendo hecho el calculo, en los numeros se ve claramente lo esperado."
      ]
    },
    {
      "cell_type": "code",
      "metadata": {
        "id": "qqPqiwZxlD58",
        "outputId": "1ec622dc-c8fa-456f-c284-ff973c9a0da0",
        "colab": {
          "base_uri": "https://localhost:8080/",
          "height": 312
        }
      },
      "source": [
        "porcentaje_generos_volveria.plot(kind = 'bar',rot = 0, color = ['cornflowerblue','lightpink'], title = 'Proporcion de hombres y mujeres que irian a ver la secuela')\n",
        "ax = plt.gca()\n",
        "ax.set_ylabel(\"Porcentaje\")\n",
        "ax.set_xlabel(\"Genero\")"
      ],
      "execution_count": null,
      "outputs": [
        {
          "output_type": "execute_result",
          "data": {
            "text/plain": [
              "Text(0.5, 0, 'Genero')"
            ]
          },
          "metadata": {
            "tags": []
          },
          "execution_count": 89
        },
        {
          "output_type": "display_data",
          "data": {
            "image/png": "[encoded data removed]",
            "text/plain": [
              "<Figure size 432x288 with 1 Axes>"
            ]
          },
          "metadata": {
            "tags": [],
            "needs_background": "light"
          }
        }
      ]
    },
    {
      "cell_type": "code",
      "metadata": {
        "id": "jJULTUnfoWNl"
      },
      "source": [
        ""
      ],
      "execution_count": null,
      "outputs": []
    }
  ]
}