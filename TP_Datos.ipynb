{
 "cells": [
  {
   "cell_type": "markdown",
   "metadata": {
    "colab_type": "text",
    "id": "view-in-github"
   },
   "source": [
    "<a href=\"https://colab.research.google.com/github/brunograssano/TP-Organizacion-de-datos/blob/main/TP_Datos.ipynb\" target=\"_parent\"><img src=\"https://colab.research.google.com/assets/colab-badge.svg\" alt=\"Open In Colab\"/></a>"
   ]
  },
  {
   "cell_type": "markdown",
   "metadata": {
    "id": "L23p0lRmEsZ5"
   },
   "source": [
    "# Trabajo Practico: Analisis Exploratorio - Organizacion de Datos"
   ]
  },
  {
   "cell_type": "markdown",
   "metadata": {
    "id": "VZvqSJKEE9D4"
   },
   "source": [
    "## Introduccion"
   ]
  },
  {
   "cell_type": "markdown",
   "metadata": {
    "id": "gwtUueJeFCmh"
   },
   "source": [
    "En el presente trabajo se propone realizar un analisis de los datos recolectados por una empresa en los ultimos 2 meses sobre los clientes que fueron a ver la pelicula Frozen 3. La encuesta consistia en una serie de preguntas personales que concluia si el cliente volveria a ese cine si salia Frozen 4.\n",
    "\n",
    "El objetivo de la empresa es poder dirigir futuras campañas de marketing digital en base a esta informacion recolectada"
   ]
  },
  {
   "cell_type": "markdown",
   "metadata": {
    "id": "h4kz6GojFSZw"
   },
   "source": [
    "## Objetivos"
   ]
  },
  {
   "cell_type": "markdown",
   "metadata": {
    "id": "tiPzBHUlJ0vU"
   },
   "source": [
    "El objetivo del notebook es:\n",
    "*   Entender los datos\n",
    "*   Ver como los datos se relacionan entre si\n",
    "*   Poder sacar alguna conclusión o descubrir un patrón a partir de estos\n",
    "*   Indicar cuáles son los factores más importantes que determinan si un usuario va a ir al cine a ver Frozen 4 o no.\n",
    "\n",
    "\n"
   ]
  },
  {
   "cell_type": "markdown",
   "metadata": {
    "id": "vLn4b3ckGpN-"
   },
   "source": [
    "## Configuraciones Iniciales"
   ]
  },
  {
   "cell_type": "markdown",
   "metadata": {
    "id": "ryJZhQRlHRPv"
   },
   "source": [
    "Primero cargamos las bibliotecas que se van a ir usando a lo largo del trabajo, y realizamos la configuracion para los graficos que armemos."
   ]
  },
  {
   "cell_type": "code",
   "execution_count": 1,
   "metadata": {
    "id": "QaKwLbPIGsNV"
   },
   "outputs": [],
   "source": [
    "import pandas as pd\n",
    "import numpy as np\n",
    "import matplotlib.pyplot as plt\n",
    "import seaborn as sns"
   ]
  },
  {
   "cell_type": "code",
   "execution_count": 2,
   "metadata": {},
   "outputs": [],
   "source": [
    "from math import pi"
   ]
  },
  {
   "cell_type": "markdown",
   "metadata": {
    "id": "UZq__1YAFZi-"
   },
   "source": [
    "## Carga y limpieza del set de datos"
   ]
  },
  {
   "cell_type": "markdown",
   "metadata": {
    "id": "XcZxtmo6KFI1"
   },
   "source": [
    "Cargamos ambos Datasets y vemos de dejarlos listos para comenzar el trabajo"
   ]
  },
  {
   "cell_type": "code",
   "execution_count": 3,
   "metadata": {
    "colab": {
     "base_uri": "https://localhost:8080/",
     "height": 204
    },
    "id": "iekRTA5nGjcb",
    "outputId": "94e1f10d-0982-4aef-ee2a-bf7313d66494"
   },
   "outputs": [
    {
     "data": {
      "text/html": [
       "<div>\n",
       "<style scoped>\n",
       "    .dataframe tbody tr th:only-of-type {\n",
       "        vertical-align: middle;\n",
       "    }\n",
       "\n",
       "    .dataframe tbody tr th {\n",
       "        vertical-align: top;\n",
       "    }\n",
       "\n",
       "    .dataframe thead th {\n",
       "        text-align: right;\n",
       "    }\n",
       "</style>\n",
       "<table border=\"1\" class=\"dataframe\">\n",
       "  <thead>\n",
       "    <tr style=\"text-align: right;\">\n",
       "      <th></th>\n",
       "      <th>id_usuario</th>\n",
       "      <th>volveria</th>\n",
       "    </tr>\n",
       "  </thead>\n",
       "  <tbody>\n",
       "    <tr>\n",
       "      <th>0</th>\n",
       "      <td>117</td>\n",
       "      <td>0</td>\n",
       "    </tr>\n",
       "    <tr>\n",
       "      <th>1</th>\n",
       "      <td>658</td>\n",
       "      <td>0</td>\n",
       "    </tr>\n",
       "    <tr>\n",
       "      <th>2</th>\n",
       "      <td>794</td>\n",
       "      <td>0</td>\n",
       "    </tr>\n",
       "    <tr>\n",
       "      <th>3</th>\n",
       "      <td>455</td>\n",
       "      <td>0</td>\n",
       "    </tr>\n",
       "    <tr>\n",
       "      <th>4</th>\n",
       "      <td>173</td>\n",
       "      <td>1</td>\n",
       "    </tr>\n",
       "  </tbody>\n",
       "</table>\n",
       "</div>"
      ],
      "text/plain": [
       "   id_usuario  volveria\n",
       "0         117         0\n",
       "1         658         0\n",
       "2         794         0\n",
       "3         455         0\n",
       "4         173         1"
      ]
     },
     "execution_count": 3,
     "metadata": {},
     "output_type": "execute_result"
    }
   ],
   "source": [
    "usuario_volveria_df = pd.read_csv('tp-2020-2c-train-cols1.csv')\n",
    "usuario_volveria_df.head()"
   ]
  },
  {
   "cell_type": "code",
   "execution_count": 4,
   "metadata": {
    "colab": {
     "base_uri": "https://localhost:8080/",
     "height": 204
    },
    "id": "2ctUvMqoKQ0_",
    "outputId": "b0c9b756-de6d-4bbd-acdb-b46b0df4cea4"
   },
   "outputs": [
    {
     "data": {
      "text/html": [
       "<div>\n",
       "<style scoped>\n",
       "    .dataframe tbody tr th:only-of-type {\n",
       "        vertical-align: middle;\n",
       "    }\n",
       "\n",
       "    .dataframe tbody tr th {\n",
       "        vertical-align: top;\n",
       "    }\n",
       "\n",
       "    .dataframe thead th {\n",
       "        text-align: right;\n",
       "    }\n",
       "</style>\n",
       "<table border=\"1\" class=\"dataframe\">\n",
       "  <thead>\n",
       "    <tr style=\"text-align: right;\">\n",
       "      <th></th>\n",
       "      <th>tipo_de_sala</th>\n",
       "      <th>nombre</th>\n",
       "      <th>id_usuario</th>\n",
       "      <th>genero</th>\n",
       "      <th>edad</th>\n",
       "      <th>amigos</th>\n",
       "      <th>parientes</th>\n",
       "      <th>id_ticket</th>\n",
       "      <th>precio_ticket</th>\n",
       "      <th>fila</th>\n",
       "      <th>nombre_sede</th>\n",
       "    </tr>\n",
       "  </thead>\n",
       "  <tbody>\n",
       "    <tr>\n",
       "      <th>0</th>\n",
       "      <td>4d</td>\n",
       "      <td>Señor Camilo Pedro</td>\n",
       "      <td>117</td>\n",
       "      <td>hombre</td>\n",
       "      <td>73.5</td>\n",
       "      <td>0</td>\n",
       "      <td>0</td>\n",
       "      <td>59258;</td>\n",
       "      <td>1</td>\n",
       "      <td>NaN</td>\n",
       "      <td>fiumark_quilmes</td>\n",
       "    </tr>\n",
       "    <tr>\n",
       "      <th>1</th>\n",
       "      <td>4d</td>\n",
       "      <td>Señora Raquel Angelica</td>\n",
       "      <td>658</td>\n",
       "      <td>mujer</td>\n",
       "      <td>35.0</td>\n",
       "      <td>1</td>\n",
       "      <td>1</td>\n",
       "      <td>586:6;</td>\n",
       "      <td>2</td>\n",
       "      <td>NaN</td>\n",
       "      <td>fiumark_quilmes</td>\n",
       "    </tr>\n",
       "    <tr>\n",
       "      <th>2</th>\n",
       "      <td>normal</td>\n",
       "      <td>Señor Antonio Federico</td>\n",
       "      <td>794</td>\n",
       "      <td>hombre</td>\n",
       "      <td>NaN</td>\n",
       "      <td>0</td>\n",
       "      <td>0</td>\n",
       "      <td>RE\"39822</td>\n",
       "      <td>3</td>\n",
       "      <td>NaN</td>\n",
       "      <td>fiumark_chacarita</td>\n",
       "    </tr>\n",
       "    <tr>\n",
       "      <th>3</th>\n",
       "      <td>4d</td>\n",
       "      <td>Señor Osvaldo Aureliano</td>\n",
       "      <td>455</td>\n",
       "      <td>hombre</td>\n",
       "      <td>NaN</td>\n",
       "      <td>0</td>\n",
       "      <td>0</td>\n",
       "      <td>C17\"4:39</td>\n",
       "      <td>1</td>\n",
       "      <td>NaN</td>\n",
       "      <td>fiumark_palermo</td>\n",
       "    </tr>\n",
       "    <tr>\n",
       "      <th>4</th>\n",
       "      <td>4d</td>\n",
       "      <td>Señorita Rita Eudosia</td>\n",
       "      <td>173</td>\n",
       "      <td>mujer</td>\n",
       "      <td>4.0</td>\n",
       "      <td>1</td>\n",
       "      <td>1</td>\n",
       "      <td>569964</td>\n",
       "      <td>2</td>\n",
       "      <td>NaN</td>\n",
       "      <td>fiumark_palermo</td>\n",
       "    </tr>\n",
       "  </tbody>\n",
       "</table>\n",
       "</div>"
      ],
      "text/plain": [
       "  tipo_de_sala                   nombre  id_usuario  genero  edad  amigos  \\\n",
       "0           4d       Señor Camilo Pedro         117  hombre  73.5       0   \n",
       "1           4d   Señora Raquel Angelica         658   mujer  35.0       1   \n",
       "2       normal   Señor Antonio Federico         794  hombre   NaN       0   \n",
       "3           4d  Señor Osvaldo Aureliano         455  hombre   NaN       0   \n",
       "4           4d    Señorita Rita Eudosia         173   mujer   4.0       1   \n",
       "\n",
       "   parientes id_ticket  precio_ticket fila        nombre_sede  \n",
       "0          0    59258;              1  NaN    fiumark_quilmes  \n",
       "1          1    586:6;              2  NaN    fiumark_quilmes  \n",
       "2          0  RE\"39822              3  NaN  fiumark_chacarita  \n",
       "3          0  C17\"4:39              1  NaN    fiumark_palermo  \n",
       "4          1    569964              2  NaN    fiumark_palermo  "
      ]
     },
     "execution_count": 4,
     "metadata": {},
     "output_type": "execute_result"
    }
   ],
   "source": [
    "info_fiumark_df = pd.read_csv('tp-2020-2c-train-cols2.csv')\n",
    "info_fiumark_df.head()"
   ]
  },
  {
   "cell_type": "markdown",
   "metadata": {
    "id": "9b25m2BLKpSd"
   },
   "source": [
    "Analizamos primero los tipos de datos que tienen ambos dataframes con el objetivo de poder convertirlos a otros que puedan llegar a ser mas utiles."
   ]
  },
  {
   "cell_type": "code",
   "execution_count": 5,
   "metadata": {
    "colab": {
     "base_uri": "https://localhost:8080/",
     "height": 170
    },
    "id": "e-2myoT-K820",
    "outputId": "82b896db-d95d-4ac0-d120-81d96d79e4ca"
   },
   "outputs": [
    {
     "name": "stdout",
     "output_type": "stream",
     "text": [
      "<class 'pandas.core.frame.DataFrame'>\n",
      "RangeIndex: 801 entries, 0 to 800\n",
      "Data columns (total 2 columns):\n",
      " #   Column      Non-Null Count  Dtype\n",
      "---  ------      --------------  -----\n",
      " 0   id_usuario  801 non-null    int64\n",
      " 1   volveria    801 non-null    int64\n",
      "dtypes: int64(2)\n",
      "memory usage: 12.6 KB\n"
     ]
    }
   ],
   "source": [
    "usuario_volveria_df.info()"
   ]
  },
  {
   "cell_type": "markdown",
   "metadata": {
    "id": "VM026iYRNyYR"
   },
   "source": [
    "Notamos que la columna de 'volveria' es de tipo int64, cuando solamente tiene valores que pueden ser 0 o 1. Un mejor tipo de dato para este caso puede ser un int8. Esto permitiria ahorrar memoria. (Aunque en este caso no sean muchos datos)"
   ]
  },
  {
   "cell_type": "code",
   "execution_count": 6,
   "metadata": {
    "id": "MP7Ia9-kN16y"
   },
   "outputs": [],
   "source": [
    "usuario_volveria_df['volveria'] = usuario_volveria_df['volveria'].astype(np.int8)"
   ]
  },
  {
   "cell_type": "markdown",
   "metadata": {
    "id": "vsgPgT6yPFq4"
   },
   "source": [
    "Observamos en la informacion del dataframe que hay 801 registros y que para este caso no se encuentran valores nulos"
   ]
  },
  {
   "cell_type": "markdown",
   "metadata": {
    "id": "svXfIHx8Pj-D"
   },
   "source": [
    "Veamos ahora el otro dataframe. Este dataframe contiene la informacion respecto de las personas. "
   ]
  },
  {
   "cell_type": "code",
   "execution_count": 7,
   "metadata": {
    "colab": {
     "base_uri": "https://localhost:8080/",
     "height": 323
    },
    "id": "k0Dn0Eu2MVnM",
    "outputId": "aac56218-c457-444c-8182-c935b9494410"
   },
   "outputs": [
    {
     "name": "stdout",
     "output_type": "stream",
     "text": [
      "<class 'pandas.core.frame.DataFrame'>\n",
      "RangeIndex: 801 entries, 0 to 800\n",
      "Data columns (total 11 columns):\n",
      " #   Column         Non-Null Count  Dtype  \n",
      "---  ------         --------------  -----  \n",
      " 0   tipo_de_sala   801 non-null    object \n",
      " 1   nombre         801 non-null    object \n",
      " 2   id_usuario     801 non-null    int64  \n",
      " 3   genero         801 non-null    object \n",
      " 4   edad           641 non-null    float64\n",
      " 5   amigos         801 non-null    int64  \n",
      " 6   parientes      801 non-null    int64  \n",
      " 7   id_ticket      801 non-null    object \n",
      " 8   precio_ticket  801 non-null    int64  \n",
      " 9   fila           177 non-null    object \n",
      " 10  nombre_sede    799 non-null    object \n",
      "dtypes: float64(1), int64(4), object(6)\n",
      "memory usage: 69.0+ KB\n"
     ]
    }
   ],
   "source": [
    "info_fiumark_df.info()"
   ]
  },
  {
   "cell_type": "markdown",
   "metadata": {
    "id": "4SPAoHwdQJ1v"
   },
   "source": [
    "Notamos una gran cantidad de valores nulos en la columna \"fila\" y algunos en \"edad\" y \"nombre_sede\". Como las columnas que tienen los valores nulos pueden llegar a ser relevantes para el analisis, siendo este el caso de las columnas \"fila\" y \"edad\" decidimos crear la categoria \"No responde\" para el caso de \"fila\"."
   ]
  },
  {
   "cell_type": "code",
   "execution_count": 8,
   "metadata": {
    "id": "Bq12PsRaXk1D"
   },
   "outputs": [],
   "source": [
    "info_fiumark_df['fila'].fillna(\"No responde\",inplace=True)"
   ]
  },
  {
   "cell_type": "markdown",
   "metadata": {
    "id": "l9EceQi1YPkY"
   },
   "source": [
    "Ahora vemos la cantidad de valores unicos para las columnas de tipo objeto, para poder determinar a cuales les corresponderia tener un tipo categorico."
   ]
  },
  {
   "cell_type": "code",
   "execution_count": 9,
   "metadata": {
    "colab": {
     "base_uri": "https://localhost:8080/",
     "height": 136
    },
    "id": "UCSJpvUGMV0b",
    "outputId": "2891b9a8-d1fa-422d-db2a-041c70564038"
   },
   "outputs": [
    {
     "data": {
      "text/plain": [
       "tipo_de_sala      3\n",
       "nombre          801\n",
       "genero            2\n",
       "id_ticket       635\n",
       "fila              3\n",
       "nombre_sede       3\n",
       "dtype: int64"
      ]
     },
     "execution_count": 9,
     "metadata": {},
     "output_type": "execute_result"
    }
   ],
   "source": [
    "info_fiumark_df.select_dtypes(include=['object']).nunique()"
   ]
  },
  {
   "cell_type": "code",
   "execution_count": 10,
   "metadata": {
    "id": "s1qbPtggRorl"
   },
   "outputs": [],
   "source": [
    "info_fiumark_df[\"tipo_de_sala\"] = info_fiumark_df[\"tipo_de_sala\"].astype(\"category\")\n",
    "info_fiumark_df[\"genero\"] = info_fiumark_df[\"genero\"].astype(\"category\")\n",
    "info_fiumark_df[\"nombre_sede\"] = info_fiumark_df[\"nombre_sede\"].astype(\"category\")\n",
    "info_fiumark_df[\"fila\"] = info_fiumark_df[\"fila\"].astype(\"category\")\n"
   ]
  },
  {
   "cell_type": "markdown",
   "metadata": {
    "id": "YSEnM6X0Rp1Q"
   },
   "source": [
    "Otra cosa que observamos es que las edades estan en formato de float, lo cual nos resulto llamativo, por lo que decidimos cortar los valores, llevandolos al piso."
   ]
  },
  {
   "cell_type": "code",
   "execution_count": 11,
   "metadata": {
    "id": "2DHci65oUPPJ"
   },
   "outputs": [],
   "source": [
    "info_fiumark_df['edad'] = info_fiumark_df['edad'].apply(np.floor) \n",
    "#info_fiumark_df['edad'] = info_fiumark_df['edad'].astype(np.int) # VER QUE HACEMOS CON LOS VALORES NULOS, PREGUNTAR SI ES VALIDO TOMAR EL 3er CUANTIL POR LA EDAD"
   ]
  },
  {
   "cell_type": "markdown",
   "metadata": {},
   "source": [
    "Pudimos observar que hay muchos valores faltantes en la columna de 'edad'. Lo que decidimos hacer fue utilizar la columna 'nombre', que incluye sufijos como 'Señora' o 'Señorita' para rellenar el valor de edad.\n",
    "\n",
    "Lo primero que hacemos es crear una nueva columna 'sufijo' a partir de los valores de nombres anteriores."
   ]
  },
  {
   "cell_type": "code",
   "execution_count": 12,
   "metadata": {},
   "outputs": [],
   "source": [
    "sufijos_y_nombres = info_fiumark_df.nombre.str.split(pat = ' ', n= 1,expand = True)\n",
    "sufijos_y_nombres.columns = ['sufijo', 'nombre']\n",
    "info_fiumark_df.drop('nombre', axis = 1, inplace = True)\n",
    "info_fiumark_df = pd.concat([ sufijos_y_nombres, info_fiumark_df ], axis = 'columns')"
   ]
  },
  {
   "cell_type": "code",
   "execution_count": 13,
   "metadata": {},
   "outputs": [
    {
     "data": {
      "text/html": [
       "<div>\n",
       "<style scoped>\n",
       "    .dataframe tbody tr th:only-of-type {\n",
       "        vertical-align: middle;\n",
       "    }\n",
       "\n",
       "    .dataframe tbody tr th {\n",
       "        vertical-align: top;\n",
       "    }\n",
       "\n",
       "    .dataframe thead th {\n",
       "        text-align: right;\n",
       "    }\n",
       "</style>\n",
       "<table border=\"1\" class=\"dataframe\">\n",
       "  <thead>\n",
       "    <tr style=\"text-align: right;\">\n",
       "      <th></th>\n",
       "      <th>sufijo</th>\n",
       "      <th>nombre</th>\n",
       "      <th>tipo_de_sala</th>\n",
       "      <th>id_usuario</th>\n",
       "      <th>genero</th>\n",
       "      <th>edad</th>\n",
       "      <th>amigos</th>\n",
       "      <th>parientes</th>\n",
       "      <th>id_ticket</th>\n",
       "      <th>precio_ticket</th>\n",
       "      <th>fila</th>\n",
       "      <th>nombre_sede</th>\n",
       "    </tr>\n",
       "  </thead>\n",
       "  <tbody>\n",
       "    <tr>\n",
       "      <th>0</th>\n",
       "      <td>Señor</td>\n",
       "      <td>Camilo Pedro</td>\n",
       "      <td>4d</td>\n",
       "      <td>117</td>\n",
       "      <td>hombre</td>\n",
       "      <td>73.0</td>\n",
       "      <td>0</td>\n",
       "      <td>0</td>\n",
       "      <td>59258;</td>\n",
       "      <td>1</td>\n",
       "      <td>No responde</td>\n",
       "      <td>fiumark_quilmes</td>\n",
       "    </tr>\n",
       "    <tr>\n",
       "      <th>1</th>\n",
       "      <td>Señora</td>\n",
       "      <td>Raquel Angelica</td>\n",
       "      <td>4d</td>\n",
       "      <td>658</td>\n",
       "      <td>mujer</td>\n",
       "      <td>35.0</td>\n",
       "      <td>1</td>\n",
       "      <td>1</td>\n",
       "      <td>586:6;</td>\n",
       "      <td>2</td>\n",
       "      <td>No responde</td>\n",
       "      <td>fiumark_quilmes</td>\n",
       "    </tr>\n",
       "    <tr>\n",
       "      <th>2</th>\n",
       "      <td>Señor</td>\n",
       "      <td>Antonio Federico</td>\n",
       "      <td>normal</td>\n",
       "      <td>794</td>\n",
       "      <td>hombre</td>\n",
       "      <td>NaN</td>\n",
       "      <td>0</td>\n",
       "      <td>0</td>\n",
       "      <td>RE\"39822</td>\n",
       "      <td>3</td>\n",
       "      <td>No responde</td>\n",
       "      <td>fiumark_chacarita</td>\n",
       "    </tr>\n",
       "    <tr>\n",
       "      <th>3</th>\n",
       "      <td>Señor</td>\n",
       "      <td>Osvaldo Aureliano</td>\n",
       "      <td>4d</td>\n",
       "      <td>455</td>\n",
       "      <td>hombre</td>\n",
       "      <td>NaN</td>\n",
       "      <td>0</td>\n",
       "      <td>0</td>\n",
       "      <td>C17\"4:39</td>\n",
       "      <td>1</td>\n",
       "      <td>No responde</td>\n",
       "      <td>fiumark_palermo</td>\n",
       "    </tr>\n",
       "    <tr>\n",
       "      <th>4</th>\n",
       "      <td>Señorita</td>\n",
       "      <td>Rita Eudosia</td>\n",
       "      <td>4d</td>\n",
       "      <td>173</td>\n",
       "      <td>mujer</td>\n",
       "      <td>4.0</td>\n",
       "      <td>1</td>\n",
       "      <td>1</td>\n",
       "      <td>569964</td>\n",
       "      <td>2</td>\n",
       "      <td>No responde</td>\n",
       "      <td>fiumark_palermo</td>\n",
       "    </tr>\n",
       "    <tr>\n",
       "      <th>...</th>\n",
       "      <td>...</td>\n",
       "      <td>...</td>\n",
       "      <td>...</td>\n",
       "      <td>...</td>\n",
       "      <td>...</td>\n",
       "      <td>...</td>\n",
       "      <td>...</td>\n",
       "      <td>...</td>\n",
       "      <td>...</td>\n",
       "      <td>...</td>\n",
       "      <td>...</td>\n",
       "      <td>...</td>\n",
       "    </tr>\n",
       "    <tr>\n",
       "      <th>796</th>\n",
       "      <td>Señor</td>\n",
       "      <td>Bernardo Melesio</td>\n",
       "      <td>normal</td>\n",
       "      <td>448</td>\n",
       "      <td>hombre</td>\n",
       "      <td>37.0</td>\n",
       "      <td>0</td>\n",
       "      <td>0</td>\n",
       "      <td>3359;6</td>\n",
       "      <td>3</td>\n",
       "      <td>No responde</td>\n",
       "      <td>fiumark_palermo</td>\n",
       "    </tr>\n",
       "    <tr>\n",
       "      <th>797</th>\n",
       "      <td>Señorita</td>\n",
       "      <td>Lidia Catalina</td>\n",
       "      <td>3d</td>\n",
       "      <td>636</td>\n",
       "      <td>mujer</td>\n",
       "      <td>31.0</td>\n",
       "      <td>0</td>\n",
       "      <td>0</td>\n",
       "      <td>45988:</td>\n",
       "      <td>2</td>\n",
       "      <td>No responde</td>\n",
       "      <td>fiumark_palermo</td>\n",
       "    </tr>\n",
       "    <tr>\n",
       "      <th>798</th>\n",
       "      <td>Señor</td>\n",
       "      <td>Arturo Antenor</td>\n",
       "      <td>4d</td>\n",
       "      <td>848</td>\n",
       "      <td>hombre</td>\n",
       "      <td>38.0</td>\n",
       "      <td>0</td>\n",
       "      <td>0</td>\n",
       "      <td>56;435</td>\n",
       "      <td>1</td>\n",
       "      <td>No responde</td>\n",
       "      <td>fiumark_chacarita</td>\n",
       "    </tr>\n",
       "    <tr>\n",
       "      <th>799</th>\n",
       "      <td>Señorita</td>\n",
       "      <td>Natividad Sofia</td>\n",
       "      <td>3d</td>\n",
       "      <td>304</td>\n",
       "      <td>mujer</td>\n",
       "      <td>NaN</td>\n",
       "      <td>0</td>\n",
       "      <td>0</td>\n",
       "      <td>4487;5</td>\n",
       "      <td>2</td>\n",
       "      <td>adelante</td>\n",
       "      <td>fiumark_quilmes</td>\n",
       "    </tr>\n",
       "    <tr>\n",
       "      <th>800</th>\n",
       "      <td>Señor</td>\n",
       "      <td>Isidoro Sebastian</td>\n",
       "      <td>4d</td>\n",
       "      <td>385</td>\n",
       "      <td>hombre</td>\n",
       "      <td>NaN</td>\n",
       "      <td>0</td>\n",
       "      <td>0</td>\n",
       "      <td>56;449</td>\n",
       "      <td>1</td>\n",
       "      <td>No responde</td>\n",
       "      <td>fiumark_palermo</td>\n",
       "    </tr>\n",
       "  </tbody>\n",
       "</table>\n",
       "<p>801 rows × 12 columns</p>\n",
       "</div>"
      ],
      "text/plain": [
       "       sufijo             nombre tipo_de_sala  id_usuario  genero  edad  \\\n",
       "0       Señor       Camilo Pedro           4d         117  hombre  73.0   \n",
       "1      Señora    Raquel Angelica           4d         658   mujer  35.0   \n",
       "2       Señor   Antonio Federico       normal         794  hombre   NaN   \n",
       "3       Señor  Osvaldo Aureliano           4d         455  hombre   NaN   \n",
       "4    Señorita       Rita Eudosia           4d         173   mujer   4.0   \n",
       "..        ...                ...          ...         ...     ...   ...   \n",
       "796     Señor   Bernardo Melesio       normal         448  hombre  37.0   \n",
       "797  Señorita     Lidia Catalina           3d         636   mujer  31.0   \n",
       "798     Señor     Arturo Antenor           4d         848  hombre  38.0   \n",
       "799  Señorita    Natividad Sofia           3d         304   mujer   NaN   \n",
       "800     Señor  Isidoro Sebastian           4d         385  hombre   NaN   \n",
       "\n",
       "     amigos  parientes id_ticket  precio_ticket         fila  \\\n",
       "0         0          0    59258;              1  No responde   \n",
       "1         1          1    586:6;              2  No responde   \n",
       "2         0          0  RE\"39822              3  No responde   \n",
       "3         0          0  C17\"4:39              1  No responde   \n",
       "4         1          1    569964              2  No responde   \n",
       "..      ...        ...       ...            ...          ...   \n",
       "796       0          0    3359;6              3  No responde   \n",
       "797       0          0    45988:              2  No responde   \n",
       "798       0          0    56;435              1  No responde   \n",
       "799       0          0    4487;5              2     adelante   \n",
       "800       0          0    56;449              1  No responde   \n",
       "\n",
       "           nombre_sede  \n",
       "0      fiumark_quilmes  \n",
       "1      fiumark_quilmes  \n",
       "2    fiumark_chacarita  \n",
       "3      fiumark_palermo  \n",
       "4      fiumark_palermo  \n",
       "..                 ...  \n",
       "796    fiumark_palermo  \n",
       "797    fiumark_palermo  \n",
       "798  fiumark_chacarita  \n",
       "799    fiumark_quilmes  \n",
       "800    fiumark_palermo  \n",
       "\n",
       "[801 rows x 12 columns]"
      ]
     },
     "execution_count": 13,
     "metadata": {},
     "output_type": "execute_result"
    }
   ],
   "source": [
    "info_fiumark_df"
   ]
  },
  {
   "cell_type": "markdown",
   "metadata": {},
   "source": [
    "Ahora reemplazamos la edad de las 'Señoras' que no contestaron la edad por la mediana de las que si contestaron. Hacemos lo mismo para las 'Señoritas'\n",
    "\n",
    "Ademas creamos una columna 'autocompletamos_edad' para indicar cuales de estas edades fueron completadas por nosotros"
   ]
  },
  {
   "cell_type": "code",
   "execution_count": 14,
   "metadata": {},
   "outputs": [],
   "source": [
    "mediana_edad_senioras = info_fiumark_df[info_fiumark_df['sufijo'] == 'Señora'].edad.dropna().median()\n",
    "mediana_edad_senioritas = info_fiumark_df[info_fiumark_df['sufijo'] == 'Señorita'].edad.dropna().median()"
   ]
  },
  {
   "cell_type": "code",
   "execution_count": 15,
   "metadata": {},
   "outputs": [],
   "source": [
    "info_fiumark_df['autocompletamos_edad'] = False"
   ]
  },
  {
   "cell_type": "code",
   "execution_count": 16,
   "metadata": {},
   "outputs": [],
   "source": [
    "info_fiumark_df.loc[(info_fiumark_df['sufijo'] == 'Señora') & (info_fiumark_df['edad'].isnull()),'autocompletamos_edad'] = True\n",
    "info_fiumark_df.loc[(info_fiumark_df['sufijo'] == 'Señorita') & (info_fiumark_df['edad'].isnull()),'autocompletamos_edad'] = True"
   ]
  },
  {
   "cell_type": "code",
   "execution_count": 17,
   "metadata": {},
   "outputs": [],
   "source": [
    "info_fiumark_df.loc[info_fiumark_df['sufijo'] == 'Señorita','edad'] = info_fiumark_df.loc[info_fiumark_df['sufijo'] == 'Señorita','edad'].fillna(mediana_edad_senioritas)\n",
    "info_fiumark_df.loc[info_fiumark_df['sufijo'] == 'Señora','edad'] = info_fiumark_df.loc[info_fiumark_df['sufijo'] == 'Señora','edad'].fillna(mediana_edad_senioras) "
   ]
  },
  {
   "cell_type": "markdown",
   "metadata": {
    "id": "YUv4nA73MuhE"
   },
   "source": [
    "Tambien observamos que entre los datos que nos fueron entregados se encuentra el codigo de ticket: \"id_ticket\". Consideramos\n",
    "que la informacion en ella es irrelevante para nuestros propositos y por lo tanto la eliminamos. Esta decision se debe a que parece que el codigo del ticket tiene forma de ser generada de forma aleatoria y no da la impresion de estar relacionada con la variable de interes (si volveria) para el analisis."
   ]
  },
  {
   "cell_type": "code",
   "execution_count": 18,
   "metadata": {
    "id": "3Y7d9mFhZmGY"
   },
   "outputs": [],
   "source": [
    "info_fiumark_df.drop(columns='id_ticket',inplace=True)"
   ]
  },
  {
   "cell_type": "markdown",
   "metadata": {
    "id": "6c88G25mYkD4"
   },
   "source": [
    "Habiendo hecho esos cambios, finalmente nos queda el dataframe de la siguiente forma. En el proceso se redujo el uso de memoria, pasando de 69.0KB a 41.2KB."
   ]
  },
  {
   "cell_type": "code",
   "execution_count": 19,
   "metadata": {
    "colab": {
     "base_uri": "https://localhost:8080/",
     "height": 306
    },
    "id": "G9eDYU86MWOu",
    "outputId": "374a195d-092e-47ce-ed56-4380fec27709"
   },
   "outputs": [
    {
     "name": "stdout",
     "output_type": "stream",
     "text": [
      "<class 'pandas.core.frame.DataFrame'>\n",
      "RangeIndex: 801 entries, 0 to 800\n",
      "Data columns (total 12 columns):\n",
      " #   Column                Non-Null Count  Dtype   \n",
      "---  ------                --------------  -----   \n",
      " 0   sufijo                801 non-null    object  \n",
      " 1   nombre                801 non-null    object  \n",
      " 2   tipo_de_sala          801 non-null    category\n",
      " 3   id_usuario            801 non-null    int64   \n",
      " 4   genero                801 non-null    category\n",
      " 5   edad                  687 non-null    float64 \n",
      " 6   amigos                801 non-null    int64   \n",
      " 7   parientes             801 non-null    int64   \n",
      " 8   precio_ticket         801 non-null    int64   \n",
      " 9   fila                  801 non-null    category\n",
      " 10  nombre_sede           799 non-null    category\n",
      " 11  autocompletamos_edad  801 non-null    bool    \n",
      "dtypes: bool(1), category(4), float64(1), int64(4), object(2)\n",
      "memory usage: 48.2+ KB\n"
     ]
    }
   ],
   "source": [
    "info_fiumark_df.info()"
   ]
  },
  {
   "cell_type": "code",
   "execution_count": 20,
   "metadata": {
    "colab": {
     "base_uri": "https://localhost:8080/",
     "height": 204
    },
    "id": "L9J4tEH9W0qI",
    "outputId": "6039aecd-a19e-46b3-dc5f-01262379b4c7"
   },
   "outputs": [
    {
     "data": {
      "text/html": [
       "<div>\n",
       "<style scoped>\n",
       "    .dataframe tbody tr th:only-of-type {\n",
       "        vertical-align: middle;\n",
       "    }\n",
       "\n",
       "    .dataframe tbody tr th {\n",
       "        vertical-align: top;\n",
       "    }\n",
       "\n",
       "    .dataframe thead th {\n",
       "        text-align: right;\n",
       "    }\n",
       "</style>\n",
       "<table border=\"1\" class=\"dataframe\">\n",
       "  <thead>\n",
       "    <tr style=\"text-align: right;\">\n",
       "      <th></th>\n",
       "      <th>sufijo</th>\n",
       "      <th>nombre</th>\n",
       "      <th>tipo_de_sala</th>\n",
       "      <th>id_usuario</th>\n",
       "      <th>genero</th>\n",
       "      <th>edad</th>\n",
       "      <th>amigos</th>\n",
       "      <th>parientes</th>\n",
       "      <th>precio_ticket</th>\n",
       "      <th>fila</th>\n",
       "      <th>nombre_sede</th>\n",
       "      <th>autocompletamos_edad</th>\n",
       "    </tr>\n",
       "  </thead>\n",
       "  <tbody>\n",
       "    <tr>\n",
       "      <th>0</th>\n",
       "      <td>Señor</td>\n",
       "      <td>Camilo Pedro</td>\n",
       "      <td>4d</td>\n",
       "      <td>117</td>\n",
       "      <td>hombre</td>\n",
       "      <td>73.0</td>\n",
       "      <td>0</td>\n",
       "      <td>0</td>\n",
       "      <td>1</td>\n",
       "      <td>No responde</td>\n",
       "      <td>fiumark_quilmes</td>\n",
       "      <td>False</td>\n",
       "    </tr>\n",
       "    <tr>\n",
       "      <th>1</th>\n",
       "      <td>Señora</td>\n",
       "      <td>Raquel Angelica</td>\n",
       "      <td>4d</td>\n",
       "      <td>658</td>\n",
       "      <td>mujer</td>\n",
       "      <td>35.0</td>\n",
       "      <td>1</td>\n",
       "      <td>1</td>\n",
       "      <td>2</td>\n",
       "      <td>No responde</td>\n",
       "      <td>fiumark_quilmes</td>\n",
       "      <td>False</td>\n",
       "    </tr>\n",
       "    <tr>\n",
       "      <th>2</th>\n",
       "      <td>Señor</td>\n",
       "      <td>Antonio Federico</td>\n",
       "      <td>normal</td>\n",
       "      <td>794</td>\n",
       "      <td>hombre</td>\n",
       "      <td>NaN</td>\n",
       "      <td>0</td>\n",
       "      <td>0</td>\n",
       "      <td>3</td>\n",
       "      <td>No responde</td>\n",
       "      <td>fiumark_chacarita</td>\n",
       "      <td>False</td>\n",
       "    </tr>\n",
       "    <tr>\n",
       "      <th>3</th>\n",
       "      <td>Señor</td>\n",
       "      <td>Osvaldo Aureliano</td>\n",
       "      <td>4d</td>\n",
       "      <td>455</td>\n",
       "      <td>hombre</td>\n",
       "      <td>NaN</td>\n",
       "      <td>0</td>\n",
       "      <td>0</td>\n",
       "      <td>1</td>\n",
       "      <td>No responde</td>\n",
       "      <td>fiumark_palermo</td>\n",
       "      <td>False</td>\n",
       "    </tr>\n",
       "    <tr>\n",
       "      <th>4</th>\n",
       "      <td>Señorita</td>\n",
       "      <td>Rita Eudosia</td>\n",
       "      <td>4d</td>\n",
       "      <td>173</td>\n",
       "      <td>mujer</td>\n",
       "      <td>4.0</td>\n",
       "      <td>1</td>\n",
       "      <td>1</td>\n",
       "      <td>2</td>\n",
       "      <td>No responde</td>\n",
       "      <td>fiumark_palermo</td>\n",
       "      <td>False</td>\n",
       "    </tr>\n",
       "  </tbody>\n",
       "</table>\n",
       "</div>"
      ],
      "text/plain": [
       "     sufijo             nombre tipo_de_sala  id_usuario  genero  edad  amigos  \\\n",
       "0     Señor       Camilo Pedro           4d         117  hombre  73.0       0   \n",
       "1    Señora    Raquel Angelica           4d         658   mujer  35.0       1   \n",
       "2     Señor   Antonio Federico       normal         794  hombre   NaN       0   \n",
       "3     Señor  Osvaldo Aureliano           4d         455  hombre   NaN       0   \n",
       "4  Señorita       Rita Eudosia           4d         173   mujer   4.0       1   \n",
       "\n",
       "   parientes  precio_ticket         fila        nombre_sede  \\\n",
       "0          0              1  No responde    fiumark_quilmes   \n",
       "1          1              2  No responde    fiumark_quilmes   \n",
       "2          0              3  No responde  fiumark_chacarita   \n",
       "3          0              1  No responde    fiumark_palermo   \n",
       "4          1              2  No responde    fiumark_palermo   \n",
       "\n",
       "   autocompletamos_edad  \n",
       "0                 False  \n",
       "1                 False  \n",
       "2                 False  \n",
       "3                 False  \n",
       "4                 False  "
      ]
     },
     "execution_count": 20,
     "metadata": {},
     "output_type": "execute_result"
    }
   ],
   "source": [
    "info_fiumark_df.head()"
   ]
  },
  {
   "cell_type": "markdown",
   "metadata": {
    "id": "ZtiDONfHhJWI"
   },
   "source": [
    "Por ultimo, dejamos unidos ambos dataframes."
   ]
  },
  {
   "cell_type": "code",
   "execution_count": 21,
   "metadata": {
    "colab": {
     "base_uri": "https://localhost:8080/",
     "height": 204
    },
    "id": "H_3rfm0tglxY",
    "outputId": "c07acc12-1247-44a2-c095-affdf71a8fba"
   },
   "outputs": [
    {
     "data": {
      "text/html": [
       "<div>\n",
       "<style scoped>\n",
       "    .dataframe tbody tr th:only-of-type {\n",
       "        vertical-align: middle;\n",
       "    }\n",
       "\n",
       "    .dataframe tbody tr th {\n",
       "        vertical-align: top;\n",
       "    }\n",
       "\n",
       "    .dataframe thead th {\n",
       "        text-align: right;\n",
       "    }\n",
       "</style>\n",
       "<table border=\"1\" class=\"dataframe\">\n",
       "  <thead>\n",
       "    <tr style=\"text-align: right;\">\n",
       "      <th></th>\n",
       "      <th>sufijo</th>\n",
       "      <th>nombre</th>\n",
       "      <th>tipo_de_sala</th>\n",
       "      <th>id_usuario</th>\n",
       "      <th>genero</th>\n",
       "      <th>edad</th>\n",
       "      <th>amigos</th>\n",
       "      <th>parientes</th>\n",
       "      <th>precio_ticket</th>\n",
       "      <th>fila</th>\n",
       "      <th>nombre_sede</th>\n",
       "      <th>autocompletamos_edad</th>\n",
       "      <th>volveria</th>\n",
       "    </tr>\n",
       "  </thead>\n",
       "  <tbody>\n",
       "    <tr>\n",
       "      <th>0</th>\n",
       "      <td>Señor</td>\n",
       "      <td>Camilo Pedro</td>\n",
       "      <td>4d</td>\n",
       "      <td>117</td>\n",
       "      <td>hombre</td>\n",
       "      <td>73.0</td>\n",
       "      <td>0</td>\n",
       "      <td>0</td>\n",
       "      <td>1</td>\n",
       "      <td>No responde</td>\n",
       "      <td>fiumark_quilmes</td>\n",
       "      <td>False</td>\n",
       "      <td>0</td>\n",
       "    </tr>\n",
       "    <tr>\n",
       "      <th>1</th>\n",
       "      <td>Señora</td>\n",
       "      <td>Raquel Angelica</td>\n",
       "      <td>4d</td>\n",
       "      <td>658</td>\n",
       "      <td>mujer</td>\n",
       "      <td>35.0</td>\n",
       "      <td>1</td>\n",
       "      <td>1</td>\n",
       "      <td>2</td>\n",
       "      <td>No responde</td>\n",
       "      <td>fiumark_quilmes</td>\n",
       "      <td>False</td>\n",
       "      <td>0</td>\n",
       "    </tr>\n",
       "    <tr>\n",
       "      <th>2</th>\n",
       "      <td>Señor</td>\n",
       "      <td>Antonio Federico</td>\n",
       "      <td>normal</td>\n",
       "      <td>794</td>\n",
       "      <td>hombre</td>\n",
       "      <td>NaN</td>\n",
       "      <td>0</td>\n",
       "      <td>0</td>\n",
       "      <td>3</td>\n",
       "      <td>No responde</td>\n",
       "      <td>fiumark_chacarita</td>\n",
       "      <td>False</td>\n",
       "      <td>0</td>\n",
       "    </tr>\n",
       "    <tr>\n",
       "      <th>3</th>\n",
       "      <td>Señor</td>\n",
       "      <td>Osvaldo Aureliano</td>\n",
       "      <td>4d</td>\n",
       "      <td>455</td>\n",
       "      <td>hombre</td>\n",
       "      <td>NaN</td>\n",
       "      <td>0</td>\n",
       "      <td>0</td>\n",
       "      <td>1</td>\n",
       "      <td>No responde</td>\n",
       "      <td>fiumark_palermo</td>\n",
       "      <td>False</td>\n",
       "      <td>0</td>\n",
       "    </tr>\n",
       "    <tr>\n",
       "      <th>4</th>\n",
       "      <td>Señorita</td>\n",
       "      <td>Rita Eudosia</td>\n",
       "      <td>4d</td>\n",
       "      <td>173</td>\n",
       "      <td>mujer</td>\n",
       "      <td>4.0</td>\n",
       "      <td>1</td>\n",
       "      <td>1</td>\n",
       "      <td>2</td>\n",
       "      <td>No responde</td>\n",
       "      <td>fiumark_palermo</td>\n",
       "      <td>False</td>\n",
       "      <td>1</td>\n",
       "    </tr>\n",
       "  </tbody>\n",
       "</table>\n",
       "</div>"
      ],
      "text/plain": [
       "     sufijo             nombre tipo_de_sala  id_usuario  genero  edad  amigos  \\\n",
       "0     Señor       Camilo Pedro           4d         117  hombre  73.0       0   \n",
       "1    Señora    Raquel Angelica           4d         658   mujer  35.0       1   \n",
       "2     Señor   Antonio Federico       normal         794  hombre   NaN       0   \n",
       "3     Señor  Osvaldo Aureliano           4d         455  hombre   NaN       0   \n",
       "4  Señorita       Rita Eudosia           4d         173   mujer   4.0       1   \n",
       "\n",
       "   parientes  precio_ticket         fila        nombre_sede  \\\n",
       "0          0              1  No responde    fiumark_quilmes   \n",
       "1          1              2  No responde    fiumark_quilmes   \n",
       "2          0              3  No responde  fiumark_chacarita   \n",
       "3          0              1  No responde    fiumark_palermo   \n",
       "4          1              2  No responde    fiumark_palermo   \n",
       "\n",
       "   autocompletamos_edad  volveria  \n",
       "0                 False         0  \n",
       "1                 False         0  \n",
       "2                 False         0  \n",
       "3                 False         0  \n",
       "4                 False         1  "
      ]
     },
     "execution_count": 21,
     "metadata": {},
     "output_type": "execute_result"
    }
   ],
   "source": [
    "info_fiumark_df = info_fiumark_df.merge(usuario_volveria_df,on='id_usuario')\n",
    "info_fiumark_df.head()"
   ]
  },
  {
   "cell_type": "markdown",
   "metadata": {
    "id": "iuV3s3jjfMAo"
   },
   "source": [
    "## Analisis exploratorio"
   ]
  },
  {
   "cell_type": "markdown",
   "metadata": {
    "id": "jd7RjcsQff_m"
   },
   "source": [
    "Empecemos el analisis haciendonos algunas preguntas sencillas, y en cada caso si es que surge alguna nueva pregunta interesante se continuara su desarrollo en esa seccion.  \n",
    "* ¿Es el genero una variable determinante a la hora de decidir ver la secuela?\n",
    "* ¿Como es la relacion con la edad?\n",
    "* ¿Afecta en algo el ir a ditintos tipos de sala la decision?\n",
    "* ¿Hay mas gente que iria a la secuela si fue a una sede en particular?\n",
    "* ¿El precio fue determinante?\n",
    "* ¿La ubicacion en la sala importa?\n"
   ]
  },
  {
   "cell_type": "markdown",
   "metadata": {},
   "source": [
    "### ¿Cuanto afecta el genero a la hora de ir a ver la siguiente pelicula?"
   ]
  },
  {
   "cell_type": "markdown",
   "metadata": {},
   "source": [
    "Veamos primero que proporcion de las personas que fueron a ver la pelicula son hombres y que proporcion mujeres:"
   ]
  },
  {
   "cell_type": "code",
   "execution_count": 22,
   "metadata": {},
   "outputs": [
    {
     "data": {
      "image/png": "[encoded data removed]",
      "text/plain": [
       "<Figure size 640x480 with 1 Axes>"
      ]
     },
     "metadata": {},
     "output_type": "display_data"
    }
   ],
   "source": [
    "plt.figure(figsize=(6.4, 4.8), dpi=100)\n",
    "genero = info_fiumark_df['genero'].value_counts().sort_index().plot(kind='pie', autopct='%1.0f%%')\n",
    "plt.suptitle('Proporcion del genero que fueron a ver la pelicula y respondieron la encuesta')\n",
    "plt.show()"
   ]
  },
  {
   "cell_type": "markdown",
   "metadata": {},
   "source": [
    "Observamos que casi dos tercios de las personas que fueron a ver la pelicula son hombres y un tercio mujeres.\n",
    "Si bien a primera vista esto parece indicar que la pelicula atrae mas a hombres que a mujeres debemos analizar si\n",
    "estos hombres y mujeres disfrutaron la pelicula lo suficiente como para volver a verla."
   ]
  },
  {
   "cell_type": "markdown",
   "metadata": {},
   "source": [
    "Buscamos ver ahora que proporcion de los hombres y mujeres que fueron a ver la pelicula volverian a ver la secuela. Esto se puede obtener de forma sencilla."
   ]
  },
  {
   "cell_type": "markdown",
   "metadata": {},
   "source": [
    "A priori esperamos que la proporcion de mujeres que deciden ir a ver la secuela sea mucho mayor que la de los hombres que fueron a ver la pelicula."
   ]
  },
  {
   "cell_type": "code",
   "execution_count": 23,
   "metadata": {},
   "outputs": [
    {
     "data": {
      "text/plain": [
       "genero\n",
       "hombre    0.18\n",
       "mujer     0.74\n",
       "Name: volveria, dtype: float64"
      ]
     },
     "execution_count": 23,
     "metadata": {},
     "output_type": "execute_result"
    }
   ],
   "source": [
    "porcentaje_generos_volveria = info_fiumark_df.groupby(by='genero')['volveria'].agg('mean')\n",
    "porcentaje_generos_volveria.round(2)"
   ]
  },
  {
   "cell_type": "markdown",
   "metadata": {},
   "source": [
    "Habiendo hecho el calculo, en los numeros se ve claramente lo esperado."
   ]
  },
  {
   "cell_type": "code",
   "execution_count": 24,
   "metadata": {},
   "outputs": [
    {
     "data": {
      "image/png": "[encoded data removed]",
      "text/plain": [
       "<Figure size 432x288 with 1 Axes>"
      ]
     },
     "metadata": {
      "needs_background": "light"
     },
     "output_type": "display_data"
    }
   ],
   "source": [
    "porcentaje_genero_volveria = info_fiumark_df.groupby(by='genero')['volveria'].agg('mean')\n",
    "plt.bar(porcentaje_genero_volveria.index, porcentaje_genero_volveria.values, color = ['cornflowerblue','lightpink'])\n",
    "plt.ylabel(\"Porcentaje\")\n",
    "plt.xlabel(\"Genero\")\n",
    "plt.ylim(0, 1)\n",
    "plt.title('Porcentaje de hombre y mujeres que irian a ver la secuela')\n",
    "plt.show()"
   ]
  },
  {
   "cell_type": "markdown",
   "metadata": {},
   "source": [
    "El grafico nos dice que del total de mujeres que fue a ver la pelicula un 74% de ellas volveria a ver la secuela. Mientras que solo el 18% de los hombres consideraron que la pelicula disfruto la pelicula lo suficiente como para querer ir a ver la secuela."
   ]
  },
  {
   "cell_type": "markdown",
   "metadata": {},
   "source": [
    "#### ¿Por que hubo tantos hombres fueron incialmente a ver la pelicula?"
   ]
  },
  {
   "cell_type": "markdown",
   "metadata": {},
   "source": [
    "Estas observaciones nos hicieron preguntarnos esta pregunta. Nuestra hipotesis es que pueden ser padres que llevaron a sus hijos a ver la pelicula."
   ]
  },
  {
   "cell_type": "markdown",
   "metadata": {},
   "source": [
    "Para responder esta pregunta buscamos primero ver la distribucion de las edades de los hombres y las mujeres, para ello realizamos un boxplot."
   ]
  },
  {
   "cell_type": "code",
   "execution_count": 25,
   "metadata": {},
   "outputs": [
    {
     "data": {
      "image/png": "[encoded data removed]",
      "text/plain": [
       "<Figure size 600x400 with 1 Axes>"
      ]
     },
     "metadata": {
      "needs_background": "light"
     },
     "output_type": "display_data"
    }
   ],
   "source": [
    "plt.figure(dpi=100)\n",
    "\n",
    "plt.title(\"Edades por genero\")\n",
    "sns.boxplot(\n",
    "    data= info_fiumark_df[['genero','edad']],\n",
    "    y='edad',\n",
    "    x='genero',\n",
    "    palette=['#D17049', \"#89D15E\"],\n",
    ")\n",
    "plt.ylabel(\"Edad\")\n",
    "plt.xticks([False, True])\n",
    "plt.show()"
   ]
  },
  {
   "cell_type": "markdown",
   "metadata": {
    "pycharm": {
     "name": "#%% md\n"
    }
   },
   "source": [
    "Podemos ver que la edad mediana de los hombres que fueron a ver la pelicula es ligeramente mayor, y que el 50% de la poblacion de los hombres se ubica en edades mayores que la de las mujeres. Seguimos investigando con respeto a si llevaron parientes, para obtener una mejor idea."
   ]
  },
  {
   "cell_type": "code",
   "execution_count": 26,
   "metadata": {},
   "outputs": [],
   "source": [
    "def estratificar_edades(edad):\n",
    "    if(edad <= 10):\n",
    "        return 'ninio'\n",
    "    elif(edad <=25):\n",
    "        return 'joven'\n",
    "    elif(edad <= 50):\n",
    "        return 'adulto'\n",
    "    return 'mayor'"
   ]
  },
  {
   "cell_type": "code",
   "execution_count": 27,
   "metadata": {},
   "outputs": [],
   "source": [
    "edades_estratificadas = info_fiumark_df['edad'].apply(estratificar_edades) \n",
    "info_fiumark_df['edades_estratificadas'] = edades_estratificadas"
   ]
  },
  {
   "cell_type": "code",
   "execution_count": 28,
   "metadata": {},
   "outputs": [
    {
     "data": {
      "text/plain": [
       "<AxesSubplot:xlabel='edades_estratificadas', ylabel='parientes'>"
      ]
     },
     "execution_count": 28,
     "metadata": {},
     "output_type": "execute_result"
    },
    {
     "data": {
      "image/png": "[encoded data removed]",
      "text/plain": [
       "<Figure size 576x504 with 2 Axes>"
      ]
     },
     "metadata": {},
     "output_type": "display_data"
    }
   ],
   "source": [
    "sns.set(rc={'figure.figsize':(8,7)})\n",
    "parientes_edad = pd.pivot_table(data = info_fiumark_df, index = 'parientes', values = 'volveria', columns = 'edades_estratificadas')\n",
    "parientes_edad.sort_index(ascending =  False, inplace = True)\n",
    "parientes_edad = parientes_edad.reindex( ['ninio', 'joven' ,'adulto', 'mayor'],axis = 1)\n",
    "\n",
    "mascara = parientes_edad.isnull()\n",
    "sns.heatmap(parientes_edad, mask = mascara, cmap=\"YlGnBu\")"
   ]
  },
  {
   "cell_type": "markdown",
   "metadata": {},
   "source": [
    "En el grafico anterior podemos ver como se se relacionan los parientes y la edad con su decision de volver al cine. Observamos que los ninios son los que mas volverian. Ademas tanto ninios como jovenes parecen volver con mayor probabilidad si fueron con menos parientes. \n",
    "\n",
    "En el heatmap pareceria que un 100% de los ninios que fueron sin parientes volveria a ver la secuela. Lo mismo observamos para los adultos que fueron acompaniados por exactamente 3 parientes. Esto nos lleva a querer saber cuantas personas en estas categorias efectivamente volverian para saber si son una cantidad representativa."
   ]
  },
  {
   "cell_type": "code",
   "execution_count": 29,
   "metadata": {},
   "outputs": [
    {
     "data": {
      "text/plain": [
       "1"
      ]
     },
     "execution_count": 29,
     "metadata": {},
     "output_type": "execute_result"
    }
   ],
   "source": [
    "info_fiumark_df.loc[(info_fiumark_df['edades_estratificadas'] == 'ninio')  & (info_fiumark_df['parientes'] == 0),'nombre'].count()"
   ]
  },
  {
   "cell_type": "markdown",
   "metadata": {},
   "source": [
    "Observamos que solo un ninio no fue con parientes y fue encuestado por lo que consideramos que esto no es una muestra representativa. Veamos ahora el caso de los adultos que fueron con 3 parientes."
   ]
  },
  {
   "cell_type": "code",
   "execution_count": 30,
   "metadata": {},
   "outputs": [
    {
     "data": {
      "text/plain": [
       "2"
      ]
     },
     "execution_count": 30,
     "metadata": {},
     "output_type": "execute_result"
    }
   ],
   "source": [
    "info_fiumark_df.loc[(info_fiumark_df['edades_estratificadas'] == 'adulto')  & (info_fiumark_df['parientes'] == 3), 'nombre'].count()"
   ]
  },
  {
   "cell_type": "markdown",
   "metadata": {},
   "source": [
    "Lo mismo que sucede en el caso anterior. Solo tenemos 2 personas que cumplen estas condiciones por lo que no nos \n",
    "parece suficiente para sacar alguna conclusion de estas."
   ]
  },
  {
   "cell_type": "markdown",
   "metadata": {},
   "source": [
    "Podemos ver que las personas mayores de treinta no necesariamente fueron acompañandos de un pariente, ya que parece que tenemos varios casos en donde fueron sin uno.\n"
   ]
  },
  {
   "cell_type": "markdown",
   "metadata": {},
   "source": [
    "Veamos lo que nos habiamos propuesto de los padres."
   ]
  },
  {
   "cell_type": "code",
   "execution_count": 31,
   "metadata": {},
   "outputs": [],
   "source": [
    "mayor_a_treinta = info_fiumark_df['edad'] >= 30\n",
    "con_pariente = info_fiumark_df['parientes'] >= 1\n",
    "es_hombre = info_fiumark_df['genero'].str.contains('hombre')"
   ]
  },
  {
   "cell_type": "code",
   "execution_count": 32,
   "metadata": {},
   "outputs": [
    {
     "data": {
      "text/plain": [
       "27"
      ]
     },
     "execution_count": 32,
     "metadata": {},
     "output_type": "execute_result"
    }
   ],
   "source": [
    "info_fiumark_df.loc[mayor_a_treinta & con_pariente & es_hombre,'nombre'].count()"
   ]
  },
  {
   "cell_type": "code",
   "execution_count": 33,
   "metadata": {},
   "outputs": [
    {
     "data": {
      "text/plain": [
       "203"
      ]
     },
     "execution_count": 33,
     "metadata": {},
     "output_type": "execute_result"
    }
   ],
   "source": [
    "info_fiumark_df.loc[mayor_a_treinta & (~con_pariente) & es_hombre,'nombre'].count()"
   ]
  },
  {
   "cell_type": "markdown",
   "metadata": {},
   "source": [
    "Vemos que la cantidad de casos sin pariente de los hombres es muy mayor a la de los que suponemos deben de ser padres, por lo que descartamos la hipotesis.\n",
    "\n",
    "Para concluir la pregunta que nos habiamos planteado, pensamos que otro motivo por el que nos aparece que fueron mas hombres que mujeres, es que puede llegar a ser que los hombres simplemente fueron mas propensos a completar la encuesta que las mujeres."
   ]
  },
  {
   "cell_type": "markdown",
   "metadata": {},
   "source": [
    "Vemos como se distribuye la pregunta anterior de los niños en el caso de las mujeres."
   ]
  },
  {
   "cell_type": "code",
   "execution_count": 34,
   "metadata": {},
   "outputs": [
    {
     "data": {
      "text/plain": [
       "45"
      ]
     },
     "execution_count": 34,
     "metadata": {},
     "output_type": "execute_result"
    }
   ],
   "source": [
    "info_fiumark_df.loc[mayor_a_treinta & con_pariente & (~es_hombre),'nombre'].count()"
   ]
  },
  {
   "cell_type": "code",
   "execution_count": 35,
   "metadata": {},
   "outputs": [
    {
     "data": {
      "text/plain": [
       "92"
      ]
     },
     "execution_count": 35,
     "metadata": {},
     "output_type": "execute_result"
    }
   ],
   "source": [
    "info_fiumark_df.loc[mayor_a_treinta & (~con_pariente) & (~es_hombre),'nombre'].count()"
   ]
  },
  {
   "cell_type": "markdown",
   "metadata": {},
   "source": [
    "Notamos que parece una situacion mas \"equilibrada\" que en el caso de los hombres."
   ]
  },
  {
   "cell_type": "markdown",
   "metadata": {},
   "source": [
    "#### Niños y parientes"
   ]
  },
  {
   "cell_type": "markdown",
   "metadata": {
    "pycharm": {
     "name": "#%% md\n"
    }
   },
   "source": [
    "Una cosa que nos permitio ver el scatter plot anterior, es ver que los niños de entre 0 y 10 anios van acompañados por un adulto, algo que es esperable. Ademas los niños que fueron acompaniados por exactamente 1 adulto pareciera que disfrutaron mas la pelicula que los que fueron acopaniados por 2. Vemos cuan valida seria esta afirmacion viendo la cantidad de casos que tenemos cumpliendo esto."
   ]
  },
  {
   "cell_type": "code",
   "execution_count": 36,
   "metadata": {},
   "outputs": [],
   "source": [
    "menor_10_anios = info_fiumark_df['edad'] <= 10\n",
    "un_pariente = info_fiumark_df['parientes'] == 1\n",
    "dos_parientes = info_fiumark_df['parientes'] == 2\n",
    "vuelve = info_fiumark_df['volveria'] == 1\n"
   ]
  },
  {
   "cell_type": "code",
   "execution_count": 37,
   "metadata": {},
   "outputs": [],
   "source": [
    "cant_ninio_un_pariente_total = info_fiumark_df.loc[menor_10_anios & un_pariente,'nombre'].count() # Nos quedamos con cualquier fila, solo nos interesa saber cuantos son\n",
    "cant_ninio_un_pariente_vuelve = info_fiumark_df.loc[menor_10_anios & un_pariente & vuelve,'nombre'].count()\n",
    "cant_ninio_dos_pariente_total = info_fiumark_df.loc[menor_10_anios & dos_parientes,'nombre'].count()\n",
    "cant_ninio_dos_pariente_vuelve = info_fiumark_df.loc[menor_10_anios & dos_parientes & vuelve,'nombre'].count()"
   ]
  },
  {
   "cell_type": "code",
   "execution_count": 38,
   "metadata": {},
   "outputs": [
    {
     "name": "stdout",
     "output_type": "stream",
     "text": [
      "Menores a 10, con un pariente:  26\n",
      "Menores a 10, con un pariente que vuelven:  19\n",
      "Menores a 10, con un pariente:  15\n",
      "Menores a 10, con dos pariente que vuelven:  9\n"
     ]
    }
   ],
   "source": [
    "print(\"Menores a 10, con un pariente: \",cant_ninio_un_pariente_total)\n",
    "print(\"Menores a 10, con un pariente que vuelven: \",cant_ninio_un_pariente_vuelve)\n",
    "print(\"Menores a 10, con un pariente: \",cant_ninio_dos_pariente_total)\n",
    "print(\"Menores a 10, con dos pariente que vuelven: \",cant_ninio_dos_pariente_vuelve)"
   ]
  },
  {
   "cell_type": "markdown",
   "metadata": {},
   "source": [
    "Observamos que son pocos casos como para considerar que es algo muy determinante, sin embargo se ve que lo propuesto inicialmente con respecto a los niños se cumple."
   ]
  },
  {
   "cell_type": "markdown",
   "metadata": {},
   "source": [
    "### ¿Como es la relacion con la edad?"
   ]
  },
  {
   "cell_type": "markdown",
   "metadata": {},
   "source": [
    "Busquemos ahora como se distribuye la edad de las personas que respondieron la encuesta."
   ]
  },
  {
   "cell_type": "code",
   "execution_count": 39,
   "metadata": {},
   "outputs": [
    {
     "name": "stderr",
     "output_type": "stream",
     "text": [
      "/home/adrianstarly/anaconda3/lib/python3.8/site-packages/seaborn/distributions.py:2551: FutureWarning: `distplot` is a deprecated function and will be removed in a future version. Please adapt your code to use either `displot` (a figure-level function with similar flexibility) or `histplot` (an axes-level function for histograms).\n",
      "  warnings.warn(msg, FutureWarning)\n"
     ]
    },
    {
     "data": {
      "image/png": "[encoded data removed]",
      "text/plain": [
       "<Figure size 576x504 with 1 Axes>"
      ]
     },
     "metadata": {},
     "output_type": "display_data"
    }
   ],
   "source": [
    "sns.set(rc={'figure.figsize':(8,7)})\n",
    "g=sns.distplot( a=info_fiumark_df['edad'],\n",
    "             hist=True, kde=False, rug=False,\n",
    "             bins=40,\n",
    "             axlabel='Edad',\n",
    "             color='goldenrod')\n",
    "g.set_title('Distribucion de la edad de quienes respondieron la encuesta')\n",
    "\n",
    "plt.show()"
   ]
  },
  {
   "cell_type": "markdown",
   "metadata": {},
   "source": [
    "Vemos que la gran mayoria de los que respondieron la encuesta esta en el rango de entre 20 y 50 años de edad."
   ]
  },
  {
   "cell_type": "code",
   "execution_count": 40,
   "metadata": {},
   "outputs": [
    {
     "data": {
      "text/plain": [
       "<AxesSubplot:title={'center':'Relacion entre las edades y volver a la secuela'}, xlabel='edad'>"
      ]
     },
     "execution_count": 40,
     "metadata": {},
     "output_type": "execute_result"
    },
    {
     "data": {
      "image/png": "[encoded data removed]",
      "text/plain": [
       "<Figure size 1080x432 with 1 Axes>"
      ]
     },
     "metadata": {},
     "output_type": "display_data"
    }
   ],
   "source": [
    "\n",
    "edades_cortadas = pd.cut(info_fiumark_df['edad'], bins = 10)\n",
    "\n",
    "info_fiumark_df.groupby(edades_cortadas)['volveria'].mean().plot(kind='bar',rot=0,figsize=(15,6),color='sandybrown',\n",
    "                                                                 title='Relacion entre las edades y volver a la secuela',\n",
    "                                                                )"
   ]
  },
  {
   "cell_type": "markdown",
   "metadata": {},
   "source": [
    "#### Cruzamos el genero con la edad"
   ]
  },
  {
   "cell_type": "markdown",
   "metadata": {},
   "source": [
    "Intentemos relacionar ahora la edad de las personas y su genero con si volverian o no a ver la pelicula. Para eso \n",
    "agrupamos en hombres y mujeres y luego estos grupos por edad:"
   ]
  },
  {
   "cell_type": "code",
   "execution_count": 41,
   "metadata": {
    "jupyter": {
     "outputs_hidden": false
    },
    "pycharm": {
     "name": "#%%\n"
    }
   },
   "outputs": [],
   "source": [
    "edad =  info_fiumark_df['edad']\n",
    "genero = info_fiumark_df['genero']\n",
    "volveria = info_fiumark_df['volveria']\n",
    "\n",
    "hombres_vuelven = info_fiumark_df.loc[genero.str.contains('hombre') & (volveria == 1)]\n",
    "hombres_total = info_fiumark_df.loc[genero.str.contains('hombre')]\n",
    "\n",
    "mujeres_vuelven = info_fiumark_df.loc[genero.str.contains('mujer') & (volveria == 1)]\n",
    "mujeres_total = info_fiumark_df.loc[genero.str.contains('mujer')]"
   ]
  },
  {
   "cell_type": "code",
   "execution_count": 42,
   "metadata": {
    "jupyter": {
     "outputs_hidden": false
    },
    "pycharm": {
     "name": "#%%\n"
    }
   },
   "outputs": [],
   "source": [
    "rango_edades = [0, 10, 20, 30, 40, 50, 60, 70, 80]\n",
    "\n",
    "cuts_total_mujeres = pd.cut(mujeres_total['edad'], bins = rango_edades)\n",
    "cuts_vuelven_mujeres = pd.cut(mujeres_vuelven['edad'], bins = rango_edades)\n",
    "\n",
    "cuts_total_hombres = pd.cut(hombres_total['edad'], bins = rango_edades)\n",
    "cuts_vuelven_hombres = pd.cut(hombres_vuelven['edad'], bins = rango_edades)"
   ]
  },
  {
   "cell_type": "code",
   "execution_count": 43,
   "metadata": {
    "jupyter": {
     "outputs_hidden": false
    },
    "pycharm": {
     "name": "#%%\n"
    }
   },
   "outputs": [],
   "source": [
    "serie_hombres = pd.Series(cuts_vuelven_hombres.value_counts()/cuts_total_hombres.value_counts())\n",
    "serie_mujeres = pd.Series(cuts_vuelven_mujeres.value_counts()/cuts_total_mujeres.value_counts())"
   ]
  },
  {
   "cell_type": "code",
   "execution_count": 44,
   "metadata": {
    "jupyter": {
     "outputs_hidden": false
    },
    "pycharm": {
     "name": "#%%\n"
    }
   },
   "outputs": [
    {
     "data": {
      "text/plain": [
       "<Figure size 800x700 with 0 Axes>"
      ]
     },
     "metadata": {},
     "output_type": "display_data"
    },
    {
     "data": {
      "image/png": "[encoded data removed]",
      "text/plain": [
       "<Figure size 1920x720 with 2 Axes>"
      ]
     },
     "metadata": {},
     "output_type": "display_data"
    }
   ],
   "source": [
    "plt.figure(dpi=100)\n",
    "\n",
    "fig, axes = plt.subplots(nrows=1, ncols=2, sharey=True, dpi=150, figsize=(6.4 * 2, 4.8))\n",
    "\n",
    "axes[0].bar(serie_hombres.index.astype(str), serie_hombres.values, color = 'blue', alpha = 0.5)\n",
    "\n",
    "axes[0].set_title(\"Distribución por edades de hombres que volverian\")\n",
    "axes[0].set_xlabel(\"Edad\")\n",
    "axes[0].set_ylabel(\"Porcentaje que volverian\")\n",
    "\n",
    "axes[1].bar(serie_mujeres.index.astype(str), serie_mujeres.values, color = 'coral', alpha = 0.5)\n",
    "\n",
    "axes[1].set_title(\"Distribución por edades de mujeres que volverian\")\n",
    "axes[1].set_xlabel(\"Edad\")\n",
    "axes[1].set_ylabel(\"Porcentaje que volverian\")\n",
    "\n",
    "plt.show()"
   ]
  },
  {
   "cell_type": "markdown",
   "metadata": {},
   "source": [
    "Se puede ver claramente que a los hombres de edades entre 0 y 10 les gusto mucho mas que al resto de los hombres.\n",
    "Por otro lado el porcentaje de mujeres que volverian a ver la pelicula es mayor que el de hombres para todos los rangos de edades y parece ir ligeramente aumentando con la edad."
   ]
  },
  {
   "cell_type": "markdown",
   "metadata": {},
   "source": [
    "#### Cruzamos edad con cantidad de amigos"
   ]
  },
  {
   "cell_type": "code",
   "execution_count": 45,
   "metadata": {
    "jupyter": {
     "outputs_hidden": false
    },
    "pycharm": {
     "name": "#%%\n"
    }
   },
   "outputs": [
    {
     "data": {
      "text/plain": [
       "<AxesSubplot:xlabel='edades_estratificadas', ylabel='amigos'>"
      ]
     },
     "execution_count": 45,
     "metadata": {},
     "output_type": "execute_result"
    },
    {
     "data": {
      "image/png": "[encoded data removed]",
      "text/plain": [
       "<Figure size 576x504 with 2 Axes>"
      ]
     },
     "metadata": {},
     "output_type": "display_data"
    }
   ],
   "source": [
    "sns.set(rc={'figure.figsize':(8,7)})\n",
    "amigos_edad = pd.pivot_table(data = info_fiumark_df, index = 'amigos', values = 'volveria', columns = 'edades_estratificadas')\n",
    "amigos_edad.sort_index(ascending =  False, inplace = True)\n",
    "amigos_edad = amigos_edad.reindex( ['ninio', 'joven' ,'adulto', 'mayor'],axis = 1)\n",
    "\n",
    "mascara = amigos_edad.isnull()\n",
    "sns.heatmap(amigos_edad, mask = mascara, cmap=\"YlGnBu\")"
   ]
  },
  {
   "cell_type": "markdown",
   "metadata": {},
   "source": [
    "En este scatter plot podemos ver que los jovenes menores a 20 años tienden a disfrutar la pelicula si fueron con\n",
    "hasta 2 amigos. Si fueron con 3 amigos o mas tienden a no querer volver a ver la secuela por lo que se ve.\n",
    "\n",
    "Buscamos de cuantos casos estamos hablando."
   ]
  },
  {
   "cell_type": "code",
   "execution_count": 46,
   "metadata": {},
   "outputs": [],
   "source": [
    "fue_con_varios_amigos = info_fiumark_df['amigos']>=3\n",
    "volveria =  info_fiumark_df['volveria']==1\n",
    "menor_a_veinte = info_fiumark_df['edad']<=20"
   ]
  },
  {
   "cell_type": "code",
   "execution_count": 47,
   "metadata": {},
   "outputs": [
    {
     "data": {
      "text/plain": [
       "74"
      ]
     },
     "execution_count": 47,
     "metadata": {},
     "output_type": "execute_result"
    }
   ],
   "source": [
    "info_fiumark_df.loc[(~fue_con_varios_amigos) & menor_a_veinte]['nombre'].count()"
   ]
  },
  {
   "cell_type": "code",
   "execution_count": 48,
   "metadata": {},
   "outputs": [
    {
     "data": {
      "text/plain": [
       "51"
      ]
     },
     "execution_count": 48,
     "metadata": {},
     "output_type": "execute_result"
    }
   ],
   "source": [
    "info_fiumark_df.loc[(~fue_con_varios_amigos) & menor_a_veinte & volveria]['nombre'].count()"
   ]
  },
  {
   "cell_type": "markdown",
   "metadata": {},
   "source": [
    "Vemos cuantos son si fue con varios amigos ahora."
   ]
  },
  {
   "cell_type": "code",
   "execution_count": 49,
   "metadata": {},
   "outputs": [
    {
     "data": {
      "text/plain": [
       "40"
      ]
     },
     "execution_count": 49,
     "metadata": {},
     "output_type": "execute_result"
    }
   ],
   "source": [
    "info_fiumark_df.loc[fue_con_varios_amigos]['nombre'].count()"
   ]
  },
  {
   "cell_type": "code",
   "execution_count": 50,
   "metadata": {},
   "outputs": [
    {
     "data": {
      "text/plain": [
       "5"
      ]
     },
     "execution_count": 50,
     "metadata": {},
     "output_type": "execute_result"
    }
   ],
   "source": [
    "info_fiumark_df.loc[fue_con_varios_amigos & volveria]['nombre'].count()"
   ]
  },
  {
   "cell_type": "markdown",
   "metadata": {},
   "source": [
    "Vemos que lo observado es correcto, aunque son pocos casos de la muestra analizada."
   ]
  },
  {
   "cell_type": "markdown",
   "metadata": {},
   "source": [
    "#### Cantidad total de invitados y edad"
   ]
  },
  {
   "cell_type": "markdown",
   "metadata": {},
   "source": [
    "Estudiando las relaciones de edad-amigos y edad-parientes de los encuestados nos surgio la idea de estudiar la relacion edad-invitados donde invitados es la suma de los amigos y los parientes con los que cada encuestado fue a ver la pelicula.\n"
   ]
  },
  {
   "cell_type": "code",
   "execution_count": 51,
   "metadata": {},
   "outputs": [],
   "source": [
    "info_fiumark_df['invitados_totales'] = info_fiumark_df['amigos'] + info_fiumark_df['parientes'] "
   ]
  },
  {
   "cell_type": "code",
   "execution_count": 86,
   "metadata": {},
   "outputs": [
    {
     "data": {
      "text/plain": [
       "<AxesSubplot:xlabel='edades_estratificadas', ylabel='invitados_totales'>"
      ]
     },
     "execution_count": 86,
     "metadata": {},
     "output_type": "execute_result"
    },
    {
     "data": {
      "image/png": "[encoded data removed]",
      "text/plain": [
       "<Figure size 576x504 with 2 Axes>"
      ]
     },
     "metadata": {},
     "output_type": "display_data"
    }
   ],
   "source": [
    "sns.set(rc={'figure.figsize':(8,7)})\n",
    "amigos_edad = pd.pivot_table(data = info_fiumark_df, index = 'invitados_totales', values = 'volveria', columns = 'edades_estratificadas', aggfunc = 'mean')\n",
    "\n",
    "amigos_edad\n",
    "amigos_edad.sort_index(ascending =  False, inplace = True)\n",
    "amigos_edad = amigos_edad.reindex( ['ninio', 'joven' ,'adulto', 'mayor'],axis = 1)\n",
    "\n",
    "mascara = amigos_edad.isnull()\n",
    "sns.heatmap(amigos_edad, mask = mascara, cmap=\"YlGnBu\", annot = True)"
   ]
  },
  {
   "cell_type": "markdown",
   "metadata": {},
   "source": [
    "No pudimos ver diferencias apreciables con los graficos que obtuvimos por separado para amigos-edad y parientes-edad. "
   ]
  },
  {
   "cell_type": "markdown",
   "metadata": {},
   "source": [
    "### ¿Afecta en algo el ir a disitintos tipos de sala la decision?"
   ]
  },
  {
   "cell_type": "markdown",
   "metadata": {},
   "source": [
    "Veamos ahora si la decision de ir a un tipo de sala mejor determina si se vuelve a ver la secuela. "
   ]
  },
  {
   "cell_type": "markdown",
   "metadata": {},
   "source": [
    "Para empezar veamos cuales hay."
   ]
  },
  {
   "cell_type": "code",
   "execution_count": 53,
   "metadata": {},
   "outputs": [
    {
     "data": {
      "text/plain": [
       "4d        447\n",
       "normal    187\n",
       "3d        167\n",
       "Name: tipo_de_sala, dtype: int64"
      ]
     },
     "execution_count": 53,
     "metadata": {},
     "output_type": "execute_result"
    }
   ],
   "source": [
    "cantidad_salas = info_fiumark_df['tipo_de_sala'].value_counts()\n",
    "cantidad_salas"
   ]
  },
  {
   "cell_type": "markdown",
   "metadata": {},
   "source": [
    "Sorprendentemente, la mayoria de la gente que fue a ver la pelicula decidio ir a las salas especiales (4D y 3D). Esto se puede deber a que se busca tener una experiencia unica al momento de ir al cine. Esto lo mostramos en el siguiente grafico con respecto a la cantidad total de gente que fue."
   ]
  },
  {
   "cell_type": "code",
   "execution_count": 54,
   "metadata": {},
   "outputs": [
    {
     "data": {
      "image/png": "[encoded data removed]",
      "text/plain": [
       "<Figure size 640x560 with 1 Axes>"
      ]
     },
     "metadata": {},
     "output_type": "display_data"
    }
   ],
   "source": [
    "circulo_centro=plt.Circle( (0,0), 0.7, color='white')\n",
    "plt.figure(dpi=80)\n",
    "plt.pie(cantidad_salas.values, labels=cantidad_salas.index.to_list(), colors=['goldenrod','salmon','skyblue'],autopct='%1.0f%%')\n",
    "p=plt.gcf()\n",
    "p.gca().add_artist(circulo_centro)\n",
    "plt.suptitle('Proporcion de a que sala fue la gente que respondio la encuesta')\n",
    "plt.show()"
   ]
  },
  {
   "cell_type": "markdown",
   "metadata": {},
   "source": [
    "Busquemos ahora si hay relacion con la secuela.\n"
   ]
  },
  {
   "cell_type": "code",
   "execution_count": 55,
   "metadata": {},
   "outputs": [
    {
     "data": {
      "text/plain": [
       "tipo_de_sala\n",
       "3d        0.49\n",
       "4d        0.23\n",
       "normal    0.64\n",
       "Name: volveria, dtype: float64"
      ]
     },
     "execution_count": 55,
     "metadata": {},
     "output_type": "execute_result"
    }
   ],
   "source": [
    "porcentaje_volveria_salas = info_fiumark_df.groupby(by='tipo_de_sala')['volveria'].agg('mean').round(2)\n",
    "porcentaje_volveria_salas"
   ]
  },
  {
   "cell_type": "code",
   "execution_count": 56,
   "metadata": {},
   "outputs": [
    {
     "data": {
      "image/png": "[encoded data removed]",
      "text/plain": [
       "<Figure size 800x700 with 1 Axes>"
      ]
     },
     "metadata": {},
     "output_type": "display_data"
    }
   ],
   "source": [
    "porcentaje_volveria_salas.sort_values(ascending=False,inplace=True)\n",
    "plt.figure(dpi=100)\n",
    "plt.bar(porcentaje_volveria_salas.index, porcentaje_volveria_salas.values, color = ['darksalmon','lightgreen','lightskyblue'])\n",
    "plt.ylabel(\"Porcentaje\")\n",
    "plt.xlabel(\"Tipos de sala de cine\")\n",
    "plt.ylim(0, 1)\n",
    "plt.title('Porcentaje de personas que irian a ver la secuela por sala')\n",
    "plt.show()"
   ]
  },
  {
   "cell_type": "markdown",
   "metadata": {},
   "source": [
    "Observando los resultados, notamos que una gran cantidad de la gente que fue a la sala 4D, decidio que no volveria a ver la secuela (cercano al 80%). Uno de los motivos por los que esto puede llegar a ser es que las personas que deciden ir a esta sala esperan tener una gran experiencia debido a los efectos que agrega la sala, ya sean movimientos, niebla, lluvia, u otros efectos del estilo, los cuales pueden no estar siendo aprovechados del todo durante la proyeccion de la pelicula.\n"
   ]
  },
  {
   "cell_type": "markdown",
   "metadata": {},
   "source": [
    "Con respecto a la sala 3D, podemos decir que no nos estaria aportando mucho por si sola. Esto se debe a que la mitad de la gente que decide ir a esta sala volveria a la secuela, mientras que el resto no. Resultando como si fuera el lanzamiento de una moneda."
   ]
  },
  {
   "cell_type": "markdown",
   "metadata": {},
   "source": [
    "Por ultimo, de la sala normal podemos decir que cerca del 64% dijo que vovleria a la secuela. Que una mayor cantidad diga en esta sala que volveria puede deberse a que ya conocieran de antes la serie de peliculas Frozen."
   ]
  },
  {
   "cell_type": "markdown",
   "metadata": {},
   "source": [
    "Veamos si podemos obtener algun refinamiento de estos datos cruzandola con la variable 'genero'."
   ]
  },
  {
   "cell_type": "markdown",
   "metadata": {},
   "source": [
    "#### Cruzamos el tipo de sala con el genero"
   ]
  },
  {
   "cell_type": "code",
   "execution_count": 57,
   "metadata": {},
   "outputs": [
    {
     "data": {
      "text/html": [
       "<div>\n",
       "<style scoped>\n",
       "    .dataframe tbody tr th:only-of-type {\n",
       "        vertical-align: middle;\n",
       "    }\n",
       "\n",
       "    .dataframe tbody tr th {\n",
       "        vertical-align: top;\n",
       "    }\n",
       "\n",
       "    .dataframe thead th {\n",
       "        text-align: right;\n",
       "    }\n",
       "</style>\n",
       "<table border=\"1\" class=\"dataframe\">\n",
       "  <thead>\n",
       "    <tr style=\"text-align: right;\">\n",
       "      <th>tipo_de_sala</th>\n",
       "      <th>3d</th>\n",
       "      <th>4d</th>\n",
       "      <th>normal</th>\n",
       "    </tr>\n",
       "    <tr>\n",
       "      <th>genero</th>\n",
       "      <th></th>\n",
       "      <th></th>\n",
       "      <th></th>\n",
       "    </tr>\n",
       "  </thead>\n",
       "  <tbody>\n",
       "    <tr>\n",
       "      <th>hombre</th>\n",
       "      <td>16.0</td>\n",
       "      <td>13.0</td>\n",
       "      <td>36.0</td>\n",
       "    </tr>\n",
       "    <tr>\n",
       "      <th>mujer</th>\n",
       "      <td>94.0</td>\n",
       "      <td>48.0</td>\n",
       "      <td>97.0</td>\n",
       "    </tr>\n",
       "  </tbody>\n",
       "</table>\n",
       "</div>"
      ],
      "text/plain": [
       "tipo_de_sala    3d    4d  normal\n",
       "genero                          \n",
       "hombre        16.0  13.0    36.0\n",
       "mujer         94.0  48.0    97.0"
      ]
     },
     "execution_count": 57,
     "metadata": {},
     "output_type": "execute_result"
    }
   ],
   "source": [
    "porcentaje_sala_sexo = info_fiumark_df.groupby(by=['tipo_de_sala','genero'])['volveria'].agg('mean').round(2).unstack().T\n",
    "porcentaje_sala_sexo = porcentaje_sala_sexo.mul(100)\n",
    "porcentaje_sala_sexo"
   ]
  },
  {
   "cell_type": "markdown",
   "metadata": {},
   "source": [
    "Vemos que las mujeres son mas probables a responder que volverian en todos los casos, estando en valores mayores al 90% para las salas normal y 3D. Ademas vemos que estan muy por arriba del promedio de los hombres en todos los casos. Algo a notar con respecto a los hombres es que parecen querer volver algo mas si es que fueron a la sala normal en comparacion con el resto."
   ]
  },
  {
   "cell_type": "code",
   "execution_count": 58,
   "metadata": {},
   "outputs": [
    {
     "data": {
      "text/plain": [
       "<matplotlib.legend.Legend at 0x7fb5a39a7340>"
      ]
     },
     "execution_count": 58,
     "metadata": {},
     "output_type": "execute_result"
    },
    {
     "data": {
      "image/png": "[encoded data removed]",
      "text/plain": [
       "<Figure size 576x504 with 1 Axes>"
      ]
     },
     "metadata": {},
     "output_type": "display_data"
    }
   ],
   "source": [
    "# -------Creamos el fondo\n",
    "categorias=list(porcentaje_sala_sexo)[0:]\n",
    "cantidad_categorias = len(categorias)\n",
    " \n",
    "# Armamos el angulo de cada eje\n",
    "angulos = [n / float(cantidad_categorias) * 2 * pi for n in range(cantidad_categorias)]\n",
    "angulos += angulos[:1]\n",
    " \n",
    "# Inicializamos el plot\n",
    "ax = plt.subplot(111, polar=True)\n",
    " \n",
    "# El primer eje esta arriba\n",
    "ax.set_theta_offset(pi / 2)\n",
    "ax.set_theta_direction(-1)\n",
    "\n",
    "# Dibujamos los ejes y los nombres\n",
    "plt.xticks(angulos[:-1], categorias)\n",
    "\n",
    "# Etiquetas en el eje y\n",
    "ax.set_rlabel_position(0)\n",
    "plt.ylim(0,100)\n",
    "\n",
    "# Primer grupo\n",
    "values1=porcentaje_sala_sexo.iloc[0].values.tolist()\n",
    "values1 += values1[:1]\n",
    "ax.plot(angulos, values1, linewidth=1, linestyle='solid', label=\"Hombre\")\n",
    "ax.fill(angulos, values1, 'b', alpha=0.1)\n",
    "\n",
    "# Segundo grupo\n",
    "values2=porcentaje_sala_sexo.iloc[1].values.tolist()\n",
    "values2 += values2[:1]\n",
    "ax.plot(angulos, values2, linewidth=1, linestyle='solid', label=\"Mujer\")\n",
    "ax.fill(angulos, values2, 'g', alpha=0.1)\n",
    "##\n",
    "plt.suptitle('Porcentaje de volveria de acuerdo a la sala por genero')\n",
    "plt.legend(loc='upper right', bbox_to_anchor=(0.1, 0.1))"
   ]
  },
  {
   "cell_type": "markdown",
   "metadata": {},
   "source": [
    "Algo curioso que se nota al observar el grafico, es que parece como si el caso de los hombres siguiera el mismo estilo que el de las mujeres, solo que con un tamaño menor."
   ]
  },
  {
   "cell_type": "markdown",
   "metadata": {},
   "source": [
    "### ¿Hay mas gente que iria a la secuela si fue a una sede en particular?"
   ]
  },
  {
   "cell_type": "markdown",
   "metadata": {},
   "source": [
    "En esta pregunta nos interesa saber si por algun motivo alguna sede en particular ayuda a influenciar la ida a la secuela. Los motivos por los que esto podria llegar a suceder pueden ser por la calidad del cine."
   ]
  },
  {
   "cell_type": "markdown",
   "metadata": {},
   "source": [
    "Empecemos viendo cuantas sedes tenemos y como se distribuyo la cantidad de gente que fue a cada una. De ahi veremos si surge que en alguna sede dicen de ir a la secuela."
   ]
  },
  {
   "cell_type": "code",
   "execution_count": 59,
   "metadata": {},
   "outputs": [
    {
     "data": {
      "text/plain": [
       "fiumark_palermo      0.72\n",
       "fiumark_chacarita    0.19\n",
       "fiumark_quilmes      0.09\n",
       "Name: nombre_sede, dtype: float64"
      ]
     },
     "execution_count": 59,
     "metadata": {},
     "output_type": "execute_result"
    }
   ],
   "source": [
    "info_fiumark_df['nombre_sede'].value_counts(normalize=True).round(2)"
   ]
  },
  {
   "cell_type": "markdown",
   "metadata": {},
   "source": [
    "Observando lo obtenido, notamos que tenemos 3 sedes y que la mayoria de los encuestados corresponden a la cede de Fiumark en Palermo."
   ]
  },
  {
   "cell_type": "code",
   "execution_count": 60,
   "metadata": {},
   "outputs": [
    {
     "data": {
      "text/html": [
       "<div>\n",
       "<style scoped>\n",
       "    .dataframe tbody tr th:only-of-type {\n",
       "        vertical-align: middle;\n",
       "    }\n",
       "\n",
       "    .dataframe tbody tr th {\n",
       "        vertical-align: top;\n",
       "    }\n",
       "\n",
       "    .dataframe thead th {\n",
       "        text-align: right;\n",
       "    }\n",
       "</style>\n",
       "<table border=\"1\" class=\"dataframe\">\n",
       "  <thead>\n",
       "    <tr style=\"text-align: right;\">\n",
       "      <th></th>\n",
       "      <th>volveria</th>\n",
       "    </tr>\n",
       "    <tr>\n",
       "      <th>nombre_sede</th>\n",
       "      <th></th>\n",
       "    </tr>\n",
       "  </thead>\n",
       "  <tbody>\n",
       "    <tr>\n",
       "      <th>fiumark_chacarita</th>\n",
       "      <td>0.56</td>\n",
       "    </tr>\n",
       "    <tr>\n",
       "      <th>fiumark_palermo</th>\n",
       "      <td>0.34</td>\n",
       "    </tr>\n",
       "    <tr>\n",
       "      <th>fiumark_quilmes</th>\n",
       "      <td>0.38</td>\n",
       "    </tr>\n",
       "  </tbody>\n",
       "</table>\n",
       "</div>"
      ],
      "text/plain": [
       "                   volveria\n",
       "nombre_sede                \n",
       "fiumark_chacarita      0.56\n",
       "fiumark_palermo        0.34\n",
       "fiumark_quilmes        0.38"
      ]
     },
     "execution_count": 60,
     "metadata": {},
     "output_type": "execute_result"
    }
   ],
   "source": [
    "info_fiumark_df.groupby(by='nombre_sede').agg({'volveria':'mean'}).round(2)"
   ]
  },
  {
   "cell_type": "markdown",
   "metadata": {},
   "source": [
    "Al ver cuantos volverian por sede, obtenemos que la sede no parece ser tan determinante por si sola, quizas podemos mencionar que en la de Palermo parece que se tiende a que no se volveria."
   ]
  },
  {
   "cell_type": "code",
   "execution_count": 61,
   "metadata": {},
   "outputs": [],
   "source": [
    "volveria_por_sede = info_fiumark_df.groupby(by=\"nombre_sede\")['volveria'].value_counts(normalize=True)\n",
    "volveria_por_sede_df = volveria_por_sede.to_frame()\n",
    "volveria_por_sede_df.rename(columns={'volveria':'Cantidad de respuestas'},inplace=True)\n",
    "volveria_por_sede_df.reset_index(inplace=True)\n",
    "volveria_por_sede_df.rename(columns={'volveria':'Vuelve a la secuela','nombre_sede':'Sedes'},inplace=True)"
   ]
  },
  {
   "cell_type": "code",
   "execution_count": 62,
   "metadata": {},
   "outputs": [],
   "source": [
    "volveria_por_sede_df['Vuelve a la secuela'].replace([0,1],['No','Si'],inplace=True)"
   ]
  },
  {
   "cell_type": "code",
   "execution_count": 63,
   "metadata": {},
   "outputs": [
    {
     "data": {
      "text/plain": [
       "<seaborn.axisgrid.FacetGrid at 0x7fb5a399e4c0>"
      ]
     },
     "execution_count": 63,
     "metadata": {},
     "output_type": "execute_result"
    },
    {
     "data": {
      "image/png": "[encoded data removed]",
      "text/plain": [
       "<Figure size 989.175x576 with 1 Axes>"
      ]
     },
     "metadata": {},
     "output_type": "display_data"
    }
   ],
   "source": [
    "g = sns.catplot(\n",
    "    data=volveria_por_sede_df, kind=\"bar\",\n",
    "    x=\"Sedes\", y=\"Cantidad de respuestas\", hue=\"Vuelve a la secuela\",\n",
    "    ci=None, palette=\"colorblind\", alpha=.6, height=8,aspect=1.5\n",
    ")\n",
    "g.despine(left=True)\n",
    "plt.ylim(0,1)\n",
    "g.set_axis_labels(\"Sede\", \"Porcentaje\")"
   ]
  },
  {
   "cell_type": "markdown",
   "metadata": {},
   "source": [
    "#### ¿Tendra algo que ver el genero con la sede?"
   ]
  },
  {
   "cell_type": "code",
   "execution_count": 64,
   "metadata": {},
   "outputs": [
    {
     "data": {
      "text/html": [
       "<div>\n",
       "<style scoped>\n",
       "    .dataframe tbody tr th:only-of-type {\n",
       "        vertical-align: middle;\n",
       "    }\n",
       "\n",
       "    .dataframe tbody tr th {\n",
       "        vertical-align: top;\n",
       "    }\n",
       "\n",
       "    .dataframe thead th {\n",
       "        text-align: right;\n",
       "    }\n",
       "</style>\n",
       "<table border=\"1\" class=\"dataframe\">\n",
       "  <thead>\n",
       "    <tr style=\"text-align: right;\">\n",
       "      <th>nombre_sede</th>\n",
       "      <th>fiumark_chacarita</th>\n",
       "      <th>fiumark_palermo</th>\n",
       "      <th>fiumark_quilmes</th>\n",
       "    </tr>\n",
       "    <tr>\n",
       "      <th>genero</th>\n",
       "      <th></th>\n",
       "      <th></th>\n",
       "      <th></th>\n",
       "    </tr>\n",
       "  </thead>\n",
       "  <tbody>\n",
       "    <tr>\n",
       "      <th>hombre</th>\n",
       "      <td>0.29</td>\n",
       "      <td>0.17</td>\n",
       "      <td>0.08</td>\n",
       "    </tr>\n",
       "    <tr>\n",
       "      <th>mujer</th>\n",
       "      <td>0.89</td>\n",
       "      <td>0.68</td>\n",
       "      <td>0.73</td>\n",
       "    </tr>\n",
       "  </tbody>\n",
       "</table>\n",
       "</div>"
      ],
      "text/plain": [
       "nombre_sede  fiumark_chacarita  fiumark_palermo  fiumark_quilmes\n",
       "genero                                                          \n",
       "hombre                    0.29             0.17             0.08\n",
       "mujer                     0.89             0.68             0.73"
      ]
     },
     "execution_count": 64,
     "metadata": {},
     "output_type": "execute_result"
    }
   ],
   "source": [
    "sede_genero = info_fiumark_df.groupby(by=[\"nombre_sede\",\"genero\"]).agg({'volveria':'mean'})\n",
    "sede_genero = sede_genero.unstack('nombre_sede').round(2)\n",
    "sede_genero.columns = sede_genero.columns.get_level_values(1)\n",
    "sede_genero"
   ]
  },
  {
   "cell_type": "markdown",
   "metadata": {},
   "source": [
    "Vemos que devuelta las mujeres dicen que vuelven en todos los casos mucho mas que los hombres."
   ]
  },
  {
   "cell_type": "markdown",
   "metadata": {
    "pycharm": {
     "name": "#%% md\n"
    }
   },
   "source": [
    "### ¿El precio fue determinante?"
   ]
  },
  {
   "cell_type": "markdown",
   "metadata": {
    "pycharm": {
     "name": "#%% md\n"
    }
   },
   "source": [
    "Veamos primero como se distribuyen los precios, y despues la relacion con respecto a la variable de interes."
   ]
  },
  {
   "cell_type": "code",
   "execution_count": 65,
   "metadata": {},
   "outputs": [
    {
     "name": "stderr",
     "output_type": "stream",
     "text": [
      "/home/adrianstarly/anaconda3/lib/python3.8/site-packages/seaborn/distributions.py:2551: FutureWarning: `distplot` is a deprecated function and will be removed in a future version. Please adapt your code to use either `displot` (a figure-level function with similar flexibility) or `histplot` (an axes-level function for histograms).\n",
      "  warnings.warn(msg, FutureWarning)\n"
     ]
    },
    {
     "data": {
      "image/png": "[encoded data removed]",
      "text/plain": [
       "<Figure size 576x504 with 1 Axes>"
      ]
     },
     "metadata": {},
     "output_type": "display_data"
    }
   ],
   "source": [
    "sns.set(rc={'figure.figsize':(8,7)})\n",
    "g=sns.distplot( a=info_fiumark_df['precio_ticket'],\n",
    "             hist=True, kde=False, rug=False,\n",
    "             bins=40,\n",
    "             axlabel='Precio del ticket')\n",
    "g.set_title('Distribucion del precio del ticket en cada compra')\n",
    "\n",
    "plt.show()"
   ]
  },
  {
   "cell_type": "markdown",
   "metadata": {
    "pycharm": {
     "name": "#%% md\n"
    }
   },
   "source": [
    "Podemos observar que la mayoria de los que fueron a ver la pelicula pago precios inferiores a 10, con algunos casos excepcionales que pagaron alrededor de 50. Veamos la relacion ahora, para ello creamos categorias en las cuales al comienzo son mas especificas debido a la cantidad de casos, y hacia el final creamos una que agrupe todas."
   ]
  },
  {
   "cell_type": "code",
   "execution_count": 66,
   "metadata": {},
   "outputs": [],
   "source": [
    "bins = [0, 1, 2, 3, 4, 5, 6, 7, 8, 9, 10, 11, 12, np.inf]\n",
    "rango_precios = pd.cut(info_fiumark_df['precio_ticket'], bins=bins)\n",
    "\n",
    "volveria_por_rango_precio = info_fiumark_df.groupby(by=rango_precios)['volveria'].value_counts()\n",
    "volveria_por_rango_precio_df = volveria_por_rango_precio.to_frame()\n",
    "volveria_por_rango_precio_df.rename(columns={'volveria':'Cantidad de respuestas'},inplace=True)\n",
    "volveria_por_rango_precio_df.reset_index(inplace=True)\n",
    "volveria_por_rango_precio_df.rename(columns={'volveria':'Vuelve a la secuela','precio_ticket':'Rango de precios'},inplace=True)"
   ]
  },
  {
   "cell_type": "code",
   "execution_count": 67,
   "metadata": {},
   "outputs": [],
   "source": [
    "volveria_por_rango_precio_df['Vuelve a la secuela'].replace([0,1],['No','Si'],inplace=True)"
   ]
  },
  {
   "cell_type": "code",
   "execution_count": 68,
   "metadata": {
    "jupyter": {
     "outputs_hidden": false
    },
    "pycharm": {
     "name": "#%%\n"
    }
   },
   "outputs": [
    {
     "data": {
      "text/plain": [
       "<seaborn.axisgrid.FacetGrid at 0x7fb5a36e99a0>"
      ]
     },
     "execution_count": 68,
     "metadata": {},
     "output_type": "execute_result"
    },
    {
     "data": {
      "image/png": "[encoded data removed]",
      "text/plain": [
       "<Figure size 989.175x576 with 1 Axes>"
      ]
     },
     "metadata": {},
     "output_type": "display_data"
    }
   ],
   "source": [
    "g = sns.catplot(\n",
    "    data=volveria_por_rango_precio_df, kind=\"bar\",\n",
    "    x=\"Rango de precios\", y=\"Cantidad de respuestas\", hue=\"Vuelve a la secuela\",\n",
    "    ci=None, palette=\"dark\", alpha=.6, height=8,aspect=1.5\n",
    ")\n",
    "g.despine(left=True)\n",
    "g.set_axis_labels(\"Rango de precios\", \"Cantidad de respuestas\")"
   ]
  },
  {
   "cell_type": "markdown",
   "metadata": {},
   "source": [
    "Veamos ahora normalizado que obtenemos."
   ]
  },
  {
   "cell_type": "code",
   "execution_count": 69,
   "metadata": {
    "jupyter": {
     "outputs_hidden": false
    },
    "pycharm": {
     "name": "#%%\n"
    }
   },
   "outputs": [
    {
     "data": {
      "text/plain": [
       "<seaborn.axisgrid.FacetGrid at 0x7fb5a631a7f0>"
      ]
     },
     "execution_count": 69,
     "metadata": {},
     "output_type": "execute_result"
    },
    {
     "data": {
      "image/png": "[encoded data removed]",
      "text/plain": [
       "<Figure size 989.175x576 with 1 Axes>"
      ]
     },
     "metadata": {},
     "output_type": "display_data"
    }
   ],
   "source": [
    "volveria_por_rango_precio = info_fiumark_df.groupby(by=rango_precios)['volveria'].value_counts(normalize=True)\n",
    "volveria_por_rango_precio_df = volveria_por_rango_precio.to_frame()\n",
    "volveria_por_rango_precio_df.rename(columns={'volveria':'Cantidad de respuestas'},inplace=True)\n",
    "volveria_por_rango_precio_df.reset_index(inplace=True)\n",
    "volveria_por_rango_precio_df.rename(columns={'volveria':'Vuelve a la secuela','precio_ticket':'Rango de precios'},inplace=True)\n",
    "volveria_por_rango_precio_df['Vuelve a la secuela'].replace([0,1],['No','Si'],inplace=True)\n",
    "\n",
    "g = sns.catplot(\n",
    "    data=volveria_por_rango_precio_df, kind=\"bar\",\n",
    "    x=\"Rango de precios\", y=\"Cantidad de respuestas\", hue=\"Vuelve a la secuela\",\n",
    "    ci=None, palette=\"dark\", alpha=.6, height=8,aspect=1.5\n",
    ")\n",
    "g.despine(left=True)\n",
    "g.set_axis_labels(\"Rango de precios\", \"Porcentaje de la respuesta\")"
   ]
  },
  {
   "cell_type": "markdown",
   "metadata": {},
   "source": [
    "Lo que nos encontramos es que en el rango mas bajo (de 0 a 1) la mayoria respondio que no volveria, mientras que a partir de que se empieza a incrementar el precio aumenta la cantidad de gente que responde que vuelve. Una hipotesis respecto a esto puede ser que la gente que gasto mas se convence que el gasto realizado valio la pena, de forma tal de que se van con una mejor opinion respecto a la pelicula y una potencial secuela."
   ]
  },
  {
   "cell_type": "markdown",
   "metadata": {},
   "source": [
    "#### Cruzamos el precio con la edad"
   ]
  },
  {
   "cell_type": "code",
   "execution_count": 70,
   "metadata": {},
   "outputs": [],
   "source": [
    "#Sacamos los valores que estarian muy lejos, debido a que arruinan la escala.\n",
    "precio_menor_a_treinta = info_fiumark_df.loc[info_fiumark_df[\"precio_ticket\"]<30]\n",
    "precio_menor_a_treinta = precio_menor_a_treinta.rename(columns={'volveria':'Vuelve a la secuela','precio_ticket':'Precios','edad':'Edad'})\n",
    "precio_menor_a_treinta['Vuelve a la secuela'].replace([0,1],['No','Si'],inplace=True)"
   ]
  },
  {
   "cell_type": "code",
   "execution_count": 71,
   "metadata": {},
   "outputs": [
    {
     "data": {
      "image/png": "[encoded data removed]",
      "text/plain": [
       "<Figure size 773.175x432 with 1 Axes>"
      ]
     },
     "metadata": {},
     "output_type": "display_data"
    }
   ],
   "source": [
    "\n",
    "sns.lmplot( x='Edad', y='Precios',data=precio_menor_a_treinta,fit_reg=False, hue='Vuelve a la secuela', legend=True,height=6,aspect=1.5,markers=[\"x\",\"o\"],palette=['red','green'])\n",
    "plt.title(\"Precio/Edad vuelta a la secuela, sin contar genero\")\n",
    "plt.show()"
   ]
  },
  {
   "cell_type": "code",
   "execution_count": 72,
   "metadata": {},
   "outputs": [],
   "source": [
    "precio_menor_a_treinta_hombre = precio_menor_a_treinta.loc[precio_menor_a_treinta['genero'].str.contains('hombre')]\n",
    "precio_menor_a_treinta_mujer = precio_menor_a_treinta.loc[precio_menor_a_treinta['genero'].str.contains('mujer')]"
   ]
  },
  {
   "cell_type": "code",
   "execution_count": 73,
   "metadata": {},
   "outputs": [
    {
     "data": {
      "image/png": "[encoded data removed]",
      "text/plain": [
       "<Figure size 989.175x576 with 1 Axes>"
      ]
     },
     "metadata": {},
     "output_type": "display_data"
    }
   ],
   "source": [
    "sns.lmplot( x='Edad', y='Precios',data=precio_menor_a_treinta_hombre,fit_reg=False, hue='Vuelve a la secuela', legend=True,height=8,aspect=1.5,markers=[\"x\",\"o\"],palette=['red','green'])\n",
    "plt.title(\"Precio/Edad vuelta a la secuela, solo hombres\")\n",
    "plt.show()"
   ]
  },
  {
   "cell_type": "code",
   "execution_count": 74,
   "metadata": {},
   "outputs": [
    {
     "data": {
      "image/png": "[encoded data removed]",
      "text/plain": [
       "<Figure size 989.175x576 with 1 Axes>"
      ]
     },
     "metadata": {},
     "output_type": "display_data"
    }
   ],
   "source": [
    "sns.lmplot( x='Edad', y='Precios',data=precio_menor_a_treinta_mujer,fit_reg=False, hue='Vuelve a la secuela', legend=True,height=8,aspect=1.5,markers=[\"x\",\"o\"],palette=['red','green'])\n",
    "plt.title(\"Precio/Edad vuelta a la secuela, solo mujeres\")\n",
    "plt.show()"
   ]
  },
  {
   "cell_type": "markdown",
   "metadata": {},
   "source": [
    "Observando todos los graficos hechos, notamos que en el primer grafico teniamos ruido al tener ambos generos juntos, pero al separarlos se puede ver claramente la diferencia. Con respecto a los hombres la gran mayoria dice de no volver, independientemente de la edad y el precio, y para el caso de las mujeres sucede lo contrario, estas volverian independientemente tambien de la edad y del precio."
   ]
  },
  {
   "cell_type": "markdown",
   "metadata": {},
   "source": [
    "### ¿La ubicacion en la sala importa?"
   ]
  },
  {
   "cell_type": "markdown",
   "metadata": {},
   "source": [
    "Veamos ahora si podemos llegar a sacar alguna conclusion interesante sobre las filas. Lo primero que debemos de tener en cuenta antes de comenzar, es que este atributo tiene en su gran mayoria valores nulos que fueron remplazados por 'No responde'."
   ]
  },
  {
   "cell_type": "code",
   "execution_count": 75,
   "metadata": {},
   "outputs": [
    {
     "data": {
      "text/plain": [
       "No responde    624\n",
       "adelante       164\n",
       "medio           13\n",
       "Name: fila, dtype: int64"
      ]
     },
     "execution_count": 75,
     "metadata": {},
     "output_type": "execute_result"
    }
   ],
   "source": [
    "info_fiumark_df['fila'].value_counts()"
   ]
  },
  {
   "cell_type": "markdown",
   "metadata": {},
   "source": [
    "Buscamos la proporcion de gente que vuelve."
   ]
  },
  {
   "cell_type": "code",
   "execution_count": 76,
   "metadata": {},
   "outputs": [
    {
     "data": {
      "text/html": [
       "<div>\n",
       "<style scoped>\n",
       "    .dataframe tbody tr th:only-of-type {\n",
       "        vertical-align: middle;\n",
       "    }\n",
       "\n",
       "    .dataframe tbody tr th {\n",
       "        vertical-align: top;\n",
       "    }\n",
       "\n",
       "    .dataframe thead th {\n",
       "        text-align: right;\n",
       "    }\n",
       "</style>\n",
       "<table border=\"1\" class=\"dataframe\">\n",
       "  <thead>\n",
       "    <tr style=\"text-align: right;\">\n",
       "      <th></th>\n",
       "      <th>volveria</th>\n",
       "    </tr>\n",
       "    <tr>\n",
       "      <th>fila</th>\n",
       "      <th></th>\n",
       "    </tr>\n",
       "  </thead>\n",
       "  <tbody>\n",
       "    <tr>\n",
       "      <th>No responde</th>\n",
       "      <td>0.30</td>\n",
       "    </tr>\n",
       "    <tr>\n",
       "      <th>adelante</th>\n",
       "      <td>0.69</td>\n",
       "    </tr>\n",
       "    <tr>\n",
       "      <th>medio</th>\n",
       "      <td>0.54</td>\n",
       "    </tr>\n",
       "  </tbody>\n",
       "</table>\n",
       "</div>"
      ],
      "text/plain": [
       "             volveria\n",
       "fila                 \n",
       "No responde      0.30\n",
       "adelante         0.69\n",
       "medio            0.54"
      ]
     },
     "execution_count": 76,
     "metadata": {},
     "output_type": "execute_result"
    }
   ],
   "source": [
    "vuelta_por_fila = info_fiumark_df.groupby(by='fila').agg({'volveria':'mean'}).round(2)\n",
    "vuelta_por_fila"
   ]
  },
  {
   "cell_type": "markdown",
   "metadata": {},
   "source": [
    "Observamos que cerca del 70% de los que respondieron que se sentaron adelante volverian, siendo el valor 'adelante' el que mas respuestas tuvo excluyendo a los nulos. Sin embargo, aun siendo este el caso, este atributo cuenta con muy pocas respuestas como para considerarse algo bien determinante.\n",
    "\n",
    "En el caso del 'medio', no podemos concluir nada debido a las muy pocas respuestas obtenidas. Con respecto a los que no respondieron no tendriamos informacion suficiente, ya que estos valores en la realidad estan distribuidos en 'adelante', 'medio', y muy posiblemente 'atras'.\n",
    "\n",
    "\n"
   ]
  },
  {
   "cell_type": "code",
   "execution_count": 77,
   "metadata": {},
   "outputs": [
    {
     "data": {
      "image/png": "[encoded data removed]",
      "text/plain": [
       "<Figure size 576x504 with 1 Axes>"
      ]
     },
     "metadata": {},
     "output_type": "display_data"
    }
   ],
   "source": [
    "vuelta_por_fila.sort_values(by='volveria',ascending=False,inplace=True)\n",
    "plt.bar(vuelta_por_fila.index.astype(str), vuelta_por_fila['volveria'], color = 'olive', alpha = 0.6)\n",
    "plt.title(\"Vuelta por lugar en donde se sento\")\n",
    "plt.xlabel(\"Lugar en el cine\")\n",
    "plt.ylabel(\"Porcentaje que volverian\")\n",
    "plt.ylim(0, 1)\n",
    "plt.show()"
   ]
  },
  {
   "cell_type": "markdown",
   "metadata": {},
   "source": [
    "#### Vemos con los generos como es el comportamiento"
   ]
  },
  {
   "cell_type": "code",
   "execution_count": 78,
   "metadata": {},
   "outputs": [
    {
     "data": {
      "text/html": [
       "<div>\n",
       "<style scoped>\n",
       "    .dataframe tbody tr th:only-of-type {\n",
       "        vertical-align: middle;\n",
       "    }\n",
       "\n",
       "    .dataframe tbody tr th {\n",
       "        vertical-align: top;\n",
       "    }\n",
       "\n",
       "    .dataframe thead tr th {\n",
       "        text-align: left;\n",
       "    }\n",
       "\n",
       "    .dataframe thead tr:last-of-type th {\n",
       "        text-align: right;\n",
       "    }\n",
       "</style>\n",
       "<table border=\"1\" class=\"dataframe\">\n",
       "  <thead>\n",
       "    <tr>\n",
       "      <th></th>\n",
       "      <th></th>\n",
       "      <th colspan=\"2\" halign=\"left\">volveria</th>\n",
       "    </tr>\n",
       "    <tr>\n",
       "      <th></th>\n",
       "      <th></th>\n",
       "      <th>mean</th>\n",
       "      <th>sum</th>\n",
       "    </tr>\n",
       "    <tr>\n",
       "      <th>fila</th>\n",
       "      <th>genero</th>\n",
       "      <th></th>\n",
       "      <th></th>\n",
       "    </tr>\n",
       "  </thead>\n",
       "  <tbody>\n",
       "    <tr>\n",
       "      <th rowspan=\"2\" valign=\"top\">No responde</th>\n",
       "      <th>hombre</th>\n",
       "      <td>0.14</td>\n",
       "      <td>60</td>\n",
       "    </tr>\n",
       "    <tr>\n",
       "      <th>mujer</th>\n",
       "      <td>0.64</td>\n",
       "      <td>127</td>\n",
       "    </tr>\n",
       "    <tr>\n",
       "      <th rowspan=\"2\" valign=\"top\">adelante</th>\n",
       "      <th>hombre</th>\n",
       "      <td>0.40</td>\n",
       "      <td>32</td>\n",
       "    </tr>\n",
       "    <tr>\n",
       "      <th>mujer</th>\n",
       "      <td>0.96</td>\n",
       "      <td>81</td>\n",
       "    </tr>\n",
       "    <tr>\n",
       "      <th rowspan=\"2\" valign=\"top\">medio</th>\n",
       "      <th>hombre</th>\n",
       "      <td>0.33</td>\n",
       "      <td>2</td>\n",
       "    </tr>\n",
       "    <tr>\n",
       "      <th>mujer</th>\n",
       "      <td>0.71</td>\n",
       "      <td>5</td>\n",
       "    </tr>\n",
       "  </tbody>\n",
       "</table>\n",
       "</div>"
      ],
      "text/plain": [
       "                   volveria     \n",
       "                       mean  sum\n",
       "fila        genero              \n",
       "No responde hombre     0.14   60\n",
       "            mujer      0.64  127\n",
       "adelante    hombre     0.40   32\n",
       "            mujer      0.96   81\n",
       "medio       hombre     0.33    2\n",
       "            mujer      0.71    5"
      ]
     },
     "execution_count": 78,
     "metadata": {},
     "output_type": "execute_result"
    }
   ],
   "source": [
    "info_fiumark_df.groupby(by=['fila','genero']).agg({'volveria':['mean','sum']}).round(2)"
   ]
  },
  {
   "cell_type": "markdown",
   "metadata": {},
   "source": [
    "# VER QUE HACEMOS CON ESTO"
   ]
  },
  {
   "cell_type": "code",
   "execution_count": 79,
   "metadata": {},
   "outputs": [
    {
     "data": {
      "text/html": [
       "<div>\n",
       "<style scoped>\n",
       "    .dataframe tbody tr th:only-of-type {\n",
       "        vertical-align: middle;\n",
       "    }\n",
       "\n",
       "    .dataframe tbody tr th {\n",
       "        vertical-align: top;\n",
       "    }\n",
       "\n",
       "    .dataframe thead tr th {\n",
       "        text-align: left;\n",
       "    }\n",
       "\n",
       "    .dataframe thead tr:last-of-type th {\n",
       "        text-align: right;\n",
       "    }\n",
       "</style>\n",
       "<table border=\"1\" class=\"dataframe\">\n",
       "  <thead>\n",
       "    <tr>\n",
       "      <th></th>\n",
       "      <th></th>\n",
       "      <th colspan=\"4\" halign=\"left\">volveria</th>\n",
       "    </tr>\n",
       "    <tr>\n",
       "      <th></th>\n",
       "      <th></th>\n",
       "      <th colspan=\"2\" halign=\"left\">mean</th>\n",
       "      <th colspan=\"2\" halign=\"left\">sum</th>\n",
       "    </tr>\n",
       "    <tr>\n",
       "      <th></th>\n",
       "      <th>genero</th>\n",
       "      <th>hombre</th>\n",
       "      <th>mujer</th>\n",
       "      <th>hombre</th>\n",
       "      <th>mujer</th>\n",
       "    </tr>\n",
       "    <tr>\n",
       "      <th>fila</th>\n",
       "      <th>tipo_de_sala</th>\n",
       "      <th></th>\n",
       "      <th></th>\n",
       "      <th></th>\n",
       "      <th></th>\n",
       "    </tr>\n",
       "  </thead>\n",
       "  <tbody>\n",
       "    <tr>\n",
       "      <th rowspan=\"3\" valign=\"top\">No responde</th>\n",
       "      <th>3d</th>\n",
       "      <td>0.14</td>\n",
       "      <td>0.93</td>\n",
       "      <td>13.0</td>\n",
       "      <td>57.0</td>\n",
       "    </tr>\n",
       "    <tr>\n",
       "      <th>4d</th>\n",
       "      <td>0.13</td>\n",
       "      <td>0.48</td>\n",
       "      <td>41.0</td>\n",
       "      <td>60.0</td>\n",
       "    </tr>\n",
       "    <tr>\n",
       "      <th>normal</th>\n",
       "      <td>0.26</td>\n",
       "      <td>1.00</td>\n",
       "      <td>6.0</td>\n",
       "      <td>10.0</td>\n",
       "    </tr>\n",
       "    <tr>\n",
       "      <th rowspan=\"3\" valign=\"top\">adelante</th>\n",
       "      <th>3d</th>\n",
       "      <td>0.50</td>\n",
       "      <td>1.00</td>\n",
       "      <td>1.0</td>\n",
       "      <td>5.0</td>\n",
       "    </tr>\n",
       "    <tr>\n",
       "      <th>4d</th>\n",
       "      <td>1.00</td>\n",
       "      <td>1.00</td>\n",
       "      <td>1.0</td>\n",
       "      <td>2.0</td>\n",
       "    </tr>\n",
       "    <tr>\n",
       "      <th>normal</th>\n",
       "      <td>0.39</td>\n",
       "      <td>0.96</td>\n",
       "      <td>30.0</td>\n",
       "      <td>74.0</td>\n",
       "    </tr>\n",
       "    <tr>\n",
       "      <th rowspan=\"3\" valign=\"top\">medio</th>\n",
       "      <th>3d</th>\n",
       "      <td>1.00</td>\n",
       "      <td>1.00</td>\n",
       "      <td>2.0</td>\n",
       "      <td>4.0</td>\n",
       "    </tr>\n",
       "    <tr>\n",
       "      <th>4d</th>\n",
       "      <td>0.00</td>\n",
       "      <td>0.33</td>\n",
       "      <td>0.0</td>\n",
       "      <td>1.0</td>\n",
       "    </tr>\n",
       "    <tr>\n",
       "      <th>normal</th>\n",
       "      <td>NaN</td>\n",
       "      <td>NaN</td>\n",
       "      <td>NaN</td>\n",
       "      <td>NaN</td>\n",
       "    </tr>\n",
       "  </tbody>\n",
       "</table>\n",
       "</div>"
      ],
      "text/plain": [
       "                         volveria                   \n",
       "                             mean          sum      \n",
       "genero                     hombre mujer hombre mujer\n",
       "fila        tipo_de_sala                            \n",
       "No responde 3d               0.14  0.93   13.0  57.0\n",
       "            4d               0.13  0.48   41.0  60.0\n",
       "            normal           0.26  1.00    6.0  10.0\n",
       "adelante    3d               0.50  1.00    1.0   5.0\n",
       "            4d               1.00  1.00    1.0   2.0\n",
       "            normal           0.39  0.96   30.0  74.0\n",
       "medio       3d               1.00  1.00    2.0   4.0\n",
       "            4d               0.00  0.33    0.0   1.0\n",
       "            normal            NaN   NaN    NaN   NaN"
      ]
     },
     "execution_count": 79,
     "metadata": {},
     "output_type": "execute_result"
    }
   ],
   "source": [
    "info_fiumark_df.groupby(by=['fila','tipo_de_sala','genero']).agg({'volveria':['mean','sum']}).round(2).unstack() "
   ]
  },
  {
   "cell_type": "markdown",
   "metadata": {},
   "source": [
    "## Conclusiones del analisis\n",
    "\n",
    "A partir de los datos recolectados hemos podido obtener las siguientes conclusiones:\n",
    "    \n",
    "- Los dos factores mas relevantes para identificar si una persona iria a ver Frozen 4 son el genero y la edad.\n",
    "\n",
    "- Las mujeres son mucho mas propensas a querer ver la secuela que lo hombres para todo rango de edad.\n",
    "\n",
    "- Aproximadamente el 60% de los hombres de edades entre 0 y 10 años veria la secuela, mientras que para el resto de los hombres este numero baja a un 20% aproximadamente. Esta muestra tambien una clara relacion entre el genero y la edad.\n",
    "\n",
    "- Las personas que pagaron su ticket a un precio mayor que 5 tienden a querer ver la secuela mas que aquellas que no lo hicieron, siendo este el caso en su mayoria de las mujeres.\n",
    "\n",
    "- Aproximadamente, un 60% de las personas que fueron a una sala normal volveria al cine a ver Frozen 4 mientras que un 80% de las personas que fueron a una sala 4D no volverian. Esto pareceria indicar que las salas 4D no estarian otorgando una experiencia lo suficientemente buena para que la gente vuelva. Devuelta en este caso las mujeres indicaron que volverian mas veces que los hombres en todas las salas.\n",
    "\n",
    "- Pudimos ver que para un pequeño subconjunto de los datos, las variables 'parientes' y 'amigos' estan relacionadas con la edad.\n",
    "\n",
    "- Las personas que van con 3 o mas amigos no parece que tiendan a disfrutar la pelicula lo suficiente como para volver a ver la secuela.\n",
    "\n",
    "- La sede no parece ser un factor muy importante para decidir si vuelven o no."
   ]
  },
  {
   "cell_type": "code",
   "execution_count": 80,
   "metadata": {},
   "outputs": [],
   "source": [
    "#Explicar qué conclusiones se pueden llegar a partir de analizar los datos recolectados. \n",
    "#La empresa quiere saber cómo entender cada uno de los datos, cómo se relacionan entre sí\n",
    "#Si se puede sacar alguna conclusión o descubrir un patrón a partir de estos. \n",
    "#Adicionalmente quieren saber cuáles son los factores más importantes que determinan si un usuario va a ir al cine a ver Frozen 4 o no."
   ]
  },
  {
   "cell_type": "markdown",
   "metadata": {},
   "source": [
    "## Baseline"
   ]
  },
  {
   "cell_type": "code",
   "execution_count": 81,
   "metadata": {},
   "outputs": [],
   "source": [
    "#A partir de todo el análisis anterior, construir el código baseline que se va a usar para la primera ronda de campaña digital.\n",
    "#Fundamentar el código basándose en las conclusiones de los anteriores puntos.\n",
    "#La función baseline debe llamarse baseline(X: pd.DataFrame) -> List[int]. la cual debe recibir un pandas dataframe producido de la lectura del archivo de testeo original y devolver una lista\n",
    "\n",
    "def baseline(info_fiumark_df: pd.DataFrame):\n",
    " \n",
    "    info_fiumark_df['puntaje'] = 0\n",
    "    \n",
    "    es_ninio = info_fiumark_df['edad']<=10\n",
    "    es_joven = (info_fiumark_df['edad']<=20) & (info_fiumark_df['edad']>10)\n",
    "    es_mayor = info_fiumark_df['edad']>40\n",
    "    \n",
    "    es_mujer = info_fiumark_df['genero'].str.contains('mujer') \n",
    "    es_hombre = info_fiumark_df['genero'].str.contains('hombre')\n",
    "    fue_a_sala_normal = info_fiumark_df['tipo_de_sala'].str.contains('normal')\n",
    "    fue_a_sala_3D =  info_fiumark_df['tipo_de_sala'].str.contains('3d')\n",
    "    pago_mucho = info_fiumark_df['precio_ticket']>5\n",
    "    fue_con_pocos_parientes = info_fiumark_df['parientes']<3\n",
    "    fue_con_pocos_amigos = info_fiumark_df['amigos']<3\n",
    "    se_sento_adelante = info_fiumark_df['fila'].str.contains('adelante')\n",
    "        \n",
    "    info_fiumark_df['puntaje'] = 0\n",
    "    \n",
    "    #EDAD - PARIENTES - AMIGOS\n",
    "    info_fiumark_df.loc[es_ninio & fue_con_pocos_parientes & fue_con_pocos_amigos, 'puntaje'] = info_fiumark_df.loc[es_ninio & fue_con_pocos_parientes & fue_con_pocos_amigos, 'puntaje'] + 1\n",
    "    info_fiumark_df.loc[es_joven & fue_con_pocos_amigos, 'puntaje'] = info_fiumark_df.loc[es_joven & fue_con_pocos_amigos, 'puntaje'] + 0.5    \n",
    "    #PRECIO\n",
    "    info_fiumark_df.loc[pago_mucho, 'puntaje'] = info_fiumark_df.loc[pago_mucho, 'puntaje'] + 0.5\n",
    "    \n",
    "    #SALA - GENERO\n",
    "    info_fiumark_df.loc[fue_a_sala_normal & es_mujer, 'puntaje'] = info_fiumark_df.loc[fue_a_sala_normal & es_mujer, 'puntaje'] + 1\n",
    "    info_fiumark_df.loc[fue_a_sala_3D & es_mujer, 'puntaje'] = info_fiumark_df.loc[fue_a_sala_3D & es_mujer, 'puntaje'] + 1\n",
    "    info_fiumark_df.loc[(~fue_a_sala_3D) & (~fue_a_sala_normal) & es_mujer, 'puntaje'] = info_fiumark_df.loc[(~fue_a_sala_3D) & (~fue_a_sala_normal) & es_mujer, 'puntaje'] + 0.4\n",
    "    info_fiumark_df.loc[fue_a_sala_normal & es_hombre, 'puntaje'] = info_fiumark_df.loc[fue_a_sala_normal & es_hombre, 'puntaje'] + 0.3\n",
    "    \n",
    "    #FILA\n",
    "    info_fiumark_df.loc[se_sento_adelante, 'puntaje'] = info_fiumark_df.loc[se_sento_adelante, 'puntaje'] + 0.2\n",
    "    \n",
    "    info_fiumark_df['volveria_estimado'] = 0\n",
    "    puntaje_suficiente = info_fiumark_df['puntaje']>=1\n",
    "    info_fiumark_df.loc[puntaje_suficiente,'volveria_estimado'] = info_fiumark_df.loc[puntaje_suficiente,'volveria_estimado'] +1\n",
    "    \n",
    "    return info_fiumark_df['volveria_estimado']#.tolist()"
   ]
  },
  {
   "cell_type": "markdown",
   "metadata": {},
   "source": [
    "El porcentaje de aciertos que obtuvimos es de 82%"
   ]
  },
  {
   "cell_type": "code",
   "execution_count": 82,
   "metadata": {},
   "outputs": [
    {
     "data": {
      "text/plain": [
       "0.8064918851435705"
      ]
     },
     "execution_count": 82,
     "metadata": {},
     "output_type": "execute_result"
    }
   ],
   "source": [
    "(baseline(info_fiumark_df)==info_fiumark_df['volveria']).mean()"
   ]
  },
  {
   "cell_type": "code",
   "execution_count": null,
   "metadata": {},
   "outputs": [],
   "source": []
  }
 ],
 "metadata": {
  "colab": {
   "collapsed_sections": [],
   "include_colab_link": true,
   "name": "TP-Datos.ipynb",
   "provenance": []
  },
  "kernelspec": {
   "display_name": "Python 3",
   "language": "python",
   "name": "python3"
  },
  "language_info": {
   "codemirror_mode": {
    "name": "ipython",
    "version": 3
   },
   "file_extension": ".py",
   "mimetype": "text/x-python",
   "name": "python",
   "nbconvert_exporter": "python",
   "pygments_lexer": "ipython3",
   "version": "3.8.5"
  }
 },
 "nbformat": 4,
 "nbformat_minor": 4
}
