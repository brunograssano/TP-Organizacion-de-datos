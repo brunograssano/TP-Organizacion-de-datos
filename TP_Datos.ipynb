{
 "cells": [
  {
   "cell_type": "markdown",
   "metadata": {
    "colab_type": "text",
    "id": "view-in-github"
   },
   "source": [
    "<a href=\"https://colab.research.google.com/github/brunograssano/TP-Organizacion-de-datos/blob/main/TP_Datos.ipynb\" target=\"_parent\"><img src=\"https://colab.research.google.com/assets/colab-badge.svg\" alt=\"Open In Colab\"/></a>"
   ]
  },
  {
   "cell_type": "markdown",
   "metadata": {
    "id": "L23p0lRmEsZ5"
   },
   "source": [
    "# Trabajo Practico: Analisis Exploratorio - Organizacion de Datos"
   ]
  },
  {
   "cell_type": "markdown",
   "metadata": {
    "id": "VZvqSJKEE9D4"
   },
   "source": [
    "## Introduccion"
   ]
  },
  {
   "cell_type": "markdown",
   "metadata": {
    "id": "gwtUueJeFCmh"
   },
   "source": [
    "En el presente trabajo se propone realizar un analisis de los datos recolectados por una empresa en los ultimos 2 meses sobre los clientes que fueron a ver la pelicula Frozen 3. La encuesta consistia en una serie de preguntas personales que concluia si el cliente volveria a ese cine si salia Frozen 4.\n",
    "\n",
    "El objetivo de la empresa es poder dirigir futuras campañas de marketing digital en base a esta informacion recolectada"
   ]
  },
  {
   "cell_type": "markdown",
   "metadata": {
    "id": "h4kz6GojFSZw"
   },
   "source": [
    "## Objetivos"
   ]
  },
  {
   "cell_type": "markdown",
   "metadata": {
    "id": "tiPzBHUlJ0vU"
   },
   "source": [
    "El objetivo del notebook es:\n",
    "*   Entender los datos\n",
    "*   Ver como los datos se relacionan entre si\n",
    "*   Poder sacar alguna conclusión o descubrir un patrón a partir de estos\n",
    "*   Indicar cuáles son los factores más importantes que determinan si un usuario va a ir al cine a ver Frozen 4 o no.\n",
    "\n",
    "\n"
   ]
  },
  {
   "cell_type": "markdown",
   "metadata": {
    "id": "vLn4b3ckGpN-"
   },
   "source": [
    "## Configuraciones Iniciales"
   ]
  },
  {
   "cell_type": "markdown",
   "metadata": {
    "id": "ryJZhQRlHRPv"
   },
   "source": [
    "Primero cargamos las bibliotecas que se van a ir usando a lo largo del trabajo, y realizamos la configuracion para los graficos que armemos."
   ]
  },
  {
   "cell_type": "code",
   "execution_count": 1,
   "metadata": {
    "id": "QaKwLbPIGsNV"
   },
   "outputs": [],
   "source": [
    "import pandas as pd\n",
    "import numpy as np\n",
    "import matplotlib.pyplot as plt\n",
    "import seaborn as sns"
   ]
  },
  {
   "cell_type": "markdown",
   "metadata": {
    "id": "UZq__1YAFZi-"
   },
   "source": [
    "## Carga y limpieza del set de datos"
   ]
  },
  {
   "cell_type": "markdown",
   "metadata": {
    "id": "XcZxtmo6KFI1"
   },
   "source": [
    "Cargamos ambos Datasets y vemos de dejarlos listos para comenzar el trabajo"
   ]
  },
  {
   "cell_type": "code",
   "execution_count": 2,
   "metadata": {
    "colab": {
     "base_uri": "https://localhost:8080/",
     "height": 204
    },
    "id": "iekRTA5nGjcb",
    "outputId": "94e1f10d-0982-4aef-ee2a-bf7313d66494"
   },
   "outputs": [
    {
     "data": {
      "text/html": [
       "<div>\n",
       "<style scoped>\n",
       "    .dataframe tbody tr th:only-of-type {\n",
       "        vertical-align: middle;\n",
       "    }\n",
       "\n",
       "    .dataframe tbody tr th {\n",
       "        vertical-align: top;\n",
       "    }\n",
       "\n",
       "    .dataframe thead th {\n",
       "        text-align: right;\n",
       "    }\n",
       "</style>\n",
       "<table border=\"1\" class=\"dataframe\">\n",
       "  <thead>\n",
       "    <tr style=\"text-align: right;\">\n",
       "      <th></th>\n",
       "      <th>id_usuario</th>\n",
       "      <th>volveria</th>\n",
       "    </tr>\n",
       "  </thead>\n",
       "  <tbody>\n",
       "    <tr>\n",
       "      <th>0</th>\n",
       "      <td>117</td>\n",
       "      <td>0</td>\n",
       "    </tr>\n",
       "    <tr>\n",
       "      <th>1</th>\n",
       "      <td>658</td>\n",
       "      <td>0</td>\n",
       "    </tr>\n",
       "    <tr>\n",
       "      <th>2</th>\n",
       "      <td>794</td>\n",
       "      <td>0</td>\n",
       "    </tr>\n",
       "    <tr>\n",
       "      <th>3</th>\n",
       "      <td>455</td>\n",
       "      <td>0</td>\n",
       "    </tr>\n",
       "    <tr>\n",
       "      <th>4</th>\n",
       "      <td>173</td>\n",
       "      <td>1</td>\n",
       "    </tr>\n",
       "  </tbody>\n",
       "</table>\n",
       "</div>"
      ],
      "text/plain": [
       "   id_usuario  volveria\n",
       "0         117         0\n",
       "1         658         0\n",
       "2         794         0\n",
       "3         455         0\n",
       "4         173         1"
      ]
     },
     "execution_count": 2,
     "metadata": {},
     "output_type": "execute_result"
    }
   ],
   "source": [
    "usuario_volveria_df = pd.read_csv('tp-2020-2c-train-cols1.csv')\n",
    "usuario_volveria_df.head()"
   ]
  },
  {
   "cell_type": "code",
   "execution_count": 3,
   "metadata": {
    "colab": {
     "base_uri": "https://localhost:8080/",
     "height": 204
    },
    "id": "2ctUvMqoKQ0_",
    "outputId": "b0c9b756-de6d-4bbd-acdb-b46b0df4cea4"
   },
   "outputs": [
    {
     "data": {
      "text/html": [
       "<div>\n",
       "<style scoped>\n",
       "    .dataframe tbody tr th:only-of-type {\n",
       "        vertical-align: middle;\n",
       "    }\n",
       "\n",
       "    .dataframe tbody tr th {\n",
       "        vertical-align: top;\n",
       "    }\n",
       "\n",
       "    .dataframe thead th {\n",
       "        text-align: right;\n",
       "    }\n",
       "</style>\n",
       "<table border=\"1\" class=\"dataframe\">\n",
       "  <thead>\n",
       "    <tr style=\"text-align: right;\">\n",
       "      <th></th>\n",
       "      <th>tipo_de_sala</th>\n",
       "      <th>nombre</th>\n",
       "      <th>id_usuario</th>\n",
       "      <th>genero</th>\n",
       "      <th>edad</th>\n",
       "      <th>amigos</th>\n",
       "      <th>parientes</th>\n",
       "      <th>id_ticket</th>\n",
       "      <th>precio_ticket</th>\n",
       "      <th>fila</th>\n",
       "      <th>nombre_sede</th>\n",
       "    </tr>\n",
       "  </thead>\n",
       "  <tbody>\n",
       "    <tr>\n",
       "      <th>0</th>\n",
       "      <td>4d</td>\n",
       "      <td>Señor Camilo Pedro</td>\n",
       "      <td>117</td>\n",
       "      <td>hombre</td>\n",
       "      <td>73.5</td>\n",
       "      <td>0</td>\n",
       "      <td>0</td>\n",
       "      <td>59258;</td>\n",
       "      <td>1</td>\n",
       "      <td>NaN</td>\n",
       "      <td>fiumark_quilmes</td>\n",
       "    </tr>\n",
       "    <tr>\n",
       "      <th>1</th>\n",
       "      <td>4d</td>\n",
       "      <td>Señora Raquel Angelica</td>\n",
       "      <td>658</td>\n",
       "      <td>mujer</td>\n",
       "      <td>35.0</td>\n",
       "      <td>1</td>\n",
       "      <td>1</td>\n",
       "      <td>586:6;</td>\n",
       "      <td>2</td>\n",
       "      <td>NaN</td>\n",
       "      <td>fiumark_quilmes</td>\n",
       "    </tr>\n",
       "    <tr>\n",
       "      <th>2</th>\n",
       "      <td>normal</td>\n",
       "      <td>Señor Antonio Federico</td>\n",
       "      <td>794</td>\n",
       "      <td>hombre</td>\n",
       "      <td>NaN</td>\n",
       "      <td>0</td>\n",
       "      <td>0</td>\n",
       "      <td>RE\"39822</td>\n",
       "      <td>3</td>\n",
       "      <td>NaN</td>\n",
       "      <td>fiumark_chacarita</td>\n",
       "    </tr>\n",
       "    <tr>\n",
       "      <th>3</th>\n",
       "      <td>4d</td>\n",
       "      <td>Señor Osvaldo Aureliano</td>\n",
       "      <td>455</td>\n",
       "      <td>hombre</td>\n",
       "      <td>NaN</td>\n",
       "      <td>0</td>\n",
       "      <td>0</td>\n",
       "      <td>C17\"4:39</td>\n",
       "      <td>1</td>\n",
       "      <td>NaN</td>\n",
       "      <td>fiumark_palermo</td>\n",
       "    </tr>\n",
       "    <tr>\n",
       "      <th>4</th>\n",
       "      <td>4d</td>\n",
       "      <td>Señorita Rita Eudosia</td>\n",
       "      <td>173</td>\n",
       "      <td>mujer</td>\n",
       "      <td>4.0</td>\n",
       "      <td>1</td>\n",
       "      <td>1</td>\n",
       "      <td>569964</td>\n",
       "      <td>2</td>\n",
       "      <td>NaN</td>\n",
       "      <td>fiumark_palermo</td>\n",
       "    </tr>\n",
       "  </tbody>\n",
       "</table>\n",
       "</div>"
      ],
      "text/plain": [
       "  tipo_de_sala                   nombre  id_usuario  genero  edad  amigos  \\\n",
       "0           4d       Señor Camilo Pedro         117  hombre  73.5       0   \n",
       "1           4d   Señora Raquel Angelica         658   mujer  35.0       1   \n",
       "2       normal   Señor Antonio Federico         794  hombre   NaN       0   \n",
       "3           4d  Señor Osvaldo Aureliano         455  hombre   NaN       0   \n",
       "4           4d    Señorita Rita Eudosia         173   mujer   4.0       1   \n",
       "\n",
       "   parientes id_ticket  precio_ticket fila        nombre_sede  \n",
       "0          0    59258;              1  NaN    fiumark_quilmes  \n",
       "1          1    586:6;              2  NaN    fiumark_quilmes  \n",
       "2          0  RE\"39822              3  NaN  fiumark_chacarita  \n",
       "3          0  C17\"4:39              1  NaN    fiumark_palermo  \n",
       "4          1    569964              2  NaN    fiumark_palermo  "
      ]
     },
     "execution_count": 3,
     "metadata": {},
     "output_type": "execute_result"
    }
   ],
   "source": [
    "info_fiumark_df = pd.read_csv('tp-2020-2c-train-cols2.csv')\n",
    "info_fiumark_df.head()"
   ]
  },
  {
   "cell_type": "markdown",
   "metadata": {
    "id": "9b25m2BLKpSd"
   },
   "source": [
    "Analizamos primero los tipos de datos que tienen ambos dataframes con el objetivo de poder convertirlos a otros que puedan llegar a ser mas utiles."
   ]
  },
  {
   "cell_type": "code",
   "execution_count": 4,
   "metadata": {
    "colab": {
     "base_uri": "https://localhost:8080/",
     "height": 170
    },
    "id": "e-2myoT-K820",
    "outputId": "82b896db-d95d-4ac0-d120-81d96d79e4ca"
   },
   "outputs": [
    {
     "name": "stdout",
     "output_type": "stream",
     "text": [
      "<class 'pandas.core.frame.DataFrame'>\n",
      "RangeIndex: 801 entries, 0 to 800\n",
      "Data columns (total 2 columns):\n",
      " #   Column      Non-Null Count  Dtype\n",
      "---  ------      --------------  -----\n",
      " 0   id_usuario  801 non-null    int64\n",
      " 1   volveria    801 non-null    int64\n",
      "dtypes: int64(2)\n",
      "memory usage: 12.6 KB\n"
     ]
    }
   ],
   "source": [
    "usuario_volveria_df.info()"
   ]
  },
  {
   "cell_type": "markdown",
   "metadata": {
    "id": "VM026iYRNyYR"
   },
   "source": [
    "Notamos que la columna de 'volveria' es de tipo int64, cuando solamente tiene valores que pueden ser 0 o 1. Un mejor tipo de dato para este caso puede ser un int8. Esto permitiria ahorrar memoria. (Aunque en este caso no sean muchos datos)"
   ]
  },
  {
   "cell_type": "code",
   "execution_count": 5,
   "metadata": {
    "id": "MP7Ia9-kN16y"
   },
   "outputs": [],
   "source": [
    "usuario_volveria_df['volveria'] = usuario_volveria_df['volveria'].astype(np.int8)"
   ]
  },
  {
   "cell_type": "markdown",
   "metadata": {
    "id": "vsgPgT6yPFq4"
   },
   "source": [
    "Observamos en la informacion del dataframe que hay 801 registros y que para este caso no se encuentran valores nulos"
   ]
  },
  {
   "cell_type": "markdown",
   "metadata": {
    "id": "svXfIHx8Pj-D"
   },
   "source": [
    "Veamos ahora el otro dataframe. Este dataframe contiene la informacion respecto de las personas. "
   ]
  },
  {
   "cell_type": "code",
   "execution_count": 6,
   "metadata": {
    "colab": {
     "base_uri": "https://localhost:8080/",
     "height": 323
    },
    "id": "k0Dn0Eu2MVnM",
    "outputId": "aac56218-c457-444c-8182-c935b9494410"
   },
   "outputs": [
    {
     "name": "stdout",
     "output_type": "stream",
     "text": [
      "<class 'pandas.core.frame.DataFrame'>\n",
      "RangeIndex: 801 entries, 0 to 800\n",
      "Data columns (total 11 columns):\n",
      " #   Column         Non-Null Count  Dtype  \n",
      "---  ------         --------------  -----  \n",
      " 0   tipo_de_sala   801 non-null    object \n",
      " 1   nombre         801 non-null    object \n",
      " 2   id_usuario     801 non-null    int64  \n",
      " 3   genero         801 non-null    object \n",
      " 4   edad           641 non-null    float64\n",
      " 5   amigos         801 non-null    int64  \n",
      " 6   parientes      801 non-null    int64  \n",
      " 7   id_ticket      801 non-null    object \n",
      " 8   precio_ticket  801 non-null    int64  \n",
      " 9   fila           177 non-null    object \n",
      " 10  nombre_sede    799 non-null    object \n",
      "dtypes: float64(1), int64(4), object(6)\n",
      "memory usage: 69.0+ KB\n"
     ]
    }
   ],
   "source": [
    "info_fiumark_df.info()"
   ]
  },
  {
   "cell_type": "markdown",
   "metadata": {
    "id": "4SPAoHwdQJ1v"
   },
   "source": [
    "Notamos una gran cantidad de valores nulos en la columna \"fila\" y algunos en \"edad\" y \"nombre_sede\". Como las columnas que tienen los valores nulos pueden llegar a ser relevantes para el analisis, siendo este el caso de las columnas \"fila\" y \"edad\" decidimos crear la categoria \"No responde\" para el caso de \"fila\"."
   ]
  },
  {
   "cell_type": "code",
   "execution_count": 7,
   "metadata": {
    "id": "Bq12PsRaXk1D"
   },
   "outputs": [],
   "source": [
    "info_fiumark_df['fila'].fillna(\"No responde\",inplace=True)"
   ]
  },
  {
   "cell_type": "markdown",
   "metadata": {
    "id": "l9EceQi1YPkY"
   },
   "source": [
    "Ahora vemos la cantidad de valores unicos para las columnas de tipo objeto, para poder determinar a cuales les corresponderia tener un tipo categorico."
   ]
  },
  {
   "cell_type": "code",
   "execution_count": 8,
   "metadata": {
    "colab": {
     "base_uri": "https://localhost:8080/",
     "height": 136
    },
    "id": "UCSJpvUGMV0b",
    "outputId": "2891b9a8-d1fa-422d-db2a-041c70564038"
   },
   "outputs": [
    {
     "data": {
      "text/plain": [
       "tipo_de_sala      3\n",
       "nombre          801\n",
       "genero            2\n",
       "id_ticket       635\n",
       "fila              3\n",
       "nombre_sede       3\n",
       "dtype: int64"
      ]
     },
     "execution_count": 8,
     "metadata": {},
     "output_type": "execute_result"
    }
   ],
   "source": [
    "info_fiumark_df.select_dtypes(include=['object']).nunique()"
   ]
  },
  {
   "cell_type": "code",
   "execution_count": 9,
   "metadata": {
    "id": "s1qbPtggRorl"
   },
   "outputs": [],
   "source": [
    "info_fiumark_df[\"tipo_de_sala\"] = info_fiumark_df[\"tipo_de_sala\"].astype(\"category\")\n",
    "info_fiumark_df[\"genero\"] = info_fiumark_df[\"genero\"].astype(\"category\")\n",
    "info_fiumark_df[\"nombre_sede\"] = info_fiumark_df[\"nombre_sede\"].astype(\"category\")\n",
    "info_fiumark_df[\"fila\"] = info_fiumark_df[\"fila\"].astype(\"category\")\n"
   ]
  },
  {
   "cell_type": "markdown",
   "metadata": {
    "id": "YSEnM6X0Rp1Q"
   },
   "source": [
    "Otra cosa que observamos que las edades estan en formato de float, lo cual nos resulto llamativo, por lo que decidimos cortar los valores, llevandolos al piso."
   ]
  },
  {
   "cell_type": "code",
   "execution_count": 10,
   "metadata": {
    "id": "2DHci65oUPPJ"
   },
   "outputs": [],
   "source": [
    "info_fiumark_df['edad'] = info_fiumark_df['edad'].apply(np.floor) \n",
    "#info_fiumark_df['edad'] = info_fiumark_df['edad'].astype(np.int) # VER QUE HACEMOS CON LOS VALORES NULOS, PREGUNTAR SI ES VALIDO TOMAR EL 3er CUANTIL POR LA EDAD"
   ]
  },
  {
   "cell_type": "markdown",
   "metadata": {
    "id": "YUv4nA73MuhE"
   },
   "source": [
    "Tambien observamos que entre los datos que nos fueron entregados se encuentra el codigo de ticket: \"id_ticket\". Consideramos\n",
    "que la informacion en ella es irrelevante para nuestros propositos y por lo tanto la eliminamos. Esta decision se debe a que parece que el codigo del ticket tiene forma de ser generada de forma aleatoria y no da la impresion de estar relacionada con la variable de interes para el analisis."
   ]
  },
  {
   "cell_type": "code",
   "execution_count": 11,
   "metadata": {
    "id": "3Y7d9mFhZmGY"
   },
   "outputs": [],
   "source": [
    "info_fiumark_df.drop(columns='id_ticket',inplace=True)"
   ]
  },
  {
   "cell_type": "markdown",
   "metadata": {
    "id": "6c88G25mYkD4"
   },
   "source": [
    "Habiendo hecho esos cambios, finalmente nos queda el dataframe de la siguiente forma. En el proceso se redujo el uso de memoria, pasando de 69.0KB a 41.2KB."
   ]
  },
  {
   "cell_type": "code",
   "execution_count": 12,
   "metadata": {
    "colab": {
     "base_uri": "https://localhost:8080/",
     "height": 306
    },
    "id": "G9eDYU86MWOu",
    "outputId": "374a195d-092e-47ce-ed56-4380fec27709"
   },
   "outputs": [
    {
     "name": "stdout",
     "output_type": "stream",
     "text": [
      "<class 'pandas.core.frame.DataFrame'>\n",
      "RangeIndex: 801 entries, 0 to 800\n",
      "Data columns (total 10 columns):\n",
      " #   Column         Non-Null Count  Dtype   \n",
      "---  ------         --------------  -----   \n",
      " 0   tipo_de_sala   801 non-null    category\n",
      " 1   nombre         801 non-null    object  \n",
      " 2   id_usuario     801 non-null    int64   \n",
      " 3   genero         801 non-null    category\n",
      " 4   edad           641 non-null    float64 \n",
      " 5   amigos         801 non-null    int64   \n",
      " 6   parientes      801 non-null    int64   \n",
      " 7   precio_ticket  801 non-null    int64   \n",
      " 8   fila           801 non-null    category\n",
      " 9   nombre_sede    799 non-null    category\n",
      "dtypes: category(4), float64(1), int64(4), object(1)\n",
      "memory usage: 41.2+ KB\n"
     ]
    }
   ],
   "source": [
    "info_fiumark_df.info()"
   ]
  },
  {
   "cell_type": "code",
   "execution_count": 13,
   "metadata": {
    "colab": {
     "base_uri": "https://localhost:8080/",
     "height": 204
    },
    "id": "L9J4tEH9W0qI",
    "outputId": "6039aecd-a19e-46b3-dc5f-01262379b4c7"
   },
   "outputs": [
    {
     "data": {
      "text/html": [
       "<div>\n",
       "<style scoped>\n",
       "    .dataframe tbody tr th:only-of-type {\n",
       "        vertical-align: middle;\n",
       "    }\n",
       "\n",
       "    .dataframe tbody tr th {\n",
       "        vertical-align: top;\n",
       "    }\n",
       "\n",
       "    .dataframe thead th {\n",
       "        text-align: right;\n",
       "    }\n",
       "</style>\n",
       "<table border=\"1\" class=\"dataframe\">\n",
       "  <thead>\n",
       "    <tr style=\"text-align: right;\">\n",
       "      <th></th>\n",
       "      <th>tipo_de_sala</th>\n",
       "      <th>nombre</th>\n",
       "      <th>id_usuario</th>\n",
       "      <th>genero</th>\n",
       "      <th>edad</th>\n",
       "      <th>amigos</th>\n",
       "      <th>parientes</th>\n",
       "      <th>precio_ticket</th>\n",
       "      <th>fila</th>\n",
       "      <th>nombre_sede</th>\n",
       "    </tr>\n",
       "  </thead>\n",
       "  <tbody>\n",
       "    <tr>\n",
       "      <th>0</th>\n",
       "      <td>4d</td>\n",
       "      <td>Señor Camilo Pedro</td>\n",
       "      <td>117</td>\n",
       "      <td>hombre</td>\n",
       "      <td>73.0</td>\n",
       "      <td>0</td>\n",
       "      <td>0</td>\n",
       "      <td>1</td>\n",
       "      <td>No responde</td>\n",
       "      <td>fiumark_quilmes</td>\n",
       "    </tr>\n",
       "    <tr>\n",
       "      <th>1</th>\n",
       "      <td>4d</td>\n",
       "      <td>Señora Raquel Angelica</td>\n",
       "      <td>658</td>\n",
       "      <td>mujer</td>\n",
       "      <td>35.0</td>\n",
       "      <td>1</td>\n",
       "      <td>1</td>\n",
       "      <td>2</td>\n",
       "      <td>No responde</td>\n",
       "      <td>fiumark_quilmes</td>\n",
       "    </tr>\n",
       "    <tr>\n",
       "      <th>2</th>\n",
       "      <td>normal</td>\n",
       "      <td>Señor Antonio Federico</td>\n",
       "      <td>794</td>\n",
       "      <td>hombre</td>\n",
       "      <td>NaN</td>\n",
       "      <td>0</td>\n",
       "      <td>0</td>\n",
       "      <td>3</td>\n",
       "      <td>No responde</td>\n",
       "      <td>fiumark_chacarita</td>\n",
       "    </tr>\n",
       "    <tr>\n",
       "      <th>3</th>\n",
       "      <td>4d</td>\n",
       "      <td>Señor Osvaldo Aureliano</td>\n",
       "      <td>455</td>\n",
       "      <td>hombre</td>\n",
       "      <td>NaN</td>\n",
       "      <td>0</td>\n",
       "      <td>0</td>\n",
       "      <td>1</td>\n",
       "      <td>No responde</td>\n",
       "      <td>fiumark_palermo</td>\n",
       "    </tr>\n",
       "    <tr>\n",
       "      <th>4</th>\n",
       "      <td>4d</td>\n",
       "      <td>Señorita Rita Eudosia</td>\n",
       "      <td>173</td>\n",
       "      <td>mujer</td>\n",
       "      <td>4.0</td>\n",
       "      <td>1</td>\n",
       "      <td>1</td>\n",
       "      <td>2</td>\n",
       "      <td>No responde</td>\n",
       "      <td>fiumark_palermo</td>\n",
       "    </tr>\n",
       "  </tbody>\n",
       "</table>\n",
       "</div>"
      ],
      "text/plain": [
       "  tipo_de_sala                   nombre  id_usuario  genero  edad  amigos  \\\n",
       "0           4d       Señor Camilo Pedro         117  hombre  73.0       0   \n",
       "1           4d   Señora Raquel Angelica         658   mujer  35.0       1   \n",
       "2       normal   Señor Antonio Federico         794  hombre   NaN       0   \n",
       "3           4d  Señor Osvaldo Aureliano         455  hombre   NaN       0   \n",
       "4           4d    Señorita Rita Eudosia         173   mujer   4.0       1   \n",
       "\n",
       "   parientes  precio_ticket         fila        nombre_sede  \n",
       "0          0              1  No responde    fiumark_quilmes  \n",
       "1          1              2  No responde    fiumark_quilmes  \n",
       "2          0              3  No responde  fiumark_chacarita  \n",
       "3          0              1  No responde    fiumark_palermo  \n",
       "4          1              2  No responde    fiumark_palermo  "
      ]
     },
     "execution_count": 13,
     "metadata": {},
     "output_type": "execute_result"
    }
   ],
   "source": [
    "info_fiumark_df.head()"
   ]
  },
  {
   "cell_type": "markdown",
   "metadata": {
    "id": "ZtiDONfHhJWI"
   },
   "source": [
    "Por ultimo, dejamos unidos ambos dataframes."
   ]
  },
  {
   "cell_type": "code",
   "execution_count": 14,
   "metadata": {
    "colab": {
     "base_uri": "https://localhost:8080/",
     "height": 204
    },
    "id": "H_3rfm0tglxY",
    "outputId": "c07acc12-1247-44a2-c095-affdf71a8fba"
   },
   "outputs": [
    {
     "data": {
      "text/html": [
       "<div>\n",
       "<style scoped>\n",
       "    .dataframe tbody tr th:only-of-type {\n",
       "        vertical-align: middle;\n",
       "    }\n",
       "\n",
       "    .dataframe tbody tr th {\n",
       "        vertical-align: top;\n",
       "    }\n",
       "\n",
       "    .dataframe thead th {\n",
       "        text-align: right;\n",
       "    }\n",
       "</style>\n",
       "<table border=\"1\" class=\"dataframe\">\n",
       "  <thead>\n",
       "    <tr style=\"text-align: right;\">\n",
       "      <th></th>\n",
       "      <th>tipo_de_sala</th>\n",
       "      <th>nombre</th>\n",
       "      <th>id_usuario</th>\n",
       "      <th>genero</th>\n",
       "      <th>edad</th>\n",
       "      <th>amigos</th>\n",
       "      <th>parientes</th>\n",
       "      <th>precio_ticket</th>\n",
       "      <th>fila</th>\n",
       "      <th>nombre_sede</th>\n",
       "      <th>volveria</th>\n",
       "    </tr>\n",
       "  </thead>\n",
       "  <tbody>\n",
       "    <tr>\n",
       "      <th>0</th>\n",
       "      <td>4d</td>\n",
       "      <td>Señor Camilo Pedro</td>\n",
       "      <td>117</td>\n",
       "      <td>hombre</td>\n",
       "      <td>73.0</td>\n",
       "      <td>0</td>\n",
       "      <td>0</td>\n",
       "      <td>1</td>\n",
       "      <td>No responde</td>\n",
       "      <td>fiumark_quilmes</td>\n",
       "      <td>0</td>\n",
       "    </tr>\n",
       "    <tr>\n",
       "      <th>1</th>\n",
       "      <td>4d</td>\n",
       "      <td>Señora Raquel Angelica</td>\n",
       "      <td>658</td>\n",
       "      <td>mujer</td>\n",
       "      <td>35.0</td>\n",
       "      <td>1</td>\n",
       "      <td>1</td>\n",
       "      <td>2</td>\n",
       "      <td>No responde</td>\n",
       "      <td>fiumark_quilmes</td>\n",
       "      <td>0</td>\n",
       "    </tr>\n",
       "    <tr>\n",
       "      <th>2</th>\n",
       "      <td>normal</td>\n",
       "      <td>Señor Antonio Federico</td>\n",
       "      <td>794</td>\n",
       "      <td>hombre</td>\n",
       "      <td>NaN</td>\n",
       "      <td>0</td>\n",
       "      <td>0</td>\n",
       "      <td>3</td>\n",
       "      <td>No responde</td>\n",
       "      <td>fiumark_chacarita</td>\n",
       "      <td>0</td>\n",
       "    </tr>\n",
       "    <tr>\n",
       "      <th>3</th>\n",
       "      <td>4d</td>\n",
       "      <td>Señor Osvaldo Aureliano</td>\n",
       "      <td>455</td>\n",
       "      <td>hombre</td>\n",
       "      <td>NaN</td>\n",
       "      <td>0</td>\n",
       "      <td>0</td>\n",
       "      <td>1</td>\n",
       "      <td>No responde</td>\n",
       "      <td>fiumark_palermo</td>\n",
       "      <td>0</td>\n",
       "    </tr>\n",
       "    <tr>\n",
       "      <th>4</th>\n",
       "      <td>4d</td>\n",
       "      <td>Señorita Rita Eudosia</td>\n",
       "      <td>173</td>\n",
       "      <td>mujer</td>\n",
       "      <td>4.0</td>\n",
       "      <td>1</td>\n",
       "      <td>1</td>\n",
       "      <td>2</td>\n",
       "      <td>No responde</td>\n",
       "      <td>fiumark_palermo</td>\n",
       "      <td>1</td>\n",
       "    </tr>\n",
       "  </tbody>\n",
       "</table>\n",
       "</div>"
      ],
      "text/plain": [
       "  tipo_de_sala                   nombre  id_usuario  genero  edad  amigos  \\\n",
       "0           4d       Señor Camilo Pedro         117  hombre  73.0       0   \n",
       "1           4d   Señora Raquel Angelica         658   mujer  35.0       1   \n",
       "2       normal   Señor Antonio Federico         794  hombre   NaN       0   \n",
       "3           4d  Señor Osvaldo Aureliano         455  hombre   NaN       0   \n",
       "4           4d    Señorita Rita Eudosia         173   mujer   4.0       1   \n",
       "\n",
       "   parientes  precio_ticket         fila        nombre_sede  volveria  \n",
       "0          0              1  No responde    fiumark_quilmes         0  \n",
       "1          1              2  No responde    fiumark_quilmes         0  \n",
       "2          0              3  No responde  fiumark_chacarita         0  \n",
       "3          0              1  No responde    fiumark_palermo         0  \n",
       "4          1              2  No responde    fiumark_palermo         1  "
      ]
     },
     "execution_count": 14,
     "metadata": {},
     "output_type": "execute_result"
    }
   ],
   "source": [
    "info_fiumark_df = info_fiumark_df.merge(usuario_volveria_df,on='id_usuario')\n",
    "info_fiumark_df.head()"
   ]
  },
  {
   "cell_type": "code",
   "execution_count": 15,
   "metadata": {
    "id": "qwVauDe8DEo1"
   },
   "outputs": [],
   "source": [
    "#Explicar qué conclusiones se pueden llegar a partir de analizar los datos recolectados. \n",
    "#La empresa quiere saber cómo entender cada uno de los datos, cómo se relacionan entre sí\n",
    "#Si se puede sacar alguna conclusión o descubrir un patrón a partir de estos. \n",
    "#Adicionalmente quieren saber cuáles son los factores más importantes que determinan si un usuario va a ir al cine a ver Frozen 4 o no."
   ]
  },
  {
   "cell_type": "markdown",
   "metadata": {
    "id": "iuV3s3jjfMAo"
   },
   "source": [
    "## Analisis exploratorio"
   ]
  },
  {
   "cell_type": "markdown",
   "metadata": {
    "id": "jd7RjcsQff_m"
   },
   "source": [
    "Empecemos el analisis haciendonos algunas preguntas sencillas.  \n",
    "* ¿Es el genero una variable determinante a la hora de decidir ver la secuela?\n",
    "*\n",
    "* ¿Afecta en algo el ir a disitintos tipos de sala la decision?\n",
    "*\n",
    "*\n",
    "* \n",
    "* ¿Hay mas gente que iria a la secuela si fue a una sede en particular?\n",
    "* ¿El precio fue determinante?"
   ]
  },
  {
   "cell_type": "code",
   "execution_count": 16,
   "metadata": {
    "id": "kJFskt14jWfP"
   },
   "outputs": [],
   "source": [
    "#¿Cuáles fueron las preguntas que se plantearon inicialmente?\n",
    "#¿Qué se hizo para responder a esas preguntas?\n",
    "#De los gráficos y análisis hechos, ¿qué conclusiones se pueden sacar?\n",
    "#A partir del trabajo en los anteriores puntos, ¿surgieron nuevas dudas? -> Volver al paso 2\n",
    "#A partir de todo el análisis anterior, construir el código baseline que se va a usar para la primera ronda de campaña digital. Fundamentar el código basándose en las conclusiones de los anteriores puntos."
   ]
  },
  {
   "cell_type": "markdown",
   "metadata": {
    "id": "LFS0t-PsfwhS"
   },
   "source": [
    "### ¿Cuanto afecta el genero a la hora de ir a ver la siguiente pelicula?"
   ]
  },
  {
   "cell_type": "markdown",
   "metadata": {
    "id": "dCd9ScgmkDkQ"
   },
   "source": [
    "Vemos que proporcion de los hombres y mujeres que fueron a ver la pelicula volverian a ver la secuela. Esto se puede obtener de forma sencilla.\n",
    "\n",
    "A priori esperamos que la proporcion de mujeres que deciden ir a ver la secuela sea mucho mayor que la de los hombres que fueron a ver la pelicula."
   ]
  },
  {
   "cell_type": "code",
   "execution_count": 17,
   "metadata": {
    "colab": {
     "base_uri": "https://localhost:8080/",
     "height": 85
    },
    "id": "kvjNx52MgQWi",
    "outputId": "31eb6d4f-686f-4b8e-dc7c-20b1fe2a9d52"
   },
   "outputs": [
    {
     "data": {
      "text/plain": [
       "genero\n",
       "hombre    0.18\n",
       "mujer     0.74\n",
       "Name: volveria, dtype: float64"
      ]
     },
     "execution_count": 17,
     "metadata": {},
     "output_type": "execute_result"
    }
   ],
   "source": [
    "porcentaje_generos_volveria = info_fiumark_df.groupby(by='genero')['volveria'].agg('mean')\n",
    "porcentaje_generos_volveria.round(2)"
   ]
  },
  {
   "cell_type": "markdown",
   "metadata": {
    "id": "GeFJl8eyk2bm"
   },
   "source": [
    "Habiendo hecho el calculo, en los numeros se ve claramente lo esperado."
   ]
  },
  {
   "cell_type": "code",
   "execution_count": 18,
   "metadata": {
    "colab": {
     "base_uri": "https://localhost:8080/",
     "height": 312
    },
    "id": "qqPqiwZxlD58",
    "outputId": "1ec622dc-c8fa-456f-c284-ff973c9a0da0"
   },
   "outputs": [
    {
     "data": {
      "text/plain": [
       "Text(0.5, 0, 'Genero')"
      ]
     },
     "execution_count": 18,
     "metadata": {},
     "output_type": "execute_result"
    },
    {
     "data": {
      "image/png": "[encoded data removed]",
      "text/plain": [
       "<Figure size 432x288 with 1 Axes>"
      ]
     },
     "metadata": {
      "needs_background": "light"
     },
     "output_type": "display_data"
    }
   ],
   "source": [
    "porcentaje_generos_volveria.plot(kind = 'bar',rot = 0, color = ['cornflowerblue','lightpink'], title = 'Proporcion de hombres y mujeres que irian a ver la secuela')\n",
    "ax = plt.gca()\n",
    "ax.set_ylabel(\"Porcentaje\")\n",
    "ax.set_xlabel(\"Genero\")"
   ]
  },
  {
   "cell_type": "code",
   "execution_count": null,
   "metadata": {
    "id": "jJULTUnfoWNl"
   },
   "outputs": [],
   "source": []
  },
  {
   "cell_type": "code",
   "execution_count": null,
   "metadata": {},
   "outputs": [],
   "source": []
  },
  {
   "cell_type": "code",
   "execution_count": null,
   "metadata": {},
   "outputs": [],
   "source": []
  },
  {
   "cell_type": "markdown",
   "metadata": {},
   "source": [
    "### ¿Afecta en algo el ir a disitintos tipos de sala la decision?"
   ]
  },
  {
   "cell_type": "markdown",
   "metadata": {},
   "source": [
    "Veamos ahora si la decision de ir a un tipo de sala mejor determina si se vuelve a ver la secuela. "
   ]
  },
  {
   "cell_type": "markdown",
   "metadata": {},
   "source": [
    "Para empezar veamos cuales hay."
   ]
  },
  {
   "cell_type": "code",
   "execution_count": 19,
   "metadata": {},
   "outputs": [
    {
     "data": {
      "text/plain": [
       "4d        447\n",
       "normal    187\n",
       "3d        167\n",
       "Name: tipo_de_sala, dtype: int64"
      ]
     },
     "execution_count": 19,
     "metadata": {},
     "output_type": "execute_result"
    }
   ],
   "source": [
    "cantidad_salas = info_fiumark_df['tipo_de_sala'].value_counts()\n",
    "cantidad_salas"
   ]
  },
  {
   "cell_type": "markdown",
   "metadata": {},
   "source": [
    "Sorprendentemente, la mayoria de la gente que fue a ver la pelicula decidio ir a las salas especiales (4D y 3D). Esto se puede deber a que se busca tener una experiencia unica al momento de ir al cine. Esto lo mostramos en el siguiente grafico con respecto a la cantidad total de gente que fue."
   ]
  },
  {
   "cell_type": "code",
   "execution_count": 20,
   "metadata": {},
   "outputs": [
    {
     "data": {
      "image/png": "[encoded data removed]",
      "text/plain": [
       "<Figure size 480x320 with 1 Axes>"
      ]
     },
     "metadata": {},
     "output_type": "display_data"
    }
   ],
   "source": [
    "circulo_centro=plt.Circle( (0,0), 0.7, color='white')\n",
    "plt.figure(dpi=80)\n",
    "plt.pie(cantidad_salas.values, labels=cantidad_salas.index.to_list(), colors=['goldenrod','salmon','skyblue'])\n",
    "p=plt.gcf()\n",
    "p.gca().add_artist(circulo_centro)\n",
    "plt.show()"
   ]
  },
  {
   "cell_type": "markdown",
   "metadata": {},
   "source": [
    "Busquemos ahora si hay relacion con la secuela.\n"
   ]
  },
  {
   "cell_type": "code",
   "execution_count": 21,
   "metadata": {},
   "outputs": [
    {
     "data": {
      "text/plain": [
       "tipo_de_sala\n",
       "3d        0.49\n",
       "4d        0.23\n",
       "normal    0.64\n",
       "Name: volveria, dtype: float64"
      ]
     },
     "execution_count": 21,
     "metadata": {},
     "output_type": "execute_result"
    }
   ],
   "source": [
    "porcentaje_volveria_salas = info_fiumark_df.groupby(by='tipo_de_sala')['volveria'].agg('mean').round(2)\n",
    "porcentaje_volveria_salas"
   ]
  },
  {
   "cell_type": "code",
   "execution_count": 22,
   "metadata": {},
   "outputs": [
    {
     "data": {
      "image/png": "[encoded data removed]",
      "text/plain": [
       "<Figure size 600x400 with 1 Axes>"
      ]
     },
     "metadata": {
      "needs_background": "light"
     },
     "output_type": "display_data"
    }
   ],
   "source": [
    "plt.figure(dpi=100)\n",
    "plt.bar(porcentaje_volveria_salas.index, porcentaje_volveria_salas.values, color = ['darksalmon','lightgreen','lightskyblue'])\n",
    "plt.ylabel(\"Porcentaje\")\n",
    "plt.xlabel(\"Tipos de sala de cine\")\n",
    "plt.ylim(0, 1)\n",
    "plt.title('Porcentaje de personas que irian a ver la secuela por sala')\n",
    "plt.show()"
   ]
  },
  {
   "cell_type": "markdown",
   "metadata": {},
   "source": [
    "Observando los resultados, notamos que una gran cantidad de la gente que fue a la sala 4D, decidio que no volveria a ver la secuela (cercano al 80%). Uno de los motivos por los que esto puede llegar a ser es que las personas que deciden ir a esta sala esperan tener una gran experiencia debido a los efectos que agrega la sala, ya sean movimientos, niebla, lluvia, u otros efectos del estilo, los cuales pueden no estar siendo aprovechados del todo durante la proyeccion de la pelicula.\n"
   ]
  },
  {
   "cell_type": "markdown",
   "metadata": {},
   "source": [
    "Con respecto a la sala 3D, podemos decir que no nos estaria aportando mucho por si sola. Esto se debe a que la mitad de la gente que decide ir a esta sala volveria a la secuela, mientras que el resto no. Resultando como si fuera el lanzamiento de una moneda."
   ]
  },
  {
   "cell_type": "markdown",
   "metadata": {},
   "source": [
    "Por ultimo, de la sala normal podemos decir que cerca del 64% dijo que vovleria a la secuela. Que una mayor cantidad diga en esta sala que volveria puede deberse a que ya conocieran de antes la serie de peliculas Frozen."
   ]
  },
  {
   "cell_type": "code",
   "execution_count": null,
   "metadata": {},
   "outputs": [],
   "source": []
  },
  {
   "cell_type": "code",
   "execution_count": null,
   "metadata": {},
   "outputs": [],
   "source": []
  },
  {
   "cell_type": "code",
   "execution_count": null,
   "metadata": {},
   "outputs": [],
   "source": []
  },
  {
   "cell_type": "markdown",
   "metadata": {},
   "source": [
    "### ¿Cuanto afecta el genero a la hora de ir a ver la siguiente pelicula?"
   ]
  },
  {
   "cell_type": "markdown",
   "metadata": {},
   "source": [
    "Veamos primero que proporcion de las personas que fueron a ver la pelicula son hombres y que proporcion mujeres:"
   ]
  },
  {
   "cell_type": "code",
   "execution_count": 23,
   "metadata": {},
   "outputs": [
    {
     "data": {
      "image/png": "[encoded data removed]",
      "text/plain": [
       "<Figure size 640x480 with 1 Axes>"
      ]
     },
     "metadata": {},
     "output_type": "display_data"
    }
   ],
   "source": [
    "plt.figure(figsize=(6.4, 4.8), dpi=100)\n",
    "genero = info_fiumark_df['genero'].value_counts().sort_index().plot(kind='pie', autopct='%1.0f%%')\n",
    "plt.show()"
   ]
  },
  {
   "cell_type": "markdown",
   "metadata": {},
   "source": [
    "Observamos que casi dos tercios de las personas que fueron a ver la pelicula son hombres y un tercio mujeres.\n",
    "Si bien a primera vista esto parece indicar que la pelicula atrae mas a hombres que a mujeres debemos analizar si\n",
    "estos hombres y mujeres disfrutaron la pelicula lo suficiente como para volver a verla."
   ]
  },
  {
   "cell_type": "markdown",
   "metadata": {},
   "source": [
    "Buscamos ver ahora que proporcion de los hombres y mujeres que fueron a ver la pelicula volverian a ver la secuela. Esto se puede obtener de forma sencilla."
   ]
  },
  {
   "cell_type": "markdown",
   "metadata": {},
   "source": [
    "A priori esperamos que la proporcion de mujeres que deciden ir a ver la secuela sea mucho mayor que la de los hombres que fueron a ver la pelicula."
   ]
  },
  {
   "cell_type": "code",
   "execution_count": 24,
   "metadata": {},
   "outputs": [
    {
     "data": {
      "text/plain": [
       "genero\n",
       "hombre    0.18\n",
       "mujer     0.74\n",
       "Name: volveria, dtype: float64"
      ]
     },
     "execution_count": 24,
     "metadata": {},
     "output_type": "execute_result"
    }
   ],
   "source": [
    "porcentaje_generos_volveria = info_fiumark_df.groupby(by='genero')['volveria'].agg('mean')\n",
    "porcentaje_generos_volveria.round(2)"
   ]
  },
  {
   "cell_type": "markdown",
   "metadata": {},
   "source": [
    "Habiendo hecho el calculo, en los numeros se ve claramente lo esperado."
   ]
  },
  {
   "cell_type": "code",
   "execution_count": 25,
   "metadata": {},
   "outputs": [
    {
     "data": {
      "image/png": "[encoded data removed]",
      "text/plain": [
       "<Figure size 432x288 with 1 Axes>"
      ]
     },
     "metadata": {
      "needs_background": "light"
     },
     "output_type": "display_data"
    }
   ],
   "source": [
    "porcentaje_genero_volveria = info_fiumark_df.groupby(by='genero')['volveria'].agg('mean')\n",
    "plt.bar(porcentaje_genero_volveria.index, porcentaje_genero_volveria.values, color = ['cornflowerblue','lightpink'])\n",
    "plt.ylabel(\"Porcentaje\")\n",
    "plt.xlabel(\"Genero\")\n",
    "plt.ylim(0, 1)\n",
    "plt.title('Porcentaje de hombre y mujeres que irian a ver la secuela')\n",
    "plt.show()"
   ]
  },
  {
   "cell_type": "markdown",
   "metadata": {},
   "source": [
    "El grafico nos dice que del total de mujeres que fue a ver la pelicula un 74% de ellas volveria a ver la secuela. Mientras que solo el 18% de los hombres consideraron que la pelicula disfruto la pelicula lo suficiente como para querer ir a ver la secuela."
   ]
  },
  {
   "cell_type": "markdown",
   "metadata": {},
   "source": [
    "Estas observaciones nos hicieron preguntarnos ¿Por que hubo tantos hombres fueron incialmente a ver la pelicula? Nuestras hipotesis son que pueden ser padres que llevaron a sus hijos a ver la pelicula."
   ]
  },
  {
   "cell_type": "markdown",
   "metadata": {},
   "source": [
    "Para responder esta pregunta buscamos primero ver la distribucion de las edades de los hombres y las mujeres, para ello realizamos un boxplot."
   ]
  },
  {
   "cell_type": "code",
   "execution_count": 26,
   "metadata": {},
   "outputs": [
    {
     "data": {
      "image/png": "[encoded data removed]",
      "text/plain": [
       "<Figure size 600x400 with 1 Axes>"
      ]
     },
     "metadata": {
      "needs_background": "light"
     },
     "output_type": "display_data"
    }
   ],
   "source": [
    "plt.figure(dpi=100)\n",
    "\n",
    "plt.title(\"Edades por genero\")\n",
    "sns.boxplot(\n",
    "    data= info_fiumark_df[['genero','edad']],\n",
    "    y='edad',\n",
    "    x='genero',\n",
    "    palette=['#D17049', \"#89D15E\"],\n",
    ")\n",
    "plt.ylabel(\"Edad\")\n",
    "plt.xticks([False, True])\n",
    "plt.show()"
   ]
  },
  {
   "cell_type": "markdown",
   "metadata": {
    "pycharm": {
     "name": "#%% md\n"
    }
   },
   "source": [
    "Podemos ver que la edad mediana de los hombres que fueron a ver la pelicula es mayor que la de las mujeres por lo \n",
    "que en principio nuestra hipotesis de que los hombres mayores podria ser correcta??? "
   ]
  },
  {
   "cell_type": "code",
   "execution_count": 27,
   "metadata": {},
   "outputs": [
    {
     "data": {
      "image/png": "[encoded data removed]",
      "text/plain": [
       "<Figure size 900x600 with 1 Axes>"
      ]
     },
     "metadata": {
      "needs_background": "light"
     },
     "output_type": "display_data"
    }
   ],
   "source": [
    "plt.figure(dpi=150)\n",
    "sns.scatterplot(\n",
    "    x='edad',\n",
    "    y='parientes',\n",
    "    hue=info_fiumark_df['volveria'].tolist(),\n",
    "    data=info_fiumark_df,\n",
    "    alpha=0.7,\n",
    ")\n",
    "plt.legend(title=\"Volveria\")\n",
    "plt.ylabel(\"Parientes\")\n",
    "plt.xlabel(\"Edad\")\n",
    "plt.title('Relacion edad - parientes')\n",
    "plt.show()"
   ]
  },
  {
   "cell_type": "markdown",
   "metadata": {
    "pycharm": {
     "name": "#%% md\n"
    }
   },
   "source": [
    "Podemos ver que las personas mayores de treinta no necesariamente fueron acompañando a un pariente lo cual \n",
    "pareceria indicar que nuestra hipotesis no es del todo correcta. \n",
    "\n",
    "El scatter plot anterior nos permitio ver que los niños de entre 0 y 10 anios van acompañados por un adulto. Ademas los niños que fueron acompaniados por exactamente 1 adulto pareciera que disfrutaron mas la pelicula que los que fueron acopaniados por 2."
   ]
  },
  {
   "cell_type": "code",
   "execution_count": 28,
   "metadata": {
    "collapsed": false,
    "jupyter": {
     "outputs_hidden": false
    },
    "pycharm": {
     "name": "#%%\n"
    }
   },
   "outputs": [
    {
     "data": {
      "image/png": "[encoded data removed]",
      "text/plain": [
       "<Figure size 900x600 with 1 Axes>"
      ]
     },
     "metadata": {
      "needs_background": "light"
     },
     "output_type": "display_data"
    }
   ],
   "source": [
    "plt.figure(dpi=150)\n",
    "sns.scatterplot(\n",
    "    x='edad',\n",
    "    y='amigos',\n",
    "    hue=info_fiumark_df['volveria'].tolist(),\n",
    "    data=info_fiumark_df,\n",
    "    alpha=0.7,\n",
    ")\n",
    "plt.legend(title=\"Volveria\")\n",
    "plt.ylabel(\"Amigos\")\n",
    "plt.xlabel(\"Edad\")\n",
    "plt.title('Relacion edad - amigos')\n",
    "plt.show()"
   ]
  },
  {
   "cell_type": "markdown",
   "metadata": {},
   "source": [
    "En este scatter plot podemos ver que los jovenes menores a 20 años tienden a disfrutar la pelicula si fueron con\n",
    "hasta 2 amigos. Si fueron con 3 amigos o mas tienden a no querer volver a ver la secuela"
   ]
  },
  {
   "cell_type": "markdown",
   "metadata": {},
   "source": [
    "Intentemos relacionar ahora la edad de las personas y su genero con si volverian o no a ver la pelicula. Para eso \n",
    "agrupamos en hombres y mujeres y luego estos grupos por edad:"
   ]
  },
  {
   "cell_type": "code",
   "execution_count": 29,
   "metadata": {
    "collapsed": false,
    "jupyter": {
     "outputs_hidden": false
    },
    "pycharm": {
     "name": "#%%\n"
    }
   },
   "outputs": [
    {
     "data": {
      "text/plain": [
       "<Figure size 600x400 with 0 Axes>"
      ]
     },
     "metadata": {},
     "output_type": "display_data"
    },
    {
     "data": {
      "image/png": "[encoded data removed]",
      "text/plain": [
       "<Figure size 1920x720 with 2 Axes>"
      ]
     },
     "metadata": {
      "needs_background": "light"
     },
     "output_type": "display_data"
    }
   ],
   "source": [
    "edad =  info_fiumark_df['edad']\n",
    "genero = info_fiumark_df['genero']\n",
    "volveria = info_fiumark_df['volveria']\n",
    "\n",
    "hombres_vuelven = info_fiumark_df.loc[genero.str.contains('hombre') & (volveria == 1)]\n",
    "hombres_total = info_fiumark_df.loc[genero.str.contains('hombre')]\n",
    "\n",
    "mujeres_vuelven = info_fiumark_df.loc[genero.str.contains('mujer') & (volveria == 1)]\n",
    "mujeres_total = info_fiumark_df.loc[genero.str.contains('mujer')]\n",
    "\n",
    "bins = [0, 10, 20, 30, 40, 50, 60, 70, 80]\n",
    "\n",
    "cuts_total_mujeres = pd.cut(mujeres_total['edad'], bins = bins)\n",
    "cuts_vuelven_mujeres = pd.cut(mujeres_vuelven['edad'], bins = bins)\n",
    "\n",
    "cuts_total_hombres = pd.cut(hombres_total['edad'], bins = bins)\n",
    "cuts_vuelven_hombres = pd.cut(hombres_vuelven['edad'], bins = bins)\n",
    "\n",
    "serie_hombres = pd.Series(cuts_vuelven_hombres.value_counts()/cuts_total_hombres.value_counts())\n",
    "serie_mujeres = pd.Series(cuts_vuelven_mujeres.value_counts()/cuts_total_mujeres.value_counts())\n",
    "\n",
    "plt.figure(dpi=100)\n",
    "\n",
    "\n",
    "fig, axes = plt.subplots(nrows=1, ncols=2, sharey=True, dpi=150, figsize=(6.4 * 2, 4.8))\n",
    "\n",
    "\n",
    "\n",
    "axes[0].bar(serie_hombres.index.astype(str), serie_hombres.values, color = 'blue', alpha = 0.5)\n",
    "\n",
    "\n",
    "axes[0].set_title(\"Distribución por edades de hombres que volverian\")\n",
    "axes[0].set_xlabel(\"Edad\")\n",
    "axes[0].set_ylabel(\"Porcentaje que volverian\")\n",
    "\n",
    "axes[1].bar(serie_mujeres.index.astype(str), serie_mujeres.values, color = 'coral', alpha = 0.5)\n",
    "\n",
    "axes[1].set_title(\"Distribución por edades de mujeres que volverian\")\n",
    "axes[1].set_xlabel(\"Edad\")\n",
    "axes[1].set_ylabel(\"Porcentaje que volverian\")\n",
    "\n",
    "plt.show()"
   ]
  },
  {
   "cell_type": "markdown",
   "metadata": {},
   "source": [
    "Se puede ver claramente que a los hombres de edades entre 0 y 10 les gusto mucho mas que al resto de los hombres.\n",
    "Por otro lado el porcentaje de mujeres que volverian a ver la pelicula es mayor que el de hombres para todos los rangos de edades y parece ir ligeramente aumentando con la edad."
   ]
  },
  {
   "cell_type": "code",
   "execution_count": null,
   "metadata": {},
   "outputs": [],
   "source": []
  },
  {
   "cell_type": "code",
   "execution_count": null,
   "metadata": {},
   "outputs": [],
   "source": []
  },
  {
   "cell_type": "code",
   "execution_count": null,
   "metadata": {},
   "outputs": [],
   "source": []
  },
  {
   "cell_type": "markdown",
   "metadata": {},
   "source": [
    "### ¿Hay mas gente que iria a la secuela si fue a una sede en particular?"
   ]
  },
  {
   "cell_type": "markdown",
   "metadata": {},
   "source": [
    "En esta pregutna nos interesa saber si por algun motivo alguna sede en particular ayuda a influenciar la ida a la secuela."
   ]
  },
  {
   "cell_type": "markdown",
   "metadata": {},
   "source": [
    "Empecemos viendo cuantas sedes tenemos y como se distribuyo la cantidad de gente que fue a cada una. De ahi veremos si surge que en alguna sede dicen de ir a la secuela."
   ]
  },
  {
   "cell_type": "code",
   "execution_count": 31,
   "metadata": {},
   "outputs": [
    {
     "data": {
      "text/plain": [
       "fiumark_palermo      579\n",
       "fiumark_chacarita    149\n",
       "fiumark_quilmes       71\n",
       "Name: nombre_sede, dtype: int64"
      ]
     },
     "execution_count": 31,
     "metadata": {},
     "output_type": "execute_result"
    }
   ],
   "source": [
    "info_fiumark_df['nombre_sede'].value_counts()"
   ]
  },
  {
   "cell_type": "markdown",
   "metadata": {},
   "source": [
    "Observando lo obtenido, notamos que tenemos 3 sedes y que la mayoria de los encuestados corresponden a la cede de fiumark en Palermo."
   ]
  },
  {
   "cell_type": "code",
   "execution_count": 39,
   "metadata": {},
   "outputs": [
    {
     "data": {
      "text/html": [
       "<div>\n",
       "<style scoped>\n",
       "    .dataframe tbody tr th:only-of-type {\n",
       "        vertical-align: middle;\n",
       "    }\n",
       "\n",
       "    .dataframe tbody tr th {\n",
       "        vertical-align: top;\n",
       "    }\n",
       "\n",
       "    .dataframe thead th {\n",
       "        text-align: right;\n",
       "    }\n",
       "</style>\n",
       "<table border=\"1\" class=\"dataframe\">\n",
       "  <thead>\n",
       "    <tr style=\"text-align: right;\">\n",
       "      <th></th>\n",
       "      <th>volveria</th>\n",
       "    </tr>\n",
       "    <tr>\n",
       "      <th>nombre_sede</th>\n",
       "      <th></th>\n",
       "    </tr>\n",
       "  </thead>\n",
       "  <tbody>\n",
       "    <tr>\n",
       "      <th>fiumark_chacarita</th>\n",
       "      <td>0.557047</td>\n",
       "    </tr>\n",
       "    <tr>\n",
       "      <th>fiumark_palermo</th>\n",
       "      <td>0.336788</td>\n",
       "    </tr>\n",
       "    <tr>\n",
       "      <th>fiumark_quilmes</th>\n",
       "      <td>0.380282</td>\n",
       "    </tr>\n",
       "  </tbody>\n",
       "</table>\n",
       "</div>"
      ],
      "text/plain": [
       "                   volveria\n",
       "nombre_sede                \n",
       "fiumark_chacarita  0.557047\n",
       "fiumark_palermo    0.336788\n",
       "fiumark_quilmes    0.380282"
      ]
     },
     "execution_count": 39,
     "metadata": {},
     "output_type": "execute_result"
    }
   ],
   "source": [
    "info_fiumark_df.groupby(by='nombre_sede').agg({'volveria':'mean'})"
   ]
  },
  {
   "cell_type": "markdown",
   "metadata": {},
   "source": [
    "Al ver cuantos volverian por sede, obtenemos que la sede no parece ser tan determinante por si sola, quizas podemos mencionar que en la de Palermo parece que se tiene a que no se volveria."
   ]
  },
  {
   "cell_type": "markdown",
   "metadata": {},
   "source": [
    "# VER QUE MAS PODEMOS SACAR DE ESTO #scatter precio,sede,vuelve?"
   ]
  },
  {
   "cell_type": "code",
   "execution_count": null,
   "metadata": {},
   "outputs": [],
   "source": []
  },
  {
   "cell_type": "markdown",
   "metadata": {
    "pycharm": {
     "name": "#%% md\n"
    }
   },
   "source": [
    "### ¿El precio fue determinante?"
   ]
  },
  {
   "cell_type": "markdown",
   "metadata": {
    "pycharm": {
     "name": "#%% md\n"
    }
   },
   "source": [
    "Veamos primero como se distribuyen los precios, y despues la relacion con respecto a la variable de interes."
   ]
  },
  {
   "cell_type": "code",
   "execution_count": 38,
   "metadata": {},
   "outputs": [
    {
     "data": {
      "image/png": "[encoded data removed]",
      "text/plain": [
       "<Figure size 576x504 with 1 Axes>"
      ]
     },
     "metadata": {},
     "output_type": "display_data"
    }
   ],
   "source": [
    "sns.set(rc={'figure.figsize':(8,7)})\n",
    "g=sns.distplot( a=info_fiumark_df['precio_ticket'],\n",
    "             hist=True, kde=False, rug=False,\n",
    "             bins=40,\n",
    "             axlabel='Precio del ticket')\n",
    "g.set_title('Distribucion del precio del ticket en cada compra')\n",
    "\n",
    "plt.show()"
   ]
  },
  {
   "cell_type": "markdown",
   "metadata": {
    "pycharm": {
     "name": "#%% md\n"
    }
   },
   "source": [
    "Podemos observar que la mayoria de los que fueron a ver la pelicula pago precios inferiores a 10, con algunos casos excepcionales que pagaron alrededor de 50. Veamos la relacion ahora."
   ]
  },
  {
   "cell_type": "code",
   "execution_count": 32,
   "metadata": {},
   "outputs": [],
   "source": [
    "bins = [0, 1, 2, 3, 4, 5, 6, 7, 8, 9, 10, 11, 12, np.inf]\n",
    "rango_precios = pd.cut(info_fiumark_df['precio_ticket'], bins=bins)\n",
    "\n",
    "volveria_por_rango_precio = info_fiumark_df.groupby(by=rango_precios)['volveria'].value_counts()\n",
    "volveria_por_rango_precio_df = volveria_por_rango_precio.to_frame()\n",
    "volveria_por_rango_precio_df.rename(columns={'volveria':'Cantidad de respuestas'},inplace=True)\n",
    "volveria_por_rango_precio_df.reset_index(inplace=True)\n",
    "volveria_por_rango_precio_df.rename(columns={'volveria':'Vuelve a la secuela','precio_ticket':'Rango de precios'},inplace=True)"
   ]
  },
  {
   "cell_type": "code",
   "execution_count": 33,
   "metadata": {},
   "outputs": [],
   "source": [
    "volveria_por_rango_precio_df['Vuelve a la secuela'].replace([0,1],['No','Si'],inplace=True)"
   ]
  },
  {
   "cell_type": "code",
   "execution_count": 34,
   "metadata": {
    "collapsed": false,
    "jupyter": {
     "outputs_hidden": false
    },
    "pycharm": {
     "name": "#%%\n"
    }
   },
   "outputs": [
    {
     "data": {
      "text/plain": [
       "<seaborn.axisgrid.FacetGrid at 0x18f877c6310>"
      ]
     },
     "execution_count": 34,
     "metadata": {},
     "output_type": "execute_result"
    },
    {
     "data": {
      "image/png": "[encoded data removed]",
      "text/plain": [
       "<Figure size 968.5x576 with 1 Axes>"
      ]
     },
     "metadata": {
      "needs_background": "light"
     },
     "output_type": "display_data"
    }
   ],
   "source": [
    "g = sns.catplot(\n",
    "    data=volveria_por_rango_precio_df, kind=\"bar\",\n",
    "    x=\"Rango de precios\", y=\"Cantidad de respuestas\", hue=\"Vuelve a la secuela\",\n",
    "    ci=None, palette=\"dark\", alpha=.6, height=8,aspect=1.5\n",
    ")\n",
    "g.despine(left=True)\n",
    "g.set_axis_labels(\"Rango de precios\", \"Cantidad de respuestas\")"
   ]
  },
  {
   "cell_type": "markdown",
   "metadata": {},
   "source": [
    "Veamos ahora normalizado que obtenemos."
   ]
  },
  {
   "cell_type": "code",
   "execution_count": 35,
   "metadata": {
    "collapsed": false,
    "jupyter": {
     "outputs_hidden": false
    },
    "pycharm": {
     "name": "#%%\n"
    }
   },
   "outputs": [
    {
     "data": {
      "text/plain": [
       "<seaborn.axisgrid.FacetGrid at 0x18f872da550>"
      ]
     },
     "execution_count": 35,
     "metadata": {},
     "output_type": "execute_result"
    },
    {
     "data": {
      "image/png": "[encoded data removed]",
      "text/plain": [
       "<Figure size 968.5x576 with 1 Axes>"
      ]
     },
     "metadata": {
      "needs_background": "light"
     },
     "output_type": "display_data"
    }
   ],
   "source": [
    "volveria_por_rango_precio = info_fiumark_df.groupby(by=rango_precios)['volveria'].value_counts(normalize=True)\n",
    "volveria_por_rango_precio_df = volveria_por_rango_precio.to_frame()\n",
    "volveria_por_rango_precio_df.rename(columns={'volveria':'Cantidad de respuestas'},inplace=True)\n",
    "volveria_por_rango_precio_df.reset_index(inplace=True)\n",
    "volveria_por_rango_precio_df.rename(columns={'volveria':'Vuelve a la secuela','precio_ticket':'Rango de precios'},inplace=True)\n",
    "volveria_por_rango_precio_df['Vuelve a la secuela'].replace([0,1],['No','Si'],inplace=True)\n",
    "\n",
    "g = sns.catplot(\n",
    "    data=volveria_por_rango_precio_df, kind=\"bar\",\n",
    "    x=\"Rango de precios\", y=\"Cantidad de respuestas\", hue=\"Vuelve a la secuela\",\n",
    "    ci=None, palette=\"dark\", alpha=.6, height=8,aspect=1.5\n",
    ")\n",
    "g.despine(left=True)\n",
    "g.set_axis_labels(\"Rango de precios\", \"Porcentaje de la respuesta\")"
   ]
  },
  {
   "cell_type": "markdown",
   "metadata": {},
   "source": [
    "Lo que nos encontramos es que en el rango mas bajo (de 0 a 1) la mayoria respondio que no volveria, mientras que a partir de que se empieza a incrementar el precio aumenta la cantidad de gente que responde que vuelve. Una hipotesis respecto a esto puede ser que la gente que gasto mas se convence que el gasto realizado valio la pena, de forma tal de que se van con una mejor opinion respecto a la pelicula y una potencial secuela."
   ]
  },
  {
   "cell_type": "code",
   "execution_count": null,
   "metadata": {},
   "outputs": [],
   "source": []
  },
  {
   "cell_type": "code",
   "execution_count": null,
   "metadata": {},
   "outputs": [],
   "source": []
  },
  {
   "cell_type": "code",
   "execution_count": null,
   "metadata": {},
   "outputs": [],
   "source": []
  },
  {
   "cell_type": "code",
   "execution_count": null,
   "metadata": {},
   "outputs": [],
   "source": []
  },
  {
   "cell_type": "code",
   "execution_count": null,
   "metadata": {},
   "outputs": [],
   "source": []
  },
  {
   "cell_type": "markdown",
   "metadata": {},
   "source": [
    "## Conclusiones del analisis"
   ]
  },
  {
   "cell_type": "markdown",
   "metadata": {},
   "source": []
  },
  {
   "cell_type": "markdown",
   "metadata": {},
   "source": [
    "## Baseline"
   ]
  },
  {
   "cell_type": "code",
   "execution_count": 37,
   "metadata": {},
   "outputs": [],
   "source": [
    "#A partir de todo el análisis anterior, construir el código baseline que se va a usar para la primera ronda de campaña digital.\n",
    "#Fundamentar el código basándose en las conclusiones de los anteriores puntos.\n",
    "#La función baseline debe llamarse baseline(X: pd.DataFrame) -> List[int]. la cual debe recibir un pandas dataframe producido de la lectura del archivo de testeo original y devolver una lista\n"
   ]
  }
 ],
 "metadata": {
  "colab": {
   "collapsed_sections": [],
   "include_colab_link": true,
   "name": "TP-Datos.ipynb",
   "provenance": []
  },
  "kernelspec": {
   "display_name": "Python 3",
   "language": "python",
   "name": "python3"
  },
  "language_info": {
   "codemirror_mode": {
    "name": "ipython",
    "version": 3
   },
   "file_extension": ".py",
   "mimetype": "text/x-python",
   "name": "python",
   "nbconvert_exporter": "python",
   "pygments_lexer": "ipython3",
   "version": "3.8.3"
  }
 },
 "nbformat": 4,
 "nbformat_minor": 4
}
