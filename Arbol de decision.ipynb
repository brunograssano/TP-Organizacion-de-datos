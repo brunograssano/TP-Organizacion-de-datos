{
 "cells": [
  {
   "cell_type": "markdown",
   "metadata": {},
   "source": [
    "# Arbol de decision"
   ]
  },
  {
   "cell_type": "code",
   "execution_count": 1,
   "metadata": {},
   "outputs": [],
   "source": [
    "import graphviz\n",
    "import numpy as np\n",
    "import pandas as pd\n",
    "import seaborn as sns\n",
    "from matplotlib import pyplot as plt\n",
    "\n",
    "from sklearn import tree\n",
    "from sklearn.metrics import confusion_matrix\n",
    "from sklearn.model_selection import train_test_split\n",
    "from sklearn.metrics import classification_report\n",
    "from sklearn.model_selection import KFold, StratifiedKFold\n",
    "\n",
    "from sklearn.preprocessing import LabelEncoder\n",
    "from sklearn.preprocessing import OneHotEncoder\n",
    "\n",
    "from sklearn.metrics import accuracy_score, roc_auc_score\n",
    "from sklearn.metrics import roc_curve, auc\n",
    "\n",
    "import graphviz"
   ]
  },
  {
   "cell_type": "code",
   "execution_count": 2,
   "metadata": {},
   "outputs": [],
   "source": [
    "y = pd.read_csv('Datasets/tp-2020-2c-train-cols1.csv')"
   ]
  },
  {
   "cell_type": "code",
   "execution_count": 3,
   "metadata": {},
   "outputs": [],
   "source": [
    "X = pd.read_csv('Datasets/tp-2020-2c-train-cols2.csv')"
   ]
  },
  {
   "cell_type": "markdown",
   "metadata": {},
   "source": [
    "Llamar a preprocessing para el arbol"
   ]
  },
  {
   "cell_type": "code",
   "execution_count": 4,
   "metadata": {},
   "outputs": [],
   "source": [
    "y.drop(columns = 'id_usuario',inplace = True)"
   ]
  },
  {
   "cell_type": "code",
   "execution_count": 5,
   "metadata": {},
   "outputs": [],
   "source": [
    "X.drop(columns = ['id_usuario','nombre','id_ticket','fila'],inplace= True)"
   ]
  },
  {
   "cell_type": "code",
   "execution_count": 6,
   "metadata": {},
   "outputs": [],
   "source": [
    "X[\"tipo_de_sala\"] = X[\"tipo_de_sala\"].astype(\"category\")\n",
    "X[\"genero\"] = X[\"genero\"].astype(\"category\")\n",
    "X[\"nombre_sede\"] = X[\"nombre_sede\"].astype(\"category\")"
   ]
  },
  {
   "cell_type": "code",
   "execution_count": 7,
   "metadata": {},
   "outputs": [],
   "source": [
    "X[\"edad\"].fillna(X[\"edad\"].mean(), inplace = True)"
   ]
  },
  {
   "cell_type": "code",
   "execution_count": 8,
   "metadata": {},
   "outputs": [],
   "source": [
    "X.dropna(inplace = True)"
   ]
  },
  {
   "cell_type": "code",
   "execution_count": 9,
   "metadata": {},
   "outputs": [],
   "source": [
    "y = y.loc[X.index]"
   ]
  },
  {
   "cell_type": "code",
   "execution_count": 10,
   "metadata": {},
   "outputs": [],
   "source": [
    "X = pd.get_dummies(X, drop_first=True, columns=['tipo_de_sala', 'genero', 'nombre_sede'])"
   ]
  },
  {
   "cell_type": "code",
   "execution_count": 11,
   "metadata": {},
   "outputs": [],
   "source": [
    "X_train, X_test, y_train, y_test = train_test_split(X, y, test_size=0.3, random_state=0)"
   ]
  },
  {
   "cell_type": "markdown",
   "metadata": {},
   "source": [
    "# Contruccion del arbol"
   ]
  },
  {
   "cell_type": "code",
   "execution_count": 12,
   "metadata": {},
   "outputs": [],
   "source": [
    "def construir_arbol(X_train, y_train, profundidad_maxima):\n",
    "    arbol_clasificador = tree.DecisionTreeClassifier(random_state=117, max_depth=profundidad_maxima)\n",
    "    arbol_clasificador.fit(X_train, y_train)    \n",
    "    return arbol_clasificador"
   ]
  },
  {
   "cell_type": "code",
   "execution_count": 13,
   "metadata": {},
   "outputs": [],
   "source": [
    "def predecir(X_test, arbol_clasificador):\n",
    "    y_pred = arbol_clasificador.predict(X_test)\n",
    "    return y_pred"
   ]
  },
  {
   "cell_type": "code",
   "execution_count": 14,
   "metadata": {},
   "outputs": [],
   "source": [
    "def accuracy(y_pred, y_test):\n",
    "    accuracy_ = pd.Series(np.array(y_test[\"volveria\"]) == y_pred).mean()\n",
    "    return accuracy_"
   ]
  },
  {
   "cell_type": "code",
   "execution_count": 15,
   "metadata": {},
   "outputs": [],
   "source": [
    "def graficar_arbol(arbol_clasificador, profundidad_maxima):\n",
    "    dot_data = tree.export_graphviz(arbol_clasificador, feature_names=X.columns.to_list(),  max_depth = profundidad_maxima) \n",
    "    graph = graphviz.Source(dot_data) \n",
    "    graph.render(\"arbol de decision\")"
   ]
  },
  {
   "cell_type": "code",
   "execution_count": 16,
   "metadata": {},
   "outputs": [],
   "source": [
    "def obtener_accuracies_segun_profundidad(profundidades):\n",
    "\n",
    "    accuracies = []\n",
    "    profundidades_maximas = []\n",
    "\n",
    "    for profundidad_maxima in profundidades:\n",
    "        arbol_clasificador = construir_arbol(X_train, y_train, profundidad_maxima)\n",
    "        y_pred = predecir(X_test, arbol_clasificador)\n",
    "        accuracy_ = accuracy(y_pred, y_test)\n",
    "\n",
    "        accuracies.append(accuracy_)\n",
    "        profundidades_maximas.append(profundidad_maxima)\n",
    "        \n",
    "    return accuracies, profundidades_maximas"
   ]
  },
  {
   "cell_type": "code",
   "execution_count": 17,
   "metadata": {},
   "outputs": [],
   "source": [
    "def graficar_accuracy_vs_profundidad(accuracy, profundidades):\n",
    "    plt.subplots(dpi = 120)\n",
    "    plt.plot(profundidades, accuracies, color='lightblue', linestyle='dashed', linewidth = 2, \n",
    "             marker='o', markerfacecolor='blue', markersize=7) \n",
    "    plt.xlabel('Profundidad del arbol')\n",
    "    plt.ylabel('Accuracy sobre train')\n",
    "    plt.title(\"Accuracy segun profundidad\")\n",
    "\n",
    "    axes = plt.gca()\n",
    "    axes.set_ylim([0,1])"
   ]
  },
  {
   "cell_type": "code",
   "execution_count": 18,
   "metadata": {},
   "outputs": [],
   "source": [
    "accuracies, profundidades = obtener_accuracies_segun_profundidad([1,2,3,4,5,6,7,8,9,10])"
   ]
  },
  {
   "cell_type": "code",
   "execution_count": 19,
   "metadata": {},
   "outputs": [
    {
     "data": {
      "image/png": "[encoded data removed]",
      "text/plain": [
       "<Figure size 720x480 with 1 Axes>"
      ]
     },
     "metadata": {
      "needs_background": "light"
     },
     "output_type": "display_data"
    }
   ],
   "source": [
    "graficar_accuracy_vs_profundidad(accuracies, profundidades)"
   ]
  },
  {
   "cell_type": "code",
   "execution_count": 20,
   "metadata": {},
   "outputs": [],
   "source": [
    "# Mejor arbol segun accuracy: es el que uso para la matriz de confusion\n",
    "arbol_clasificador = construir_arbol(X_train, y_train, 4)\n",
    "y_pred = predecir(X_test, arbol_clasificador)"
   ]
  },
  {
   "cell_type": "markdown",
   "metadata": {},
   "source": [
    "# Matriz de confusion"
   ]
  },
  {
   "cell_type": "code",
   "execution_count": 21,
   "metadata": {},
   "outputs": [
    {
     "data": {
      "text/plain": [
       "Text(69.58333333333333, 0.5, 'Real')"
      ]
     },
     "execution_count": 21,
     "metadata": {},
     "output_type": "execute_result"
    },
    {
     "data": {
      "image/png": "[encoded data removed]",
      "text/plain": [
       "<Figure size 900x600 with 2 Axes>"
      ]
     },
     "metadata": {
      "needs_background": "light"
     },
     "output_type": "display_data"
    }
   ],
   "source": [
    "fig, ax = plt.subplots(dpi =150)   \n",
    "sns.heatmap(confusion_matrix(y_test, y_pred), annot = True, vmin = 0, yticklabels=[\"Volveria\",\"No volveria\"], xticklabels=[\"Volveria\", \"No Volveria\"], ax=ax)\n",
    "ax.set_title(\"Matriz de confusion del arbol de decision\")\n",
    "ax.set_xlabel(\"Predicho\")\n",
    "ax.set_ylabel(\"Real\")"
   ]
  },
  {
   "cell_type": "markdown",
   "metadata": {},
   "source": [
    "# Metricas"
   ]
  },
  {
   "cell_type": "code",
   "execution_count": 22,
   "metadata": {},
   "outputs": [
    {
     "name": "stdout",
     "output_type": "stream",
     "text": [
      "              precision    recall  f1-score   support\n",
      "\n",
      "    Volveria       0.97      0.80      0.88       178\n",
      "  No Voleria       0.62      0.94      0.75        62\n",
      "\n",
      "    accuracy                           0.84       240\n",
      "   macro avg       0.80      0.87      0.81       240\n",
      "weighted avg       0.88      0.84      0.85       240\n",
      "\n"
     ]
    }
   ],
   "source": [
    "print(classification_report(y_pred, y_test, target_names=[\"Volveria\", \"No Voleria\"]))"
   ]
  },
  {
   "cell_type": "code",
   "execution_count": 23,
   "metadata": {},
   "outputs": [],
   "source": [
    "def graficarAUCROC(X_test, X_train, y_test, y_train):\n",
    "\n",
    "    fpr_cnb_test,tpr_cnb_test,thresholds_cnb_test = roc_curve(y_test, arbol_clasificador.predict_proba(X_test)[:,1])\n",
    "    fpr_cnb_train,tpr_cnb_train,thresholds_cnb_train = roc_curve(y_train, arbol_clasificador.predict_proba(X_train)[:,1])\n",
    "\n",
    "    zero_test = np.argmin(np.abs(thresholds_cnb_test))\n",
    "    zero_train = np.argmin(np.abs(thresholds_cnb_train))\n",
    "\n",
    "    plt.plot(fpr_cnb_train,tpr_cnb_train,label=\"ROC Curve Decision Tree Classifier Train\")\n",
    "    plt.plot(fpr_cnb_test,tpr_cnb_test,label=\"ROC Curve Decision Tree Classifier Test\")\n",
    "    plt.xlabel(\"FPR\")\n",
    "    plt.ylabel(\"TPR\")\n",
    "    plt.plot(fpr_cnb_test[zero_test],tpr_cnb_test[zero_test],'o',markersize=10,label=\"threshold zero test\",fillstyle=\"none\",c=\"k\",mew=2)\n",
    "    plt.plot(fpr_cnb_train[zero_train],tpr_cnb_train[zero_train],'x',markersize=10,label=\"threshold zero train\",fillstyle=\"none\",c=\"k\",mew=2)\n",
    "\n",
    "    plt.legend(loc=4)"
   ]
  },
  {
   "cell_type": "code",
   "execution_count": 24,
   "metadata": {},
   "outputs": [
    {
     "data": {
      "image/png": "[encoded data removed]",
      "text/plain": [
       "<Figure size 432x288 with 1 Axes>"
      ]
     },
     "metadata": {
      "needs_background": "light"
     },
     "output_type": "display_data"
    }
   ],
   "source": [
    "graficarAUCROC(X_test, X_train, y_test, y_train)"
   ]
  },
  {
   "cell_type": "markdown",
   "metadata": {},
   "source": [
    "# Mejor profundidad por grid search auc roc cross validation"
   ]
  },
  {
   "cell_type": "code",
   "execution_count": 25,
   "metadata": {},
   "outputs": [
    {
     "ename": "SyntaxError",
     "evalue": "invalid syntax (<ipython-input-25-7e0c9ce1a040>, line 1)",
     "output_type": "error",
     "traceback": [
      "\u001b[1;36m  File \u001b[1;32m\"<ipython-input-25-7e0c9ce1a040>\"\u001b[1;36m, line \u001b[1;32m1\u001b[0m\n\u001b[1;33m    def mejor_profundidad_segun_AUCROC_CV(X, y)\u001b[0m\n\u001b[1;37m                                               ^\u001b[0m\n\u001b[1;31mSyntaxError\u001b[0m\u001b[1;31m:\u001b[0m invalid syntax\n"
     ]
    }
   ],
   "source": [
    "def mejor_profundidad_segun_AUCROC_CV(X, y)\n",
    "\n",
    "    mejor_auc_roc = 0\n",
    "    mejor_profundidad = None\n",
    "\n",
    "    for profundidad in [1, 2, 3, 4, 5, 6, 7, 8, 9, 10]:\n",
    "\n",
    "        kf = StratifiedKFold(n_splits=8)\n",
    "        metricas = []\n",
    "\n",
    "        for fold_idx, (train_index, test_index) in enumerate(kf.split(X, y)):\n",
    "\n",
    "            arbol_clasificador = construir_arbol(X.iloc[train_index], y.iloc[train_index], profundidad)        \n",
    "            y_pred = predecir(X.iloc[test_index], arbol_clasificador)\n",
    "            auc_roc = roc_auc_score(y.iloc[test_index], y_pred)  \n",
    "            metricas.append(auc_roc)\n",
    "\n",
    "        if np.mean(metricas) >= mejor_auc_roc:\n",
    "            mejor_auc_roc = np.mean(metricas)\n",
    "            mejor_profundidad = profundidad\n",
    "            \n",
    "    return mejor_profundidad, mejor_auc_roc"
   ]
  },
  {
   "cell_type": "code",
   "execution_count": null,
   "metadata": {},
   "outputs": [],
   "source": [
    "mejor_profundidad, mejor_auc_roc = mejor_profundidad_segun_AUCROC_CV(X, y)"
   ]
  },
  {
   "cell_type": "code",
   "execution_count": null,
   "metadata": {},
   "outputs": [],
   "source": []
  }
 ],
 "metadata": {
  "kernelspec": {
   "display_name": "Python 3",
   "language": "python",
   "name": "python3"
  },
  "language_info": {
   "codemirror_mode": {
    "name": "ipython",
    "version": 3
   },
   "file_extension": ".py",
   "mimetype": "text/x-python",
   "name": "python",
   "nbconvert_exporter": "python",
   "pygments_lexer": "ipython3",
   "version": "3.7.7"
  }
 },
 "nbformat": 4,
 "nbformat_minor": 4
}
