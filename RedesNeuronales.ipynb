{
 "cells": [
  {
   "cell_type": "markdown",
   "metadata": {},
   "source": [
    "# Redes Neuronales"
   ]
  },
  {
   "cell_type": "markdown",
   "metadata": {},
   "source": [
    "Breve explicacion"
   ]
  },
  {
   "cell_type": "markdown",
   "metadata": {},
   "source": [
    "## Configuraciones Iniciales"
   ]
  },
  {
   "cell_type": "code",
   "execution_count": null,
   "metadata": {},
   "outputs": [],
   "source": [
    "import pandas as pd\n",
    "import numpy as np\n",
    "import matplotlib.pyplot as plt\n",
    "import seaborn as sns"
   ]
  },
  {
   "cell_type": "code",
   "execution_count": null,
   "metadata": {},
   "outputs": [],
   "source": [
    "from sklearn.model_selection import train_test_split\n",
    "from sklearn.metrics import classification_report\n",
    "from sklearn.metrics import confusion_matrix\n",
    "from sklearn.metrics import roc_auc_score\n",
    "from sklearn.metrics import roc_curve\n",
    "from sklearn.model_selection import KFold, StratifiedKFold"
   ]
  },
  {
   "cell_type": "code",
   "execution_count": null,
   "metadata": {},
   "outputs": [],
   "source": [
    "import tensorflow as tf\n",
    "from keras.callbacks import EarlyStopping\n",
    "from tensorflow.keras import regularizers\n",
    "physical_devices = tf.config.list_physical_devices('GPU')\n",
    "\n",
    "try:\n",
    "    tf.config.experimental.set_memory_growth(physical_devices[0], True)\n",
    "except:\n",
    "    pass\n",
    "\n",
    "import keras"
   ]
  },
  {
   "cell_type": "code",
   "execution_count": null,
   "metadata": {},
   "outputs": [],
   "source": [
    "from preprocessing import prepararSetDeDatos\n",
    "from preprocessing import redesNeuronalesPreprocessing\n",
    "from preprocessing import prepararSetDeValidacion"
   ]
  },
  {
   "cell_type": "markdown",
   "metadata": {},
   "source": [
    "## Carga y preparacion del set de datos"
   ]
  },
  {
   "cell_type": "code",
   "execution_count": null,
   "metadata": {},
   "outputs": [],
   "source": [
    "y = pd.read_csv('Datasets/tp-2020-2c-train-cols1.csv')"
   ]
  },
  {
   "cell_type": "code",
   "execution_count": null,
   "metadata": {},
   "outputs": [],
   "source": [
    "X = pd.read_csv('Datasets/tp-2020-2c-train-cols2.csv')"
   ]
  },
  {
   "cell_type": "code",
   "execution_count": null,
   "metadata": {},
   "outputs": [],
   "source": [
    "X = prepararSetDeDatos(X)\n",
    "y = prepararSetDeValidacion(y)"
   ]
  },
  {
   "cell_type": "markdown",
   "metadata": {},
   "source": [
    "## Funciones Auxiliares\n"
   ]
  },
  {
   "cell_type": "code",
   "execution_count": null,
   "metadata": {},
   "outputs": [],
   "source": [
    "def obtenerMejoresHiperparametros(datosPreprocesados):\n",
    "    mejor_optimizador = None\n",
    "    mejor_valor = 0\n",
    "    mejor_optimizador = None\n",
    "    mejor_activacion = None\n",
    "    y_array=np.array(y)\n",
    "    for lr in [0.01,0.1,0.2,0.3,0.5]:\n",
    "        for optimizador in [keras.optimizers.Adam(learning_rate=lr),keras.optimizers.SGD(learning_rate=lr)]:\n",
    "            for activacion in ['relu','tanh','sigmoid']:\n",
    "                kf = StratifiedKFold(n_splits=3)\n",
    "                metricas = []\n",
    "                for fold_idx, (train_index, test_index) in enumerate(kf.split(datosPreprocesados, y_array)):\n",
    "                    es = EarlyStopping(monitor='val_acc', mode='max')\n",
    "                    \n",
    "                    primera_capa = keras.layers.Input(shape=(14,))\n",
    "                    capa_intermedia = keras.layers.Dense(15, activation=activacion,kernel_regularizer=regularizers.l2(0.001))(primera_capa)\n",
    "                    dropout = keras.layers.Dropout(0.25)(capa_intermedia)\n",
    "                    ultima_capa = keras.layers.Dense(1, activation='softmax',kernel_regularizer=regularizers.l2(0.001))(dropout)\n",
    "                    red_neuronal = keras.models.Model(inputs=[primera_capa], outputs=[ultima_capa])\n",
    "\n",
    "                    red_neuronal.compile(loss='binary_crossentropy', metrics=['accuracy'],optimizer = optimizador)\n",
    "\n",
    "                    red_neuronal.fit(datosPreprocesados[train_index], y_array[train_index].ravel(), epochs=350, batch_size=150, verbose=0, validation_split=0.25)\n",
    "\n",
    "                    predicciones = red_neuronal.predict(datosPreprocesados[test_index])\n",
    "                    score_obtenida = roc_auc_score(y_array[test_index],predicciones)\n",
    "                    metricas.append(score_obtenida)\n",
    "\n",
    "                if np.mean(metricas) >= mejor_valor:\n",
    "                    mejor_valor = np.mean(metricas)\n",
    "                    mejor_optimizador = optimizador\n",
    "                    mejor_activacion = activacion\n",
    "            \n",
    "    return mejor_valor, mejor_optimizador, mejor_activacion"
   ]
  },
  {
   "cell_type": "markdown",
   "metadata": {},
   "source": [
    "## Redes Neuronales"
   ]
  },
  {
   "cell_type": "code",
   "execution_count": null,
   "metadata": {},
   "outputs": [],
   "source": [
    "X_redes_neuronales = redesNeuronalesPreprocessing(X)"
   ]
  },
  {
   "cell_type": "code",
   "execution_count": null,
   "metadata": {},
   "outputs": [],
   "source": [
    "mejor_valor, mejor_optimizador, mejor_activacion = obtenerMejoresHiperparametros(X_redes_neuronales) # preguntar como conviene obtener la mejor configuracion"
   ]
  },
  {
   "cell_type": "code",
   "execution_count": null,
   "metadata": {},
   "outputs": [],
   "source": [
    "print(mejor_valor.round(3))\n",
    "print(mejor_optimizador)\n",
    "print(mejor_activacion)"
   ]
  },
  {
   "cell_type": "code",
   "execution_count": null,
   "metadata": {},
   "outputs": [],
   "source": [
    "X_train, X_test, y_train, y_test = train_test_split(X_redes_neuronales, y, test_size=0.25, random_state=0)"
   ]
  },
  {
   "cell_type": "markdown",
   "metadata": {},
   "source": [
    "Armamos la red neuronal ahora con la mejor combinacion de hiperparametros encontrados."
   ]
  },
  {
   "cell_type": "code",
   "execution_count": null,
   "metadata": {},
   "outputs": [],
   "source": [
    "primera_capa = keras.layers.Input(shape=(14,))\n",
    "capa_intermedia = keras.layers.Dense(25, activation='relu')(primera_capa)\n",
    "capa_intermedia2 = keras.layers.Dense(20, activation='tanh')(capa_intermedia)\n",
    "capa_intermedia3 = keras.layers.Dense(20, activation='relu')(capa_intermedia2)\n",
    "ultima_capa = keras.layers.Dense(1, activation='sigmoid')(capa_intermedia3)\n",
    "\n",
    "red_neuronal = keras.models.Model(inputs=[primera_capa], outputs=[ultima_capa])"
   ]
  },
  {
   "cell_type": "code",
   "execution_count": null,
   "metadata": {},
   "outputs": [],
   "source": [
    "red_neuronal.compile(loss='binary_crossentropy', metrics=['accuracy'],optimizer = mejor_optimizador)"
   ]
  },
  {
   "cell_type": "markdown",
   "metadata": {},
   "source": [
    "Mostramos el resumen de como queda armada."
   ]
  },
  {
   "cell_type": "code",
   "execution_count": null,
   "metadata": {},
   "outputs": [],
   "source": [
    "red_neuronal.summary()"
   ]
  },
  {
   "cell_type": "markdown",
   "metadata": {},
   "source": [
    "Ahora finalmente entrenamos con el set de entrenamiento."
   ]
  },
  {
   "cell_type": "code",
   "execution_count": null,
   "metadata": {},
   "outputs": [],
   "source": [
    "h = red_neuronal.fit(X_train, y_train, epochs=500, batch_size=100, verbose=0, validation_split=0.25)"
   ]
  },
  {
   "cell_type": "markdown",
   "metadata": {},
   "source": [
    "Observamos como se fue desarrollando la funcion de perdida para el entrenamiento y la validacion de la red."
   ]
  },
  {
   "cell_type": "code",
   "execution_count": null,
   "metadata": {},
   "outputs": [],
   "source": [
    "plt.figure(dpi=125, figsize=(12, 4))\n",
    "plt.plot(h.history['loss'], label=\"training loss\")\n",
    "plt.plot(h.history['val_loss'], label=\"validation loss\")\n",
    "plt.title('model loss')\n",
    "plt.ylabel('loss')\n",
    "plt.xlabel('epoch')\n",
    "plt.legend()\n",
    "plt.show()"
   ]
  },
  {
   "cell_type": "markdown",
   "metadata": {},
   "source": [
    "Ahora buscamos las metricas que nos interesan sobre el set de evaluacion guardado anteriormente."
   ]
  },
  {
   "cell_type": "code",
   "execution_count": null,
   "metadata": {},
   "outputs": [],
   "source": [
    "y_pred = red_neuronal.predict(X_test)"
   ]
  },
  {
   "cell_type": "code",
   "execution_count": null,
   "metadata": {},
   "outputs": [],
   "source": [
    "print(classification_report(y_test, y_pred, target_names=['No vuelve','Vuelve']))"
   ]
  },
  {
   "cell_type": "code",
   "execution_count": null,
   "metadata": {},
   "outputs": [],
   "source": [
    "fpr_red_test,tpr_red_test,thresholds_red_test = roc_curve(y_test,red_neuronal.predict_proba(X_test)[:,1])\n",
    "\n",
    "zero_test = np.argmin(np.abs(thresholds_red_test))\n",
    "\n",
    "plt.plot(fpr_red_test,tpr_red_test,label=\"ROC Curve KNN Test\")\n",
    "plt.xlabel(\"FPR\")\n",
    "plt.ylabel(\"TPR\")\n",
    "plt.plot(fpr_red_test[zero_test],tpr_red_test[zero_test],'o',markersize=10,label=\"threshold zero test\",fillstyle=\"none\",c=\"k\",mew=2)\n",
    "\n",
    "plt.legend(loc=4)\n",
    "plt.show()"
   ]
  },
  {
   "cell_type": "code",
   "execution_count": null,
   "metadata": {},
   "outputs": [],
   "source": [
    "auc_red = roc_auc_score(y_test,red_neuronal.predict_proba(X_test)[:, 1])\n",
    "print(\"AUC para redes neuronales: {:.3f}\".format(auc_red))"
   ]
  },
  {
   "cell_type": "code",
   "execution_count": null,
   "metadata": {},
   "outputs": [],
   "source": []
  },
  {
   "cell_type": "markdown",
   "metadata": {},
   "source": [
    "## Conclusiones"
   ]
  },
  {
   "cell_type": "code",
   "execution_count": null,
   "metadata": {},
   "outputs": [],
   "source": []
  },
  {
   "cell_type": "code",
   "execution_count": null,
   "metadata": {},
   "outputs": [],
   "source": []
  }
 ],
 "metadata": {
  "kernelspec": {
   "display_name": "Python 3",
   "language": "python",
   "name": "python3"
  },
  "language_info": {
   "codemirror_mode": {
    "name": "ipython",
    "version": 3
   },
   "file_extension": ".py",
   "mimetype": "text/x-python",
   "name": "python",
   "nbconvert_exporter": "python",
   "pygments_lexer": "ipython3",
   "version": "3.8.3"
  }
 },
 "nbformat": 4,
 "nbformat_minor": 4
}
