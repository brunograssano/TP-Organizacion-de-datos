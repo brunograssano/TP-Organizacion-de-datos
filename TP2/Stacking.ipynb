{
 "cells": [
  {
   "cell_type": "markdown",
   "metadata": {},
   "source": [
    "# Trabajo Práctico 2: Análisis con Stacking - Organización de Datos"
   ]
  },
  {
   "cell_type": "markdown",
   "metadata": {},
   "source": [
    "**Alumnos y Padrón**  \n",
    "* Grassano, Bruno - 103855  \n",
    "* Romero, Adrián   - 103371\n",
    "\n",
    "https://github.com/brunograssano/TP-Organizacion-de-datos"
   ]
  },
  {
   "cell_type": "markdown",
   "metadata": {},
   "source": [
    "## Importamos las bibiliotecas"
   ]
  },
  {
   "cell_type": "code",
   "execution_count": 1,
   "metadata": {},
   "outputs": [],
   "source": [
    "import pandas as pd\n",
    "import numpy as np\n",
    "import matplotlib.pyplot as plt\n",
    "import seaborn as sns"
   ]
  },
  {
   "cell_type": "code",
   "execution_count": 2,
   "metadata": {},
   "outputs": [],
   "source": [
    "from sklearn.model_selection import train_test_split\n",
    "from sklearn.metrics import classification_report\n",
    "from sklearn.metrics import confusion_matrix\n",
    "from sklearn.metrics import roc_auc_score\n",
    "from sklearn.metrics import roc_curve\n",
    "from sklearn.model_selection import KFold, StratifiedKFold"
   ]
  },
  {
   "cell_type": "code",
   "execution_count": 3,
   "metadata": {},
   "outputs": [],
   "source": [
    "from sklearn.linear_model import LogisticRegression\n",
    "from sklearn.svm import SVC\n",
    "from sklearn.ensemble import RandomForestClassifier\n",
    "from sklearn.ensemble import StackingClassifier\n",
    "from sklearn import tree"
   ]
  },
  {
   "cell_type": "code",
   "execution_count": 14,
   "metadata": {},
   "outputs": [],
   "source": [
    "from preprocessing import prepararSetDeDatos\n",
    "from preprocessing import prepararSetDeValidacion\n",
    "from preprocessing import prepararSetDeHoldout\n",
    "from preprocessing import conversionAVariablesNumericasNormalizadas\n",
    "from preprocessing import conversionAVariablesNumericas\n",
    "from preprocessing import expansionDelDataset"
   ]
  },
  {
   "cell_type": "code",
   "execution_count": 5,
   "metadata": {},
   "outputs": [],
   "source": [
    "from funcionesAuxiliares import mostrarAUCScore\n",
    "from funcionesAuxiliares import mostrarROCCurve\n",
    "from funcionesAuxiliares import mostrarMatrizDeConfusion\n",
    "from funcionesAuxiliares import escribirPrediccionesAArchivo\n",
    "from funcionesAuxiliares import obtenerDatasets\n",
    "from funcionesAuxiliares import obtenerHoldout"
   ]
  },
  {
   "cell_type": "markdown",
   "metadata": {},
   "source": [
    "## Importamos los datos y los procesamos"
   ]
  },
  {
   "cell_type": "code",
   "execution_count": 6,
   "metadata": {},
   "outputs": [],
   "source": [
    "X, y = obtenerDatasets()\n",
    "X = prepararSetDeDatos(X)\n",
    "y = prepararSetDeValidacion(y)"
   ]
  },
  {
   "cell_type": "markdown",
   "metadata": {},
   "source": [
    "## Stacking"
   ]
  },
  {
   "cell_type": "markdown",
   "metadata": {},
   "source": [
    "Este modelo es un ensamble que consiste en la unión de varios modelos. Lo que se hace es ir apilando la salida de cada estimador individual y usar un clasificador final que va a computar la predicción final. Esto permite usar las ventajas de cada estimador individual.\n",
    "\n",
    "Los elegidos fueron:\n",
    " * Árbol de decisión\n",
    " * SVM\n",
    " * Random Forest\n",
    " * Regresión logística\n",
    "\n",
    "Cada uno de estos modelos lo recreamos con los mejores hiperparámetros que se encontraron en su notebook.\n",
    "\n",
    "Para el preprocesamiento se decidió utilizar el mismo que para regresión logística y SVM, asi obtienen sus mejores resultados devuelta."
   ]
  },
  {
   "cell_type": "code",
   "execution_count": 7,
   "metadata": {},
   "outputs": [],
   "source": [
    "X_voting = conversionAVariablesNumericasNormalizadas(X)"
   ]
  },
  {
   "cell_type": "markdown",
   "metadata": {},
   "source": [
    "Dividimos el set de datos en sets de training y test."
   ]
  },
  {
   "cell_type": "code",
   "execution_count": 8,
   "metadata": {},
   "outputs": [],
   "source": [
    "X_train, X_test, y_train, y_test = train_test_split(X_voting, y, test_size=0.25, random_state=0)"
   ]
  },
  {
   "cell_type": "markdown",
   "metadata": {},
   "source": [
    "Inicializamos los modelos que usarán en el Stacking, cada uno con sus mejores hiperparámetros encontrados. En el caso de random forest se les redujo algo la profundidad."
   ]
  },
  {
   "cell_type": "code",
   "execution_count": 9,
   "metadata": {},
   "outputs": [],
   "source": [
    "regresion_logistica = LogisticRegression(penalty = 'none', solver = \"saga\",max_iter = 5000)\n",
    "random_forest = RandomForestClassifier(n_estimators=100, random_state=0,criterion='entropy',max_depth=7)\n",
    "svm = SVC(C=200, kernel='rbf', gamma=0.1,probability=True)\n",
    "arbol = tree.DecisionTreeClassifier(random_state=117, max_depth=4, criterion = 'gini')\n",
    "\n",
    "estimadores = [('svm',svm),('tree',arbol),('rf', random_forest),('rl',regresion_logistica)]"
   ]
  },
  {
   "cell_type": "markdown",
   "metadata": {},
   "source": [
    "Creamos el modelo y lo entrenamos."
   ]
  },
  {
   "cell_type": "code",
   "execution_count": 10,
   "metadata": {},
   "outputs": [],
   "source": [
    "stacking = StackingClassifier(estimators=estimadores,n_jobs=-1)"
   ]
  },
  {
   "cell_type": "code",
   "execution_count": 11,
   "metadata": {},
   "outputs": [
    {
     "data": {
      "text/plain": [
       "StackingClassifier(estimators=[('svm', SVC(C=200, gamma=0.1, probability=True)),\n",
       "                               ('tree',\n",
       "                                DecisionTreeClassifier(max_depth=4,\n",
       "                                                       random_state=117)),\n",
       "                               ('rf',\n",
       "                                RandomForestClassifier(criterion='entropy',\n",
       "                                                       max_depth=7,\n",
       "                                                       random_state=0)),\n",
       "                               ('rl',\n",
       "                                LogisticRegression(max_iter=5000,\n",
       "                                                   penalty='none',\n",
       "                                                   solver='saga'))],\n",
       "                   n_jobs=-1)"
      ]
     },
     "execution_count": 11,
     "metadata": {},
     "output_type": "execute_result"
    }
   ],
   "source": [
    "stacking.fit(X_train, y_train)"
   ]
  },
  {
   "cell_type": "markdown",
   "metadata": {},
   "source": [
    "Buscamos también un modelo de stacking que utilice el dataset expandido y los mejores parámetros que se obtuvieron cuando se utilizó esta expansión en sus respectivos notebooks:"
   ]
  },
  {
   "cell_type": "code",
   "execution_count": 12,
   "metadata": {},
   "outputs": [],
   "source": [
    "regresion_logistica = LogisticRegression(penalty = 'none', solver = \"saga\",max_iter = 5000)\n",
    "random_forest = RandomForestClassifier(n_estimators=100, random_state=0,criterion='entropy',max_depth=7)\n",
    "svm = SVC(C=200, kernel='rbf', gamma=0.1,probability=True)\n",
    "arbol = tree.DecisionTreeClassifier(random_state=117, max_depth=4, criterion = 'entropy')\n",
    "\n",
    "estimadores = [('svm',svm),('tree',arbol),('rf', random_forest),('rl',regresion_logistica)]"
   ]
  },
  {
   "cell_type": "code",
   "execution_count": 16,
   "metadata": {},
   "outputs": [],
   "source": [
    "X_expandido = expansionDelDataset(X)\n",
    "\n",
    "columnas_codificables_extra = ['pago_categorizado','edades_estratificadas','categoria_invitados']\n",
    "columnas_numericas_extra = ['4_clusters','10_clusters','total_pagado']\n",
    "\n",
    "nombre_de_los_features_expandidos, X_arbol_expandido  = conversionAVariablesNumericas(X_expandido,columnas_codificables_extra,columnas_numericas_extra)\n",
    "X_exp_train, X_exp_test, y_exp_train, y_exp_test = train_test_split(X_arbol_expandido, y, test_size=0.25, random_state=0)"
   ]
  },
  {
   "cell_type": "code",
   "execution_count": 18,
   "metadata": {},
   "outputs": [],
   "source": [
    "stacking_exp = StackingClassifier(estimators=estimadores,n_jobs=-1)"
   ]
  },
  {
   "cell_type": "code",
   "execution_count": 19,
   "metadata": {},
   "outputs": [
    {
     "data": {
      "text/plain": [
       "StackingClassifier(estimators=[('svm', SVC(C=200, gamma=0.1, probability=True)),\n",
       "                               ('tree',\n",
       "                                DecisionTreeClassifier(criterion='entropy',\n",
       "                                                       max_depth=4,\n",
       "                                                       random_state=117)),\n",
       "                               ('rf',\n",
       "                                RandomForestClassifier(criterion='entropy',\n",
       "                                                       max_depth=7,\n",
       "                                                       random_state=0)),\n",
       "                               ('rl',\n",
       "                                LogisticRegression(max_iter=5000,\n",
       "                                                   penalty='none',\n",
       "                                                   solver='saga'))],\n",
       "                   n_jobs=-1)"
      ]
     },
     "execution_count": 19,
     "metadata": {},
     "output_type": "execute_result"
    }
   ],
   "source": [
    "stacking_exp.fit(X_exp_train, y_exp_train)"
   ]
  },
  {
   "cell_type": "markdown",
   "metadata": {},
   "source": [
    "#### Evaluación de métricas"
   ]
  },
  {
   "cell_type": "markdown",
   "metadata": {},
   "source": [
    "Ahora si, realizamos las predicciones y observamos las métricas."
   ]
  },
  {
   "cell_type": "code",
   "execution_count": 22,
   "metadata": {},
   "outputs": [],
   "source": [
    "y_pred = stacking.predict(X_test)\n",
    "y_exp_pred = stacking_exp.predict(X_exp_test)"
   ]
  },
  {
   "cell_type": "code",
   "execution_count": 24,
   "metadata": {},
   "outputs": [
    {
     "name": "stdout",
     "output_type": "stream",
     "text": [
      "              precision    recall  f1-score   support\n",
      "\n",
      "   No vuelve       0.83      0.91      0.87       121\n",
      "      Vuelve       0.84      0.72      0.78        80\n",
      "\n",
      "    accuracy                           0.84       201\n",
      "   macro avg       0.84      0.82      0.82       201\n",
      "weighted avg       0.84      0.84      0.83       201\n",
      "\n",
      "              precision    recall  f1-score   support\n",
      "\n",
      "   No vuelve       0.84      0.88      0.86       121\n",
      "      Vuelve       0.81      0.74      0.77        80\n",
      "\n",
      "    accuracy                           0.83       201\n",
      "   macro avg       0.82      0.81      0.82       201\n",
      "weighted avg       0.82      0.83      0.82       201\n",
      "\n"
     ]
    }
   ],
   "source": [
    "print(classification_report(y_test, y_pred, target_names=['No vuelve','Vuelve']))\n",
    "print(classification_report(y_exp_test, y_exp_pred, target_names=['No vuelve','Vuelve']))"
   ]
  },
  {
   "cell_type": "code",
   "execution_count": 25,
   "metadata": {},
   "outputs": [
    {
     "data": {
      "image/png": "[encoded data removed]",
      "text/plain": [
       "<Figure size 600x400 with 2 Axes>"
      ]
     },
     "metadata": {
      "needs_background": "light"
     },
     "output_type": "display_data"
    },
    {
     "data": {
      "image/png": "[encoded data removed]",
      "text/plain": [
       "<Figure size 600x400 with 2 Axes>"
      ]
     },
     "metadata": {
      "needs_background": "light"
     },
     "output_type": "display_data"
    }
   ],
   "source": [
    "mostrarMatrizDeConfusion(y_pred,y_test)\n",
    "mostrarMatrizDeConfusion(y_exp_pred,y_exp_test)"
   ]
  },
  {
   "cell_type": "code",
   "execution_count": 26,
   "metadata": {},
   "outputs": [
    {
     "data": {
      "image/png": "[encoded data removed]",
      "text/plain": [
       "<Figure size 432x288 with 1 Axes>"
      ]
     },
     "metadata": {
      "needs_background": "light"
     },
     "output_type": "display_data"
    }
   ],
   "source": [
    "mostrarROCCurve(stacking,\"Stacking\",X_test,X_train,y_test,y_train)"
   ]
  },
  {
   "cell_type": "code",
   "execution_count": 27,
   "metadata": {},
   "outputs": [
    {
     "name": "stdout",
     "output_type": "stream",
     "text": [
      "AUC para Stacking: 0.887\n"
     ]
    }
   ],
   "source": [
    "mostrarAUCScore(stacking,\"Stacking\",X_test,y_test)\n",
    "mostrarAUCScore(stacking1,\"Stacking\",X_test,y_test)"
   ]
  },
  {
   "cell_type": "markdown",
   "metadata": {},
   "source": [
    "Usando este modelo se llegó a un muy buen resultado, casi alcanzando al obtenido con Voting."
   ]
  },
  {
   "cell_type": "markdown",
   "metadata": {},
   "source": [
    "## Predicciones sobre el nuevo archivo"
   ]
  },
  {
   "cell_type": "markdown",
   "metadata": {},
   "source": [
    "Realizamos ahora las predicciones del nuevo archivo entregado."
   ]
  },
  {
   "cell_type": "code",
   "execution_count": null,
   "metadata": {},
   "outputs": [],
   "source": [
    "holdout = obtenerHoldout()\n",
    "\n",
    "holdout = prepararSetDeHoldout(holdout)\n",
    "holdout_stacking = conversionAVariablesNumericasNormalizadas(holdout)"
   ]
  },
  {
   "cell_type": "markdown",
   "metadata": {},
   "source": [
    "Realizamos las predicciones y escribimos al archivo CSV."
   ]
  },
  {
   "cell_type": "code",
   "execution_count": null,
   "metadata": {},
   "outputs": [],
   "source": [
    "predicciones_holdout = stacking.predict(holdout_stacking)"
   ]
  },
  {
   "cell_type": "code",
   "execution_count": null,
   "metadata": {},
   "outputs": [],
   "source": [
    "escribirPrediccionesAArchivo(predicciones_holdout,\"Stacking\")"
   ]
  }
 ],
 "metadata": {
  "kernelspec": {
   "display_name": "Python 3",
   "language": "python",
   "name": "python3"
  },
  "language_info": {
   "codemirror_mode": {
    "name": "ipython",
    "version": 3
   },
   "file_extension": ".py",
   "mimetype": "text/x-python",
   "name": "python",
   "nbconvert_exporter": "python",
   "pygments_lexer": "ipython3",
   "version": "3.7.7"
  }
 },
 "nbformat": 4,
 "nbformat_minor": 4
}
