{
 "cells": [
  {
   "cell_type": "markdown",
   "metadata": {},
   "source": [
    "# Trabajo Práctico 2: Análisis con Regresion logistica - Organización de Datos"
   ]
  },
  {
   "cell_type": "markdown",
   "metadata": {},
   "source": [
    "**Alumnos y Padrón**  \n",
    "* Grassano, Bruno - 103855  \n",
    "* Romero, Adrián   - 103371\n",
    "\n",
    "https://github.com/brunograssano/TP-Organizacion-de-datos"
   ]
  },
  {
   "cell_type": "markdown",
   "metadata": {},
   "source": [
    "## Configuraciones iniciales"
   ]
  },
  {
   "cell_type": "markdown",
   "metadata": {},
   "source": [
    "Importamos las bibiliotecas que utilizaremos a lo largo del notebook"
   ]
  },
  {
   "cell_type": "code",
   "execution_count": 1,
   "metadata": {},
   "outputs": [],
   "source": [
    "import pandas as pd\n",
    "import numpy as np\n",
    "import matplotlib.pyplot as plt\n",
    "import seaborn as sns"
   ]
  },
  {
   "cell_type": "code",
   "execution_count": 2,
   "metadata": {},
   "outputs": [],
   "source": [
    "from sklearn.model_selection import train_test_split\n",
    "from sklearn.metrics import classification_report\n",
    "from sklearn.metrics import confusion_matrix\n",
    "from sklearn.metrics import roc_auc_score\n",
    "from sklearn.metrics import roc_curve\n",
    "from sklearn.model_selection import KFold, StratifiedKFold"
   ]
  },
  {
   "cell_type": "code",
   "execution_count": 3,
   "metadata": {},
   "outputs": [],
   "source": [
    "from sklearn.linear_model import LogisticRegression"
   ]
  },
  {
   "cell_type": "code",
   "execution_count": 4,
   "metadata": {},
   "outputs": [],
   "source": [
    "from preprocessing import prepararSetDeDatos\n",
    "from preprocessing import prepararSetDeValidacion\n",
    "from preprocessing import rlPreprocessing"
   ]
  },
  {
   "cell_type": "code",
   "execution_count": 5,
   "metadata": {},
   "outputs": [],
   "source": [
    "from funcionesAuxiliares import mostrarAUCScore\n",
    "from funcionesAuxiliares import mostrarROCCurve\n",
    "from funcionesAuxiliares import mostrarMatrizDeConfusion\n",
    "from funcionesAuxiliares import escribirPrediccionesAArchivo"
   ]
  },
  {
   "cell_type": "markdown",
   "metadata": {},
   "source": [
    "## Importamos los datos y los procesamos"
   ]
  },
  {
   "cell_type": "markdown",
   "metadata": {},
   "source": [
    "Leemos los datos que tenemos y llamamos a las funciones que se encargaran de dejar listos los datasets con la investigacion del TP1."
   ]
  },
  {
   "cell_type": "code",
   "execution_count": 6,
   "metadata": {},
   "outputs": [],
   "source": [
    "X = pd.read_csv('Datasets/tp-2020-2c-train-cols2.csv')\n",
    "y = pd.read_csv('Datasets/tp-2020-2c-train-cols1.csv')\n",
    "\n",
    "X = prepararSetDeDatos(X)\n",
    "y = prepararSetDeValidacion(y)"
   ]
  },
  {
   "cell_type": "markdown",
   "metadata": {},
   "source": [
    "## Funciones Auxiliares"
   ]
  },
  {
   "cell_type": "markdown",
   "metadata": {},
   "source": [
    "Creamos una funcion que obtiene mediante grid search y K-Fold cross validation el tipo de regularizacion que maximiza la metrica de AUC ROC para el modelo de regresion logistica."
   ]
  },
  {
   "cell_type": "code",
   "execution_count": 7,
   "metadata": {},
   "outputs": [],
   "source": [
    "def obtenerMejoresHiperparametros(datosPreprocesados):\n",
    "    mejor_c = 0\n",
    "    mejor_valor = 0\n",
    "    mejor_regularizacion = None\n",
    "    y_array=np.array(y)\n",
    "    for regularizacion in [\"l2\",\"none\", \"l1\", \"elasticnet\"]:\n",
    "        for valor_c in [0.001,0.01,0.1,0.2,0.5,0.7,1.0,1.5,2,2.5,3,3.5,4,5]:\n",
    "            if(regularizacion == \"elasticnet\"):\n",
    "                l1_ratio = 0.5\n",
    "            else:\n",
    "                l1_ratio = None\n",
    "            kf = StratifiedKFold(n_splits=5)\n",
    "            metricas = []\n",
    "            for fold_idx, (train_index, test_index) in enumerate(kf.split(datosPreprocesados, y_array)):\n",
    "                rl = None\n",
    "                if regularizacion == \"none\": # Para evitar los warnings que surgen al mandar None con l1_ratio y C\n",
    "                    rl = LogisticRegression(penalty = regularizacion, max_iter = 5000, solver = \"saga\")\n",
    "                else:\n",
    "                    rl = LogisticRegression(penalty = regularizacion, max_iter = 5000, solver = \"saga\", l1_ratio = l1_ratio, C=valor_c)\n",
    "                rl.fit(datosPreprocesados[train_index], y_array[train_index].ravel())\n",
    "                predicciones = rl.predict_proba(datosPreprocesados[test_index])[:, 1]\n",
    "                score_obtenida = roc_auc_score(y_array[test_index],predicciones)\n",
    "                metricas.append(score_obtenida)\n",
    "\n",
    "            if np.mean(metricas) >= mejor_valor:\n",
    "                mejor_valor = np.mean(metricas)\n",
    "                mejor_regularizacion = regularizacion\n",
    "                mejor_c = valor_c\n",
    "            \n",
    "    return mejor_valor, mejor_regularizacion, mejor_c"
   ]
  },
  {
   "cell_type": "markdown",
   "metadata": {},
   "source": [
    "## Regresion logistica"
   ]
  },
  {
   "cell_type": "markdown",
   "metadata": {},
   "source": [
    "La regresion logistica es un metodo de aprendizaje supervisado sencillo el cual consiste en obtener una curva que sirva para predecir la clase de una instancia."
   ]
  },
  {
   "cell_type": "markdown",
   "metadata": {},
   "source": [
    "Para el procesamiento de los datos aplicamos el mismo tipo de procesamiento que en otros modelos (ej. KNN). Este consiste en convertir las variables categoricas a numericas mediante OneHotEncoding y normalizar los datos que correspondan para evitar que ocurra un desvio no deseado al momento de realizar los calculos."
   ]
  },
  {
   "cell_type": "code",
   "execution_count": 8,
   "metadata": {},
   "outputs": [],
   "source": [
    "X_rl = rlPreprocessing(X)"
   ]
  },
  {
   "cell_type": "markdown",
   "metadata": {},
   "source": [
    "#### Buscamos los mejores hiperparametros"
   ]
  },
  {
   "cell_type": "markdown",
   "metadata": {},
   "source": [
    "En la busqueda de los hiperparametros consideramos que los mas importantes eran los siguientes:\n",
    " * Penalidad\n",
    " * C\n",
    " \n",
    "Penalidad: Especifica la penalizacion del modelo. Probamos con las siguientes regularizaciones 'l1','l2,'elasticnet, y sin regularizacion.\n",
    "\n",
    "C: Es un parametro que indica que tan fuerte es la regularizacion. Similar a SVM."
   ]
  },
  {
   "cell_type": "code",
   "execution_count": 9,
   "metadata": {},
   "outputs": [],
   "source": [
    "mejor_valor, mejor_regularizacion, mejor_c = obtenerMejoresHiperparametros(X_rl)"
   ]
  },
  {
   "cell_type": "code",
   "execution_count": 10,
   "metadata": {},
   "outputs": [
    {
     "name": "stdout",
     "output_type": "stream",
     "text": [
      "El mejor valor fue de AUC fue: 0.856\n",
      "La regularizacion encontrada que maximiza el AUC fue: none\n",
      "El valor de C que maximiza el AUC fue: 1.0\n"
     ]
    }
   ],
   "source": [
    "print(f\"El mejor valor fue de AUC fue: {round(mejor_valor,3)}\")\n",
    "print(f\"La regularizacion encontrada que maximiza el AUC fue: {mejor_regularizacion}\")\n",
    "print(f\"El valor de C que maximiza el AUC fue: {mejor_c}\")"
   ]
  },
  {
   "cell_type": "markdown",
   "metadata": {},
   "source": [
    "### Evaluamos las metricas"
   ]
  },
  {
   "cell_type": "markdown",
   "metadata": {},
   "source": [
    "Dividimos el set de datos en sets de training y test. Luego creamos el modelo con los hiperparametros obtenidos."
   ]
  },
  {
   "cell_type": "code",
   "execution_count": 11,
   "metadata": {},
   "outputs": [],
   "source": [
    "X_train, X_test, y_train, y_test = train_test_split(X_rl, y, test_size=0.25, random_state=0)"
   ]
  },
  {
   "cell_type": "code",
   "execution_count": 12,
   "metadata": {},
   "outputs": [],
   "source": [
    "rl = None\n",
    "if mejor_regularizacion == \"none\":\n",
    "    rl = LogisticRegression(penalty = mejor_regularizacion,solver = \"saga\",max_iter = 5000)\n",
    "else:\n",
    "    rl = LogisticRegression(penalty = mejor_regularizacion,l1_ratio = None,  solver = \"saga\", C = mejor_c,max_iter = 5000)"
   ]
  },
  {
   "cell_type": "code",
   "execution_count": 13,
   "metadata": {},
   "outputs": [
    {
     "name": "stderr",
     "output_type": "stream",
     "text": [
      "C:\\Users\\Bruno\\anaconda3\\lib\\site-packages\\sklearn\\utils\\validation.py:73: DataConversionWarning: A column-vector y was passed when a 1d array was expected. Please change the shape of y to (n_samples, ), for example using ravel().\n",
      "  return f(**kwargs)\n"
     ]
    },
    {
     "data": {
      "text/plain": [
       "LogisticRegression(max_iter=5000, penalty='none', solver='saga')"
      ]
     },
     "execution_count": 13,
     "metadata": {},
     "output_type": "execute_result"
    }
   ],
   "source": [
    "rl.fit(X_train, y_train)"
   ]
  },
  {
   "cell_type": "code",
   "execution_count": 14,
   "metadata": {},
   "outputs": [],
   "source": [
    "y_pred = rl.predict(X_test)"
   ]
  },
  {
   "cell_type": "markdown",
   "metadata": {},
   "source": [
    "Vemos los resultados ahora con las diferentes metricas."
   ]
  },
  {
   "cell_type": "code",
   "execution_count": 15,
   "metadata": {},
   "outputs": [
    {
     "name": "stdout",
     "output_type": "stream",
     "text": [
      "              precision    recall  f1-score   support\n",
      "\n",
      "   No vuelve       0.83      0.86      0.84       121\n",
      "      Vuelve       0.77      0.72      0.75        80\n",
      "\n",
      "    accuracy                           0.81       201\n",
      "   macro avg       0.80      0.79      0.80       201\n",
      "weighted avg       0.80      0.81      0.80       201\n",
      "\n"
     ]
    }
   ],
   "source": [
    "print(classification_report(y_test, y_pred, target_names=['No vuelve','Vuelve']))"
   ]
  },
  {
   "cell_type": "code",
   "execution_count": 16,
   "metadata": {},
   "outputs": [
    {
     "data": {
      "image/png": "[encoded data removed]",
      "text/plain": [
       "<Figure size 600x400 with 2 Axes>"
      ]
     },
     "metadata": {
      "needs_background": "light"
     },
     "output_type": "display_data"
    }
   ],
   "source": [
    "mostrarMatrizDeConfusion(y_pred,y_test)"
   ]
  },
  {
   "cell_type": "markdown",
   "metadata": {},
   "source": [
    "Graficamos la curva ROC"
   ]
  },
  {
   "cell_type": "code",
   "execution_count": 17,
   "metadata": {},
   "outputs": [
    {
     "data": {
      "image/png": "[encoded data removed]",
      "text/plain": [
       "<Figure size 432x288 with 1 Axes>"
      ]
     },
     "metadata": {
      "needs_background": "light"
     },
     "output_type": "display_data"
    }
   ],
   "source": [
    "mostrarROCCurve(rl,\"Regresion Logistica\",X_test, X_train, y_test, y_train)"
   ]
  },
  {
   "cell_type": "code",
   "execution_count": 18,
   "metadata": {},
   "outputs": [
    {
     "name": "stdout",
     "output_type": "stream",
     "text": [
      "AUC para Regresion Logistica: 0.860\n"
     ]
    }
   ],
   "source": [
    "mostrarAUCScore(rl,\"Regresion Logistica\",X_test,y_test)"
   ]
  },
  {
   "cell_type": "markdown",
   "metadata": {},
   "source": [
    "Observamos que se obtuvo un rendimiento bastante bueno con este modelo."
   ]
  },
  {
   "cell_type": "markdown",
   "metadata": {},
   "source": [
    "## Predicciones sobre el nuevo archivo"
   ]
  },
  {
   "cell_type": "markdown",
   "metadata": {},
   "source": [
    "Obtenemos y preparamos el nuevo archivo realizando el mismo preprocesamiento realizado anteriormente."
   ]
  },
  {
   "cell_type": "code",
   "execution_count": 19,
   "metadata": {},
   "outputs": [],
   "source": [
    "holdout = pd.read_csv('Datasets/tp-2020-2c-holdout-cols2.csv')\n",
    "\n",
    "holdout = prepararSetDeDatos(holdout)\n",
    "holdout_rl = rlPreprocessing(holdout)"
   ]
  },
  {
   "cell_type": "markdown",
   "metadata": {},
   "source": [
    "Realizamos las predicciones y escribimos al archivo CSV."
   ]
  },
  {
   "cell_type": "code",
   "execution_count": 20,
   "metadata": {},
   "outputs": [],
   "source": [
    "#predicciones_holdout = rl.predict(holdout_rl)"
   ]
  },
  {
   "cell_type": "code",
   "execution_count": 21,
   "metadata": {},
   "outputs": [],
   "source": [
    "#predicciones_holdout"
   ]
  },
  {
   "cell_type": "code",
   "execution_count": 22,
   "metadata": {},
   "outputs": [],
   "source": [
    "#escribirPrediccionesAArchivo(predicciones_holdout,\"RegresionLogistica\")"
   ]
  }
 ],
 "metadata": {
  "kernelspec": {
   "display_name": "Python 3",
   "language": "python",
   "name": "python3"
  },
  "language_info": {
   "codemirror_mode": {
    "name": "ipython",
    "version": 3
   },
   "file_extension": ".py",
   "mimetype": "text/x-python",
   "name": "python",
   "nbconvert_exporter": "python",
   "pygments_lexer": "ipython3",
   "version": "3.8.3"
  }
 },
 "nbformat": 4,
 "nbformat_minor": 4
}
