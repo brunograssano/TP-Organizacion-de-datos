{
 "cells": [
  {
   "cell_type": "markdown",
   "metadata": {
    "colab_type": "text",
    "id": "view-in-github"
   },
   "source": [
    "<a href=\"https://colab.research.google.com/github/brunograssano/TP-Organizacion-de-datos/blob/main/TP_Datos.ipynb\" target=\"_parent\"><img src=\"https://colab.research.google.com/assets/colab-badge.svg\" alt=\"Open In Colab\"/></a>"
   ]
  },
  {
   "cell_type": "markdown",
   "metadata": {
    "id": "L23p0lRmEsZ5"
   },
   "source": [
    "# Trabajo Práctico 1: Análisis Exploratorio - Organización de Datos"
   ]
  },
  {
   "cell_type": "markdown",
   "metadata": {},
   "source": [
    "**Alumnos y Padrón**  \n",
    "* Grassano, Bruno - 103855  \n",
    "* Romero, Adrián   - 103371\n",
    "\n",
    "https://github.com/brunograssano/TP-Organizacion-de-datos"
   ]
  },
  {
   "cell_type": "markdown",
   "metadata": {
    "id": "VZvqSJKEE9D4"
   },
   "source": [
    "## Introducción"
   ]
  },
  {
   "cell_type": "markdown",
   "metadata": {
    "id": "gwtUueJeFCmh"
   },
   "source": [
    "En el presente trabajo se propone realizar un análisis de los datos recolectados por una empresa en los últimos 2 meses sobre los clientes que fueron a ver la pelicula Frozen 3. La encuesta consistía en una serie de preguntas personales que concluía si el cliente volvería a ese cine si salía la secuela, Frozen 4.\n",
    "\n",
    "El objetivo de la empresa es poder dirigir futuras campañas de marketing digital en base a esta información recolectada."
   ]
  },
  {
   "cell_type": "markdown",
   "metadata": {
    "id": "h4kz6GojFSZw"
   },
   "source": [
    "## Objetivos"
   ]
  },
  {
   "cell_type": "markdown",
   "metadata": {
    "id": "tiPzBHUlJ0vU"
   },
   "source": [
    "El objetivo de este notebook es:\n",
    "*   Entender los datos\n",
    "*   Ver cómo los datos se relacionan entre si\n",
    "*   Poder sacar alguna conclusión o descubrir un patrón a partir de estos\n",
    "*   Indicar cuáles son los factores más importantes que determinan si un usuario va a ir al cine a ver Frozen 4 o no.\n",
    "*   Poder llegar a armar un baseline\n",
    "\n"
   ]
  },
  {
   "cell_type": "markdown",
   "metadata": {
    "id": "vLn4b3ckGpN-"
   },
   "source": [
    "## Configuraciones Iniciales"
   ]
  },
  {
   "cell_type": "markdown",
   "metadata": {
    "id": "ryJZhQRlHRPv"
   },
   "source": [
    "Primero cargamos las bibliotecas que se van a ir usando a lo largo del trabajo."
   ]
  },
  {
   "cell_type": "code",
   "execution_count": null,
   "metadata": {
    "id": "QaKwLbPIGsNV"
   },
   "outputs": [],
   "source": [
    "import pandas as pd\n",
    "import numpy as np\n",
    "import matplotlib.pyplot as plt\n",
    "import seaborn as sns"
   ]
  },
  {
   "cell_type": "code",
   "execution_count": null,
   "metadata": {},
   "outputs": [],
   "source": [
    "from math import pi"
   ]
  },
  {
   "cell_type": "markdown",
   "metadata": {
    "id": "UZq__1YAFZi-"
   },
   "source": [
    "## Carga y limpieza del set de datos"
   ]
  },
  {
   "cell_type": "markdown",
   "metadata": {
    "id": "XcZxtmo6KFI1"
   },
   "source": [
    "Cargamos ambos Datasets y vemos de dejarlos listos para comenzar el trabajo"
   ]
  },
  {
   "cell_type": "code",
   "execution_count": null,
   "metadata": {
    "colab": {
     "base_uri": "https://localhost:8080/",
     "height": 204
    },
    "id": "iekRTA5nGjcb",
    "outputId": "94e1f10d-0982-4aef-ee2a-bf7313d66494"
   },
   "outputs": [],
   "source": [
    "usuario_volveria_df = pd.read_csv('Datasets/tp-2020-2c-train-cols1.csv')\n",
    "usuario_volveria_df.head()"
   ]
  },
  {
   "cell_type": "code",
   "execution_count": null,
   "metadata": {
    "colab": {
     "base_uri": "https://localhost:8080/",
     "height": 204
    },
    "id": "2ctUvMqoKQ0_",
    "outputId": "b0c9b756-de6d-4bbd-acdb-b46b0df4cea4"
   },
   "outputs": [],
   "source": [
    "info_fiumark_df = pd.read_csv('Datasets/tp-2020-2c-train-cols2.csv')\n",
    "info_fiumark_df.head()"
   ]
  },
  {
   "cell_type": "markdown",
   "metadata": {
    "id": "9b25m2BLKpSd"
   },
   "source": [
    "Analizamos primero los tipos de datos que tienen ambos dataframes con el objetivo de poder convertirlos a otros que puedan llegar a ser más útiles."
   ]
  },
  {
   "cell_type": "code",
   "execution_count": null,
   "metadata": {
    "colab": {
     "base_uri": "https://localhost:8080/",
     "height": 170
    },
    "id": "e-2myoT-K820",
    "outputId": "82b896db-d95d-4ac0-d120-81d96d79e4ca"
   },
   "outputs": [],
   "source": [
    "usuario_volveria_df.info()"
   ]
  },
  {
   "cell_type": "markdown",
   "metadata": {
    "id": "VM026iYRNyYR"
   },
   "source": [
    "Notamos que la columna de 'volveria' es de tipo int64, cuando solamente tiene valores que pueden ser 0 o 1. Un mejor tipo de dato para este caso puede ser un int8. Esto permitiría ahorrar memoria. (Aunque en este caso no sean muchos datos)"
   ]
  },
  {
   "cell_type": "code",
   "execution_count": null,
   "metadata": {
    "id": "MP7Ia9-kN16y"
   },
   "outputs": [],
   "source": [
    "usuario_volveria_df['volveria'] = usuario_volveria_df['volveria'].astype(np.int8)"
   ]
  },
  {
   "cell_type": "markdown",
   "metadata": {
    "id": "vsgPgT6yPFq4"
   },
   "source": [
    "Observamos, en la información del dataframe, que hay 801 registros y que para este caso no se encuentran valores nulos"
   ]
  },
  {
   "cell_type": "markdown",
   "metadata": {
    "id": "svXfIHx8Pj-D"
   },
   "source": [
    "Veamos ahora el otro dataframe. Este dataframe contiene la información respecto de las personas. "
   ]
  },
  {
   "cell_type": "code",
   "execution_count": null,
   "metadata": {
    "colab": {
     "base_uri": "https://localhost:8080/",
     "height": 323
    },
    "id": "k0Dn0Eu2MVnM",
    "outputId": "aac56218-c457-444c-8182-c935b9494410"
   },
   "outputs": [],
   "source": [
    "info_fiumark_df.info()"
   ]
  },
  {
   "cell_type": "markdown",
   "metadata": {
    "id": "4SPAoHwdQJ1v"
   },
   "source": [
    "Notamos una gran cantidad de valores nulos en la columna \"fila\" y algunos en \"edad\" y \"nombre_sede\". Como las columnas que tienen los valores nulos pueden llegar a ser relevantes para el análisis, siendo este el caso de las columnas \"fila\" y \"edad\" decidimos crear la categoría \"No responde\" para el caso de \"fila\"."
   ]
  },
  {
   "cell_type": "code",
   "execution_count": null,
   "metadata": {
    "id": "Bq12PsRaXk1D"
   },
   "outputs": [],
   "source": [
    "info_fiumark_df['fila'].fillna(\"No responde\",inplace=True)"
   ]
  },
  {
   "cell_type": "markdown",
   "metadata": {
    "id": "l9EceQi1YPkY"
   },
   "source": [
    "Ahora vemos la cantidad de valores únicos para las columnas de tipo objeto, para poder determinar a cuales les correspondería tener un tipo categórico."
   ]
  },
  {
   "cell_type": "code",
   "execution_count": null,
   "metadata": {},
   "outputs": [],
   "source": [
    "# tener en cuenta missings"
   ]
  },
  {
   "cell_type": "code",
   "execution_count": null,
   "metadata": {
    "colab": {
     "base_uri": "https://localhost:8080/",
     "height": 136
    },
    "id": "UCSJpvUGMV0b",
    "outputId": "2891b9a8-d1fa-422d-db2a-041c70564038"
   },
   "outputs": [],
   "source": [
    "info_fiumark_df.select_dtypes(include=['object']).nunique()"
   ]
  },
  {
   "cell_type": "code",
   "execution_count": null,
   "metadata": {
    "id": "s1qbPtggRorl"
   },
   "outputs": [],
   "source": [
    "info_fiumark_df[\"tipo_de_sala\"] = info_fiumark_df[\"tipo_de_sala\"].astype(\"category\")\n",
    "info_fiumark_df[\"genero\"] = info_fiumark_df[\"genero\"].astype(\"category\")\n",
    "info_fiumark_df[\"nombre_sede\"] = info_fiumark_df[\"nombre_sede\"].astype(\"category\")\n",
    "info_fiumark_df[\"fila\"] = info_fiumark_df[\"fila\"].astype(\"category\")\n"
   ]
  },
  {
   "cell_type": "markdown",
   "metadata": {
    "id": "YSEnM6X0Rp1Q"
   },
   "source": [
    "Otra cosa que observamos es que las edades están en formato de float, lo cual nos resultó llamativo, por lo que decidimos cortar los valores, llevándolos al piso."
   ]
  },
  {
   "cell_type": "code",
   "execution_count": null,
   "metadata": {
    "id": "2DHci65oUPPJ"
   },
   "outputs": [],
   "source": [
    "info_fiumark_df['edad'] = info_fiumark_df['edad'].apply(np.floor) "
   ]
  },
  {
   "cell_type": "markdown",
   "metadata": {},
   "source": [
    "Pudimos observar que una parte en la columna de 'edad' tiene valores faltantes. Lo que decidimos hacer fue utilizar la columna 'nombre', que incluye sufijos como 'Señora' o 'Señorita' para rellenar el valor de edad.\n",
    "\n",
    "Lo primero que hacemos es crear una nueva columna 'sufijo' a partir de los valores de nombres anteriores."
   ]
  },
  {
   "cell_type": "code",
   "execution_count": null,
   "metadata": {},
   "outputs": [],
   "source": [
    "sufijos_y_nombres = info_fiumark_df.nombre.str.split(pat = ' ', n= 1,expand = True)\n",
    "sufijos_y_nombres.columns = ['sufijo', 'nombre']\n",
    "info_fiumark_df.drop('nombre', axis = 1, inplace = True)\n",
    "info_fiumark_df = pd.concat([ sufijos_y_nombres, info_fiumark_df ], axis = 'columns')"
   ]
  },
  {
   "cell_type": "code",
   "execution_count": null,
   "metadata": {},
   "outputs": [],
   "source": [
    "info_fiumark_df.head()"
   ]
  },
  {
   "cell_type": "markdown",
   "metadata": {},
   "source": [
    "Ahora reemplazamos la edad de las 'Señoras' que no contestaron la edad por la mediana de las que sí contestaron. Hacemos lo mismo para las 'Señoritas'.\n",
    "\n",
    "Ademas creamos una columna 'autocompletamos_edad' para indicar cuáles de estas edades fueron completadas por nosotros."
   ]
  },
  {
   "cell_type": "code",
   "execution_count": null,
   "metadata": {},
   "outputs": [],
   "source": [
    "mediana_edad_senioras = info_fiumark_df[info_fiumark_df['sufijo'] == 'Señora'].edad.dropna().median()\n",
    "mediana_edad_senioritas = info_fiumark_df[info_fiumark_df['sufijo'] == 'Señorita'].edad.dropna().median()"
   ]
  },
  {
   "cell_type": "code",
   "execution_count": null,
   "metadata": {},
   "outputs": [],
   "source": [
    "info_fiumark_df['autocompletamos_edad'] = False"
   ]
  },
  {
   "cell_type": "code",
   "execution_count": null,
   "metadata": {},
   "outputs": [],
   "source": [
    "info_fiumark_df.loc[(info_fiumark_df['sufijo'] == 'Señora') & (info_fiumark_df['edad'].isnull()),'autocompletamos_edad'] = True\n",
    "info_fiumark_df.loc[(info_fiumark_df['sufijo'] == 'Señorita') & (info_fiumark_df['edad'].isnull()),'autocompletamos_edad'] = True"
   ]
  },
  {
   "cell_type": "code",
   "execution_count": null,
   "metadata": {},
   "outputs": [],
   "source": [
    "info_fiumark_df.loc[info_fiumark_df['sufijo'] == 'Señorita','edad'] = info_fiumark_df.loc[info_fiumark_df['sufijo'] == 'Señorita','edad'].fillna(mediana_edad_senioritas)\n",
    "info_fiumark_df.loc[info_fiumark_df['sufijo'] == 'Señora','edad'] = info_fiumark_df.loc[info_fiumark_df['sufijo'] == 'Señora','edad'].fillna(mediana_edad_senioras) "
   ]
  },
  {
   "cell_type": "markdown",
   "metadata": {},
   "source": [
    "Veamos ahora el caso de los hombres. Algo que notamos en este caso, es que no tenemos el sufijo 'Señorito' como para tener una distinción muy marcada en comparación a la de las mujeres. Pero observando que la cantidad de niños que respondieron la encuesta es mucho menor en proporción a la de los hombres, decidimos realizar el reemplazo tomando también la mediana."
   ]
  },
  {
   "cell_type": "code",
   "execution_count": null,
   "metadata": {},
   "outputs": [],
   "source": [
    "def cantidad_total_de_ninios(edad):\n",
    "    ninios = edad<=10\n",
    "    return ninios.sum()"
   ]
  },
  {
   "cell_type": "code",
   "execution_count": null,
   "metadata": {
    "pycharm": {
     "name": "#%%\n"
    }
   },
   "outputs": [],
   "source": [
    "info_fiumark_df.groupby(by='genero').agg({'edad':cantidad_total_de_ninios}).rename(columns={'edad':'Cantidad de ninios que respondieron la encuesta'})"
   ]
  },
  {
   "cell_type": "code",
   "execution_count": null,
   "metadata": {},
   "outputs": [],
   "source": [
    "mediana_edad_senior = info_fiumark_df[info_fiumark_df['sufijo'] == 'Señor'].edad.dropna().median()"
   ]
  },
  {
   "cell_type": "code",
   "execution_count": null,
   "metadata": {},
   "outputs": [],
   "source": [
    "info_fiumark_df.loc[(info_fiumark_df['sufijo'] == 'Señor') & (info_fiumark_df['edad'].isnull()),'autocompletamos_edad'] = True\n",
    "info_fiumark_df.loc[info_fiumark_df['sufijo'] == 'Señor','edad'] = info_fiumark_df.loc[info_fiumark_df['sufijo'] == 'Señor','edad'].fillna(mediana_edad_senior)"
   ]
  },
  {
   "cell_type": "markdown",
   "metadata": {
    "id": "YUv4nA73MuhE"
   },
   "source": [
    "También observamos que entre los datos que nos fueron entregados se encuentra el código de ticket: \"id_ticket\". Consideramos que la información en ella es irrelevante para nuestros propósitos y por lo tanto la eliminamos. Esta decisión se debe a que parece que el código del ticket tiene forma de ser generada de forma aleatoria y no da la impresión de estar relacionada con la variable de interés (si volvería) para el análisis."
   ]
  },
  {
   "cell_type": "code",
   "execution_count": null,
   "metadata": {
    "id": "3Y7d9mFhZmGY"
   },
   "outputs": [],
   "source": [
    "info_fiumark_df.drop(columns='id_ticket',inplace=True)"
   ]
  },
  {
   "cell_type": "markdown",
   "metadata": {},
   "source": [
    "Ahora revisamos que la columna nombre tenga efectivamente nombres. Por ejemplo, esta columna no puede tener numeros."
   ]
  },
  {
   "cell_type": "code",
   "execution_count": null,
   "metadata": {},
   "outputs": [],
   "source": [
    "info_fiumark_df['nombre'].str.contains('1|2|3|4|5|6|7|8|9|0|#|%|&|!|@').any()"
   ]
  },
  {
   "cell_type": "markdown",
   "metadata": {},
   "source": [
    "Vemos que la columna 'nombre' esta compuesta por caracteres validos."
   ]
  },
  {
   "cell_type": "markdown",
   "metadata": {
    "id": "6c88G25mYkD4"
   },
   "source": [
    "Habiendo hecho esos cambios, finalmente nos queda el dataframe de la siguiente forma. En el proceso se redujo el uso de memoria, pasando de 69.0KB a 48.2KB."
   ]
  },
  {
   "cell_type": "code",
   "execution_count": null,
   "metadata": {
    "colab": {
     "base_uri": "https://localhost:8080/",
     "height": 306
    },
    "id": "G9eDYU86MWOu",
    "outputId": "374a195d-092e-47ce-ed56-4380fec27709",
    "pycharm": {
     "name": "#%%\n"
    }
   },
   "outputs": [],
   "source": [
    "info_fiumark_df.info()"
   ]
  },
  {
   "cell_type": "code",
   "execution_count": null,
   "metadata": {
    "colab": {
     "base_uri": "https://localhost:8080/",
     "height": 204
    },
    "id": "L9J4tEH9W0qI",
    "outputId": "6039aecd-a19e-46b3-dc5f-01262379b4c7",
    "pycharm": {
     "name": "#%%\n"
    }
   },
   "outputs": [],
   "source": [
    "info_fiumark_df.head()"
   ]
  },
  {
   "cell_type": "markdown",
   "metadata": {
    "id": "ZtiDONfHhJWI"
   },
   "source": [
    "Ahora dejamos unidos ambos dataframes."
   ]
  },
  {
   "cell_type": "code",
   "execution_count": null,
   "metadata": {
    "colab": {
     "base_uri": "https://localhost:8080/",
     "height": 204
    },
    "id": "H_3rfm0tglxY",
    "outputId": "c07acc12-1247-44a2-c095-affdf71a8fba"
   },
   "outputs": [],
   "source": [
    "info_fiumark_df = info_fiumark_df.merge(usuario_volveria_df,on='id_usuario')"
   ]
  },
  {
   "cell_type": "markdown",
   "metadata": {},
   "source": [
    "Por último, sacamos la columna de 'id_usuario', ya que no es necesaria para el análisis."
   ]
  },
  {
   "cell_type": "code",
   "execution_count": null,
   "metadata": {
    "colab": {
     "base_uri": "https://localhost:8080/",
     "height": 204
    },
    "id": "H_3rfm0tglxY",
    "outputId": "c07acc12-1247-44a2-c095-affdf71a8fba",
    "pycharm": {
     "name": "#%%\n"
    }
   },
   "outputs": [],
   "source": [
    "info_fiumark_df.drop(columns='id_usuario',inplace=True)\n",
    "info_fiumark_df.head()"
   ]
  },
  {
   "cell_type": "code",
   "execution_count": null,
   "metadata": {},
   "outputs": [],
   "source": [
    "# corroborar id ticket"
   ]
  },
  {
   "cell_type": "markdown",
   "metadata": {
    "id": "iuV3s3jjfMAo"
   },
   "source": [
    "## Análisis exploratorio"
   ]
  },
  {
   "cell_type": "markdown",
   "metadata": {
    "id": "jd7RjcsQff_m",
    "pycharm": {
     "name": "#%% md\n"
    }
   },
   "source": [
    "Empecemos el análisis haciendonos algunas preguntas sencillas, y en cada caso si es que surge alguna nueva pregunta interesante se continuara su desarrollo en esa sección.  \n",
    "* ¿Es el género una variable determinante a la hora de decidir ver la secuela?\n",
    "* ¿Como es la relación con la edad?\n",
    "* ¿Afecta en la decisión de volver el ir a ditintos tipos de sala?\n",
    "* ¿Hay mas gente que iría a la secuela si fue a una sede en particular?\n",
    "* ¿El precio fue determinante?\n",
    "* ¿La ubicación en la sala importa?\n"
   ]
  },
  {
   "cell_type": "markdown",
   "metadata": {},
   "source": [
    "### ¿Cuánto afecta el género a la hora de ir a ver la siguiente pelicula?"
   ]
  },
  {
   "cell_type": "markdown",
   "metadata": {
    "pycharm": {
     "name": "#%% md\n"
    }
   },
   "source": [
    "Veamos primero que proporción de las personas que fueron a ver la película son hombres y que proporción mujeres:"
   ]
  },
  {
   "cell_type": "code",
   "execution_count": null,
   "metadata": {
    "pycharm": {
     "name": "#%%\n"
    }
   },
   "outputs": [],
   "source": [
    "plt.figure(figsize=(6.4, 4.8), dpi=100)\n",
    "genero = info_fiumark_df['genero'].value_counts().sort_index().plot(kind='pie', autopct='%1.0f%%')\n",
    "plt.suptitle('Proporción del género que fueron a ver la película y respondieron la encuesta')\n",
    "plt.show()"
   ]
  },
  {
   "cell_type": "markdown",
   "metadata": {},
   "source": [
    "Observamos que casi dos tercios de las personas que fueron a ver la pelicula son hombres y un tercio mujeres.\n",
    "Si bien a primera vista esto parece indicar que la película atrae más a hombres que a mujeres, esto también deberse a que simplemente mas hombres respondieron la encuesta."
   ]
  },
  {
   "cell_type": "markdown",
   "metadata": {},
   "source": [
    "Buscamos ver ahora que proporción de los hombres y mujeres que fueron a ver la película volverían a ver la secuela. Esto se puede obtener de forma sencilla."
   ]
  },
  {
   "cell_type": "markdown",
   "metadata": {},
   "source": [
    "A priori esperamos que la proporción de mujeres que deciden ir a ver la secuela sea mucho mayor que la de los hombres."
   ]
  },
  {
   "cell_type": "code",
   "execution_count": null,
   "metadata": {},
   "outputs": [],
   "source": [
    "porcentaje_generos_volveria = info_fiumark_df.groupby(by='genero')['volveria'].agg('mean')\n",
    "porcentaje_generos_volveria.round(2)"
   ]
  },
  {
   "cell_type": "markdown",
   "metadata": {},
   "source": [
    "Habiendo hecho el cálculo, en los números se ve claramente lo esperado."
   ]
  },
  {
   "cell_type": "code",
   "execution_count": null,
   "metadata": {},
   "outputs": [],
   "source": [
    "plt.figure(dpi=100)\n",
    "plt.bar(porcentaje_generos_volveria.index, porcentaje_generos_volveria.values, color = ['cornflowerblue','lightpink'])\n",
    "plt.ylabel(\"Porcentaje\")\n",
    "plt.xlabel(\"Género\")\n",
    "plt.ylim(0, 1)\n",
    "plt.title('Porcentaje de hombre y mujeres que irían a ver la secuela')\n",
    "plt.show()"
   ]
  },
  {
   "cell_type": "markdown",
   "metadata": {
    "pycharm": {
     "name": "#%% md\n"
    }
   },
   "source": [
    "El gráfico de barras anterior nos muestra que del total de mujeres que fue a ver la película un 74% de ellas volvería a ver la secuela. Mientras que solo el 18% de los hombres disfrutó la película lo suficiente como para querer ir a ver la secuela. Como conclusión a la pregunta, esto parece indicar que el género es una variable muy importante."
   ]
  },
  {
   "cell_type": "markdown",
   "metadata": {
    "pycharm": {
     "name": "#%% md\n"
    }
   },
   "source": [
    "#### ¿Por qué tenemos mayor proporción de hombres encuestados?"
   ]
  },
  {
   "cell_type": "markdown",
   "metadata": {},
   "source": [
    "Habiendo observado el primer gráfico de tortas, notamos que una mayor cantidad de hombres que de mujeres respondieron la encuesta, por lo que nos surgió esta pregunta. Nuestra hipótesis es que pueden ser padres que llevaron a sus hijos a ver la película."
   ]
  },
  {
   "cell_type": "markdown",
   "metadata": {
    "pycharm": {
     "name": "#%% md\n"
    }
   },
   "source": [
    "Para responder esta pregunta y evaluar nuestra hipótesis, buscamos primero ver la distribución de las edades de los hombres y las mujeres, para ello realizamos un boxplot."
   ]
  },
  {
   "cell_type": "code",
   "execution_count": null,
   "metadata": {
    "pycharm": {
     "name": "#%%\n"
    }
   },
   "outputs": [],
   "source": [
    "plt.figure(dpi=150)\n",
    "\n",
    "plt.title(\"Edades por género\")\n",
    "sns.boxplot(\n",
    "    data= info_fiumark_df.loc[~info_fiumark_df['autocompletamos_edad'],['genero','edad']],\n",
    "    y='edad',\n",
    "    x='genero',\n",
    "    palette=['#D17049', \"#89D15E\"],\n",
    ")\n",
    "plt.ylabel(\"Edad\")\n",
    "plt.xlabel(\"Género\")\n",
    "plt.xticks([False, True])\n",
    "plt.show()"
   ]
  },
  {
   "cell_type": "markdown",
   "metadata": {
    "pycharm": {
     "name": "#%% md\n"
    }
   },
   "source": [
    "Podemos ver que la edad mediana de los hombres que fueron a ver la película es ligeramente mayor que la de las mujeres. Seguimos investigando con respecto a si llevaron parientes, para seguir evaluando nuestra hipótesis."
   ]
  },
  {
   "cell_type": "code",
   "execution_count": null,
   "metadata": {
    "pycharm": {
     "name": "#%%\n"
    }
   },
   "outputs": [],
   "source": [
    "mayor_a_treinta = info_fiumark_df['edad'] >= 30\n",
    "con_pariente = info_fiumark_df['parientes'] >= 1\n",
    "es_hombre = info_fiumark_df['genero'].str.contains('hombre')"
   ]
  },
  {
   "cell_type": "code",
   "execution_count": null,
   "metadata": {
    "pycharm": {
     "name": "#%%\n"
    }
   },
   "outputs": [],
   "source": [
    "info_fiumark_df.loc[mayor_a_treinta & con_pariente & es_hombre,'nombre'].count()"
   ]
  },
  {
   "cell_type": "code",
   "execution_count": null,
   "metadata": {},
   "outputs": [],
   "source": [
    "info_fiumark_df.loc[mayor_a_treinta & (~con_pariente) & es_hombre,'nombre'].count()"
   ]
  },
  {
   "cell_type": "markdown",
   "metadata": {
    "pycharm": {
     "name": "#%% md\n"
    }
   },
   "source": [
    "Vemos que la cantidad de casos hombres mayores a 30 años, que fueron encuestados y fueron sin parientes es mucho mayor a la de los que suponemos que deben ser padres (los que fueron con parientes) por lo que descartamos la hipótesis.\n",
    "\n",
    "Respondemos la pregunta que nos habíamos planteado diciendo que es probable que tengamos mayor cantidad de hombres encuestados simplemente porque los hombres fueron más propensos a completar la encuesta que las mujeres."
   ]
  },
  {
   "cell_type": "markdown",
   "metadata": {
    "pycharm": {
     "name": "#%% md\n"
    }
   },
   "source": [
    "### ¿Cómo es la relación con la edad?"
   ]
  },
  {
   "cell_type": "markdown",
   "metadata": {},
   "source": [
    "Busquemos ahora como se distribuye la edad de las personas que respondieron la encuesta."
   ]
  },
  {
   "cell_type": "code",
   "execution_count": null,
   "metadata": {
    "pycharm": {
     "name": "#%%\n"
    }
   },
   "outputs": [],
   "source": [
    "edades_sin_completar = info_fiumark_df.loc[~info_fiumark_df['autocompletamos_edad'],'edad']"
   ]
  },
  {
   "cell_type": "code",
   "execution_count": null,
   "metadata": {},
   "outputs": [],
   "source": [
    "sns.set(rc={'figure.figsize':(8,7)})\n",
    "plt.figure(dpi=100)\n",
    "g=sns.distplot( a=edades_sin_completar,\n",
    "             hist=True, kde=False, rug=False,\n",
    "             bins=40,\n",
    "             axlabel='Edad',\n",
    "             color='goldenrod')\n",
    "g.set_title('Distribucion de la edad de quienes respondieron la encuesta')\n",
    "g.set_ylabel(\"Cantidad de personas\")\n",
    "\n",
    "plt.show()"
   ]
  },
  {
   "cell_type": "markdown",
   "metadata": {
    "pycharm": {
     "name": "#%% md\n"
    }
   },
   "source": [
    "Vemos que la gran mayoría de los que respondieron la encuesta está en el rango de entre 20 y 50 años de edad. Mostramos ahora su relación con volver a la secuela."
   ]
  },
  {
   "cell_type": "code",
   "execution_count": null,
   "metadata": {
    "pycharm": {
     "name": "#%%\n"
    }
   },
   "outputs": [],
   "source": [
    "\n",
    "edades_cortadas = pd.cut(info_fiumark_df['edad'], bins = 10)\n",
    "\n",
    "ax = info_fiumark_df.groupby(edades_cortadas)['volveria'].mean().plot(kind='bar',rot=0,figsize=(15,6),color='sandybrown',\n",
    "                                                                 title='Relación entre las edades y volver a ver la secuela')\n",
    "\n",
    "ax.set_ylabel(\"Porcentaje de vuelta\")\n",
    "ax.set_ylim(0,1)"
   ]
  },
  {
   "cell_type": "markdown",
   "metadata": {},
   "source": [
    "Si bien el gráfico anterior nos permite ver que los niños vuelven más a ver la secuela, no nos aporta demasiada información para el resto de los rangos etáreos. Notar que la barra de (27,35] está algo más abajo que las demás, esto se debe a que se están tomando las edades completadas (las que completamos con medianas) en este gráfico. Sin ellas, esta barra estaría en el orden de las vecinas. Seguimos investigando sobre la edad tratando de relacionarla con el género."
   ]
  },
  {
   "cell_type": "markdown",
   "metadata": {},
   "source": [
    "#### Cruzamos el género con la edad"
   ]
  },
  {
   "cell_type": "markdown",
   "metadata": {},
   "source": [
    "Intentemos relacionar ahora la edad de las personas y su género con si volverían o no a ver la película. Para eso \n",
    "agrupamos en hombres y mujeres y luego estos grupos por edad:"
   ]
  },
  {
   "cell_type": "code",
   "execution_count": null,
   "metadata": {
    "collapsed": false,
    "jupyter": {
     "outputs_hidden": false
    },
    "pycharm": {
     "name": "#%%\n"
    }
   },
   "outputs": [],
   "source": [
    "edad =  info_fiumark_df['edad']\n",
    "genero = info_fiumark_df['genero']\n",
    "volveria = info_fiumark_df['volveria']\n",
    "\n",
    "hombres_vuelven = info_fiumark_df.loc[genero.str.contains('hombre') & (volveria == 1)]\n",
    "hombres_total = info_fiumark_df.loc[genero.str.contains('hombre')]\n",
    "\n",
    "mujeres_vuelven = info_fiumark_df.loc[genero.str.contains('mujer') & (volveria == 1)]\n",
    "mujeres_total = info_fiumark_df.loc[genero.str.contains('mujer')]"
   ]
  },
  {
   "cell_type": "code",
   "execution_count": null,
   "metadata": {
    "collapsed": false,
    "jupyter": {
     "outputs_hidden": false
    },
    "pycharm": {
     "name": "#%%\n"
    }
   },
   "outputs": [],
   "source": [
    "rango_edades = [0, 10, 20, 30, 40, 50, 60, 70, 80, 90]\n",
    "\n",
    "cuts_total_mujeres = pd.cut(mujeres_total['edad'], bins = rango_edades)\n",
    "cuts_vuelven_mujeres = pd.cut(mujeres_vuelven['edad'], bins = rango_edades)\n",
    "\n",
    "cuts_total_hombres = pd.cut(hombres_total['edad'], bins = rango_edades)\n",
    "cuts_vuelven_hombres = pd.cut(hombres_vuelven['edad'], bins = rango_edades)"
   ]
  },
  {
   "cell_type": "code",
   "execution_count": null,
   "metadata": {
    "collapsed": false,
    "jupyter": {
     "outputs_hidden": false
    },
    "pycharm": {
     "name": "#%%\n"
    }
   },
   "outputs": [],
   "source": [
    "serie_hombres = pd.Series(cuts_vuelven_hombres.value_counts()/cuts_total_hombres.value_counts())\n",
    "serie_mujeres = pd.Series(cuts_vuelven_mujeres.value_counts()/cuts_total_mujeres.value_counts())"
   ]
  },
  {
   "cell_type": "code",
   "execution_count": null,
   "metadata": {
    "collapsed": false,
    "jupyter": {
     "outputs_hidden": false
    },
    "pycharm": {
     "name": "#%%\n"
    }
   },
   "outputs": [],
   "source": [
    "plt.figure(dpi=100)\n",
    "\n",
    "fig, axes = plt.subplots(nrows=1, ncols=2, sharey=True, dpi=130, figsize=(13, 4.8))\n",
    "\n",
    "axes[0].bar(serie_hombres.index.astype(str), serie_hombres.values, color = 'blue', alpha = 0.5)\n",
    "\n",
    "axes[0].set_title(\"Distribución por edades de hombres que volverían\")\n",
    "axes[0].set_xlabel(\"Edad\")\n",
    "axes[0].set_ylabel(\"Porcentaje que volveria\")\n",
    "axes[0].tick_params('x',labelrotation=35)\n",
    "\n",
    "axes[1].bar(serie_mujeres.index.astype(str), serie_mujeres.values, color = 'coral', alpha = 0.5)\n",
    "\n",
    "axes[1].set_title(\"Distribución por edades de mujeres que volverían\")\n",
    "axes[1].set_xlabel(\"Edad\")\n",
    "axes[1].set_ylabel(\"Porcentaje que volvería\")\n",
    "\n",
    "\n",
    "plt.show()"
   ]
  },
  {
   "cell_type": "markdown",
   "metadata": {},
   "source": [
    "Se puede ver claramente que a los hombres de edades entre 0 y 10 les gusto mucho más que al resto de los hombres.\n",
    "Por otro lado el porcentaje de mujeres que volverían a ver la pelicula es mayor que el de hombres para todos los rangos de edades y parece ir ligeramente aumentando con la edad."
   ]
  },
  {
   "cell_type": "markdown",
   "metadata": {},
   "source": [
    "Notamos también la barra de los hombres de entre (80,90], habiendo visto la distribución de edades puesta en el histograma mas arriba, este es un único caso, por lo que no representa algo significativo."
   ]
  },
  {
   "cell_type": "markdown",
   "metadata": {},
   "source": [
    "Concluimos viendo lo anterior que hay una fuerte relación entre el género y la edad. Seguimos con otras preguntas que surgieron a partir de esta."
   ]
  },
  {
   "cell_type": "markdown",
   "metadata": {},
   "source": [
    "#### ¿Estarán relacionadas la edad y los parientes?"
   ]
  },
  {
   "cell_type": "markdown",
   "metadata": {},
   "source": [
    "Para responder esta pregunta creamos una clasificación de las edades de forma más categórica, de forma tal de poder observar mejor los datos."
   ]
  },
  {
   "cell_type": "code",
   "execution_count": null,
   "metadata": {
    "collapsed": false,
    "jupyter": {
     "outputs_hidden": false
    },
    "pycharm": {
     "name": "#%%\n"
    }
   },
   "outputs": [],
   "source": [
    "def estratificar_edades(edad):\n",
    "    if(edad <= 10):\n",
    "        return 'ninio'\n",
    "    elif(edad <=25):\n",
    "        return 'joven'\n",
    "    elif(edad <= 50):\n",
    "        return 'adulto'\n",
    "    return 'mayor'"
   ]
  },
  {
   "cell_type": "code",
   "execution_count": null,
   "metadata": {},
   "outputs": [],
   "source": [
    "info_fiumark_df['edades_estratificadas'] = info_fiumark_df['edad'].apply(estratificar_edades)"
   ]
  },
  {
   "cell_type": "code",
   "execution_count": null,
   "metadata": {
    "pycharm": {
     "name": "#%%\n"
    }
   },
   "outputs": [],
   "source": [
    "sns.set(rc={'figure.figsize':(8,7)})\n",
    "parientes_edad = pd.pivot_table(data = info_fiumark_df, index = 'parientes', values = 'volveria', columns = 'edades_estratificadas')\n",
    "parientes_edad.sort_index(ascending =  False, inplace = True)\n",
    "parientes_edad = parientes_edad.reindex( ['ninio', 'joven' ,'adulto', 'mayor'],axis = 1)\n",
    "\n",
    "mascara = parientes_edad.isnull()\n",
    "g = sns.heatmap(parientes_edad, mask = mascara, cmap=\"YlGnBu\", annot=True)\n",
    "g.set_ylabel(\"Cantidad de parientes\")\n",
    "g.set_xlabel(\"Edad\")\n",
    "g.set_title(\"Porcentaje que volvería según edad y parientes\")\n",
    "\n",
    "plt.show()"
   ]
  },
  {
   "cell_type": "markdown",
   "metadata": {
    "pycharm": {
     "name": "#%% md\n"
    }
   },
   "source": [
    "En el gráfico anterior podemos ver cómo se se relacionan los parientes y la edad con su decisión de volver al cine. Observamos que los niños son los que mas volverían. Además los niños parecen volver con mayor probabilidad si fueron con menos parientes. \n",
    "\n",
    "En el heatmap parecería que un 100% de los niños que fueron sin parientes volvería a ver la secuela. Lo mismo observamos para los adultos que fueron acompañados por exactamente 3 parientes. Esto nos lleva a querer saber cuántas personas en estas categorías efectivamente volverían para saber si son una cantidad representativa."
   ]
  },
  {
   "cell_type": "code",
   "execution_count": null,
   "metadata": {
    "pycharm": {
     "name": "#%%\n"
    }
   },
   "outputs": [],
   "source": [
    "info_fiumark_df.loc[(info_fiumark_df['edades_estratificadas'] == 'ninio')  & (info_fiumark_df['parientes'] == 0),'nombre'].count()"
   ]
  },
  {
   "cell_type": "markdown",
   "metadata": {},
   "source": [
    "Observamos que solo un niño no fue con parientes y fue encuestado por lo que consideramos que esto no es una muestra representativa. Veamos ahora el caso de los adultos que fueron con 3 parientes."
   ]
  },
  {
   "cell_type": "code",
   "execution_count": null,
   "metadata": {},
   "outputs": [],
   "source": [
    "info_fiumark_df.loc[(info_fiumark_df['edades_estratificadas'] == 'adulto')  & (info_fiumark_df['parientes'] == 3), 'nombre'].count()"
   ]
  },
  {
   "cell_type": "markdown",
   "metadata": {
    "pycharm": {
     "name": "#%% md\n"
    }
   },
   "source": [
    "Lo mismo que sucede en el caso anterior. Solo tenemos 2 personas que cumplen estas condiciones por lo que no nos \n",
    "parece suficiente para sacar alguna conclusión de estas."
   ]
  },
  {
   "cell_type": "markdown",
   "metadata": {
    "pycharm": {
     "name": "#%% md\n"
    }
   },
   "source": [
    "#### Niños y parientes"
   ]
  },
  {
   "cell_type": "markdown",
   "metadata": {
    "pycharm": {
     "name": "#%% md\n"
    }
   },
   "source": [
    "Una cosa que nos permitió ver el heatmap anterior, es ver que los niños de entre 0 y 10 años van acompañados por un adulto, algo que es esperable. Además los niños que fueron acompañados por exactamente 1 adulto parecería que disfrutaron más la película que los que fueron acopañados por 2. Vemos cuan valida sería esta afirmación viendo la cantidad de casos que tenemos cumpliendo esto."
   ]
  },
  {
   "cell_type": "code",
   "execution_count": null,
   "metadata": {
    "pycharm": {
     "name": "#%%\n"
    }
   },
   "outputs": [],
   "source": [
    "menor_10_anios = info_fiumark_df['edad'] <= 10\n",
    "un_pariente = info_fiumark_df['parientes'] == 1\n",
    "dos_parientes = info_fiumark_df['parientes'] == 2\n",
    "vuelve = info_fiumark_df['volveria'] == 1\n"
   ]
  },
  {
   "cell_type": "code",
   "execution_count": null,
   "metadata": {
    "pycharm": {
     "name": "#%%\n"
    }
   },
   "outputs": [],
   "source": [
    "cant_ninio_un_pariente_total = info_fiumark_df.loc[menor_10_anios & un_pariente,'nombre'].count() # Nos quedamos con cualquier fila, solo nos interesa saber cuantos son\n",
    "cant_ninio_un_pariente_vuelve = info_fiumark_df.loc[menor_10_anios & un_pariente & vuelve,'nombre'].count()\n",
    "cant_ninio_dos_pariente_total = info_fiumark_df.loc[menor_10_anios & dos_parientes,'nombre'].count()\n",
    "cant_ninio_dos_pariente_vuelve = info_fiumark_df.loc[menor_10_anios & dos_parientes & vuelve,'nombre'].count()"
   ]
  },
  {
   "cell_type": "code",
   "execution_count": null,
   "metadata": {},
   "outputs": [],
   "source": [
    "print(\"Menores a 10, con un pariente: \",cant_ninio_un_pariente_total)\n",
    "print(\"Menores a 10, con un pariente que vuelven: \",cant_ninio_un_pariente_vuelve)\n",
    "print(\"Menores a 10, con dos pariente: \",cant_ninio_dos_pariente_total)\n",
    "print(\"Menores a 10, con dos pariente que vuelven: \",cant_ninio_dos_pariente_vuelve)"
   ]
  },
  {
   "cell_type": "markdown",
   "metadata": {},
   "source": [
    "Observamos que son pocos casos como para considerar que es algo muy determinante, sin embargo se ve que lo propuesto inicialmente con respecto a los niños se cumple."
   ]
  },
  {
   "cell_type": "markdown",
   "metadata": {
    "pycharm": {
     "name": "#%% md\n"
    }
   },
   "source": [
    "#### ¿La edad con la cantidad de amigos tendrán alguna relación?"
   ]
  },
  {
   "cell_type": "markdown",
   "metadata": {},
   "source": [
    "Usamos la misma estratificación que antes, solo que viendo los amigos en este caso."
   ]
  },
  {
   "cell_type": "code",
   "execution_count": null,
   "metadata": {
    "collapsed": false,
    "jupyter": {
     "outputs_hidden": false
    },
    "pycharm": {
     "name": "#%%\n"
    }
   },
   "outputs": [],
   "source": [
    "sns.set(rc={'figure.figsize':(8,7)})\n",
    "amigos_edad = pd.pivot_table(data = info_fiumark_df, index = 'amigos', values = 'volveria', columns = 'edades_estratificadas')\n",
    "amigos_edad.sort_index(ascending =  False, inplace = True)\n",
    "amigos_edad = amigos_edad.reindex( ['ninio', 'joven' ,'adulto', 'mayor'],axis = 1)"
   ]
  },
  {
   "cell_type": "code",
   "execution_count": null,
   "metadata": {
    "collapsed": false,
    "jupyter": {
     "outputs_hidden": false
    },
    "pycharm": {
     "name": "#%%\n"
    }
   },
   "outputs": [],
   "source": [
    "mascara = amigos_edad.isnull()\n",
    "g = sns.heatmap(amigos_edad, mask = mascara, cmap=\"YlGnBu\",annot=True)\n",
    "\n",
    "g.set_title(\"Porcentaje que volvería según edad y amigos\")\n",
    "g.set_ylabel(\"Cantidad de amigos\")\n",
    "g.set_xlabel(\"Edad\")\n",
    "\n",
    "plt.show()"
   ]
  },
  {
   "cell_type": "markdown",
   "metadata": {
    "pycharm": {
     "name": "#%% md\n"
    }
   },
   "source": [
    "En este heatmap podemos ver que los jovenes tienden a disfrutar la pelicula si fueron con\n",
    "hasta 2 amigos. Si fueron con 3 amigos o más tienden a no querer volver a ver la secuela. Se puede ver algo muy similar también con el caso de los niños, donde casi todos deciden volver.\n",
    "\n",
    "Buscamos de cuantos casos estamos hablando en los jóvenes y niños."
   ]
  },
  {
   "cell_type": "code",
   "execution_count": null,
   "metadata": {
    "pycharm": {
     "name": "#%%\n"
    }
   },
   "outputs": [],
   "source": [
    "fue_con_varios_amigos = info_fiumark_df['amigos']>=3\n",
    "volveria =  info_fiumark_df['volveria']==1\n",
    "es_joven = info_fiumark_df['edad']<=25"
   ]
  },
  {
   "cell_type": "code",
   "execution_count": null,
   "metadata": {},
   "outputs": [],
   "source": [
    "info_fiumark_df.loc[(~fue_con_varios_amigos) & es_joven]['nombre'].count()"
   ]
  },
  {
   "cell_type": "code",
   "execution_count": null,
   "metadata": {},
   "outputs": [],
   "source": [
    "info_fiumark_df.loc[(~fue_con_varios_amigos) & es_joven & volveria]['nombre'].count()"
   ]
  },
  {
   "cell_type": "markdown",
   "metadata": {},
   "source": [
    "Ahora veamos cuántos jóvenes y niños fueron con varios amigos."
   ]
  },
  {
   "cell_type": "code",
   "execution_count": null,
   "metadata": {
    "pycharm": {
     "name": "#%%\n"
    }
   },
   "outputs": [],
   "source": [
    "info_fiumark_df.loc[fue_con_varios_amigos]['nombre'].count()"
   ]
  },
  {
   "cell_type": "code",
   "execution_count": null,
   "metadata": {
    "pycharm": {
     "name": "#%%\n"
    }
   },
   "outputs": [],
   "source": [
    "info_fiumark_df.loc[fue_con_varios_amigos & volveria]['nombre'].count()"
   ]
  },
  {
   "cell_type": "markdown",
   "metadata": {
    "pycharm": {
     "name": "#%% md\n"
    }
   },
   "source": [
    "Vemos que lo observado es correcto, los jóvenes y niños que fueron con menos de tres amigos, son mucho más probables a volver que en el caso contrario."
   ]
  },
  {
   "cell_type": "markdown",
   "metadata": {
    "pycharm": {
     "name": "#%% md\n"
    }
   },
   "source": [
    "#### Veamos la cantidad total de invitados y edad"
   ]
  },
  {
   "cell_type": "markdown",
   "metadata": {},
   "source": [
    "Estudiando las relaciones de edad-amigos y edad-parientes de los encuestados nos surgió la idea de estudiar la relación edad-invitados donde invitados es la suma de los amigos y los parientes con los que cada encuestado fue a ver la película.\n"
   ]
  },
  {
   "cell_type": "code",
   "execution_count": null,
   "metadata": {
    "collapsed": false,
    "jupyter": {
     "outputs_hidden": false
    },
    "pycharm": {
     "name": "#%%\n"
    }
   },
   "outputs": [],
   "source": [
    "info_fiumark_df['invitados_totales'] = info_fiumark_df['amigos'] + info_fiumark_df['parientes'] "
   ]
  },
  {
   "cell_type": "code",
   "execution_count": null,
   "metadata": {
    "collapsed": false,
    "jupyter": {
     "outputs_hidden": false
    },
    "pycharm": {
     "name": "#%%\n"
    }
   },
   "outputs": [],
   "source": [
    "sns.set(rc={'figure.figsize':(8,7)})\n",
    "amigos_edad = pd.pivot_table(data = info_fiumark_df, index = 'invitados_totales', values = 'volveria', columns = 'edades_estratificadas', aggfunc = 'mean')\n",
    "\n",
    "amigos_edad\n",
    "amigos_edad.sort_index(ascending =  False, inplace = True)\n",
    "amigos_edad = amigos_edad.reindex( ['ninio', 'joven' ,'adulto', 'mayor'],axis = 1)\n",
    "\n",
    "mascara = amigos_edad.isnull()\n",
    "g = sns.heatmap(amigos_edad, mask = mascara, cmap=\"YlGnBu\", annot = True)\n",
    "\n",
    "g.set_title(\"Porcentaje que volvería según edad e invitados\")\n",
    "g.set_ylabel(\"Cantidad de invitados\")\n",
    "g.set_xlabel(\"Edad\")"
   ]
  },
  {
   "cell_type": "markdown",
   "metadata": {},
   "source": [
    "No pudimos ver diferencias apreciables con los gráficos que obtuvimos por separado para amigos-edad y parientes-edad. Observamos que se repite la tendencia ya mencionada sobre los niños y jóvenes. \n",
    "\n",
    "Tambien notamos que los encuestados que fueron con 1, 2 ó 3 invitados, son los que tienen mayores probabilidades de volver. Que los encuestados con mayor cantidad de invitados tiendan a no volver no debe de ser casualidad, puede deberse a que la salida en grupo es más para estar juntos y no tanto como para ver la película en si."
   ]
  },
  {
   "cell_type": "code",
   "execution_count": null,
   "metadata": {},
   "outputs": [],
   "source": [
    "entre_uno_tres_invitados = info_fiumark_df.loc[(info_fiumark_df['invitados_totales']>=1) & (info_fiumark_df['invitados_totales']<=3),'nombre'].count()\n",
    "entre_uno_tres_invitados_vuelta = info_fiumark_df.loc[(info_fiumark_df['invitados_totales']>=1) & (info_fiumark_df['invitados_totales']<=3) & volveria,'nombre'].count()\n",
    "(entre_uno_tres_invitados_vuelta/entre_uno_tres_invitados).round(2)"
   ]
  },
  {
   "cell_type": "markdown",
   "metadata": {},
   "source": [
    "Vemos que casi un 60% de los encuestados vuelve al considerar ese rango de invitados."
   ]
  },
  {
   "cell_type": "markdown",
   "metadata": {},
   "source": [
    "La categoría de 'mayor', observamos que tiene números altos también para 1 y 3 invitados, sin embargo son pocos casos (tan solo 18) para considerarlos por sí solos."
   ]
  },
  {
   "cell_type": "code",
   "execution_count": null,
   "metadata": {},
   "outputs": [],
   "source": [
    "info_fiumark_df.loc[((info_fiumark_df['invitados_totales']==1) | (info_fiumark_df['invitados_totales']==3)) & (info_fiumark_df['edad']>50),'nombre'].count()"
   ]
  },
  {
   "cell_type": "markdown",
   "metadata": {
    "pycharm": {
     "name": "#%% md\n"
    }
   },
   "source": [
    "### ¿Afecta en la decisión de volver el haber ido a un tipo de sala puntual?"
   ]
  },
  {
   "cell_type": "markdown",
   "metadata": {},
   "source": [
    "Veamos ahora si la decisión de ir a un mejor tipo de sala determina si se vuelve a ver la secuela. "
   ]
  },
  {
   "cell_type": "markdown",
   "metadata": {
    "pycharm": {
     "name": "#%% md\n"
    }
   },
   "source": [
    "Para empezar veamos cuales hay."
   ]
  },
  {
   "cell_type": "code",
   "execution_count": null,
   "metadata": {
    "pycharm": {
     "name": "#%%\n"
    }
   },
   "outputs": [],
   "source": [
    "cantidad_salas = info_fiumark_df['tipo_de_sala'].value_counts()\n",
    "cantidad_salas"
   ]
  },
  {
   "cell_type": "markdown",
   "metadata": {
    "pycharm": {
     "name": "#%% md\n"
    }
   },
   "source": [
    "Sorprendentemente, la mayoría de la gente que respondió la encuesta fue a ver la pelicula a las salas especiales (4D y 3D). Esto se puede deber a que se busca tener una experiencia única al momento de ir al cine. Esto lo mostramos en el siguiente gráfico con respecto a la cantidad total de gente que fue."
   ]
  },
  {
   "cell_type": "code",
   "execution_count": null,
   "metadata": {},
   "outputs": [],
   "source": [
    "circulo_centro=plt.Circle( (0,0), 0.7, color='white')\n",
    "plt.figure(dpi=80)\n",
    "plt.pie(cantidad_salas.values, labels=cantidad_salas.index.to_list(), colors=['goldenrod','salmon','skyblue'],autopct='%1.0f%%')\n",
    "p=plt.gcf()\n",
    "p.gca().add_artist(circulo_centro)\n",
    "plt.suptitle('Proporción de a qué sala fue la gente que respondió la encuesta')\n",
    "plt.show()"
   ]
  },
  {
   "cell_type": "markdown",
   "metadata": {},
   "source": [
    "Busquemos ahora si hay relación con ir a ver la secuela.\n"
   ]
  },
  {
   "cell_type": "code",
   "execution_count": null,
   "metadata": {
    "pycharm": {
     "name": "#%%\n"
    }
   },
   "outputs": [],
   "source": [
    "porcentaje_volveria_salas = info_fiumark_df.groupby(by='tipo_de_sala')['volveria'].agg('mean').round(2)\n",
    "porcentaje_volveria_salas"
   ]
  },
  {
   "cell_type": "code",
   "execution_count": null,
   "metadata": {
    "pycharm": {
     "name": "#%%\n"
    }
   },
   "outputs": [],
   "source": [
    "porcentaje_volveria_salas.sort_values(ascending=False,inplace=True)\n",
    "plt.figure(dpi=100)\n",
    "plt.bar(porcentaje_volveria_salas.index, porcentaje_volveria_salas.values, color = ['darksalmon','lightgreen','lightskyblue'])\n",
    "plt.ylabel(\"Porcentaje\")\n",
    "plt.xlabel(\"Tipos de sala de cine\")\n",
    "plt.ylim(0, 1)\n",
    "plt.title('Porcentaje de personas que irían a ver la secuela por sala')\n",
    "plt.show()"
   ]
  },
  {
   "cell_type": "markdown",
   "metadata": {},
   "source": [
    "Observando los resultados, notamos que una gran cantidad de la gente que fue a la sala 4D, decidió que no volvería a ver la secuela (cercano al 80%). Uno de los motivos por los que esto puede llegar a ser es que las personas que deciden ir a esta sala esperan tener una gran experiencia debido a los efectos que agrega la sala, ya sean movimientos, niebla, lluvia, u otros efectos del estilo, los cuales pueden no estar siendo aprovechados del todo durante la proyección de la película.\n"
   ]
  },
  {
   "cell_type": "markdown",
   "metadata": {},
   "source": [
    "Con respecto a la sala 3D, podemos decir que no nos estaría aportando mucho por si sola. Esto se debe a que la mitad de la gente que decide ir a esta sala volvería a la secuela, mientras que el resto no. Resultando como si fuera el lanzamiento de una moneda."
   ]
  },
  {
   "cell_type": "markdown",
   "metadata": {
    "pycharm": {
     "name": "#%% md\n"
    }
   },
   "source": [
    "Por último, de la sala normal podemos decir que cerca del 64% dijo que volvería a la secuela. Que una mayor cantidad diga en esta sala que volvería puede deberse a que ya conocieran de antes la serie de películas Frozen."
   ]
  },
  {
   "cell_type": "markdown",
   "metadata": {},
   "source": [
    "Veamos si podemos obtener algun refinamiento de estos datos cruzandola con la variable 'genero'."
   ]
  },
  {
   "cell_type": "markdown",
   "metadata": {
    "pycharm": {
     "name": "#%% md\n"
    }
   },
   "source": [
    "#### Cruzamos el tipo de sala con el género"
   ]
  },
  {
   "cell_type": "code",
   "execution_count": null,
   "metadata": {
    "pycharm": {
     "name": "#%%\n"
    }
   },
   "outputs": [],
   "source": [
    "porcentaje_sala_sexo = info_fiumark_df.groupby(by=['tipo_de_sala','genero'])['volveria'].agg('mean').round(2).unstack().T\n",
    "porcentaje_sala_sexo = porcentaje_sala_sexo.mul(100)\n",
    "porcentaje_sala_sexo"
   ]
  },
  {
   "cell_type": "markdown",
   "metadata": {},
   "source": [
    "Vemos que las mujeres son mas probables a responder que volverían en todos los casos, estando en valores mayores al 90% para las salas normal y 3D. \n",
    "\n",
    "Algo a notar con respecto a los hombres es que parecen querer volver algo más si es que fueron a la sala normal en comparación con el resto."
   ]
  },
  {
   "cell_type": "code",
   "execution_count": null,
   "metadata": {
    "pycharm": {
     "name": "#%%\n"
    }
   },
   "outputs": [],
   "source": [
    "# -------Creamos el fondo\n",
    "categorias=list(porcentaje_sala_sexo)[0:]\n",
    "cantidad_categorias = len(categorias)\n",
    " \n",
    "# Armamos el angulo de cada eje\n",
    "angulos = [n / float(cantidad_categorias) * 2 * pi for n in range(cantidad_categorias)]\n",
    "angulos += angulos[:1]\n",
    " \n",
    "# Inicializamos el plot\n",
    "ax = plt.subplot(111, polar=True)\n",
    " \n",
    "# El primer eje esta arriba\n",
    "ax.set_theta_offset(pi / 2)\n",
    "ax.set_theta_direction(-1)\n",
    "\n",
    "# Dibujamos los ejes y los nombres\n",
    "plt.xticks(angulos[:-1], categorias)\n",
    "\n",
    "# Etiquetas en el eje y\n",
    "ax.set_rlabel_position(0)\n",
    "plt.ylim(0,100)\n",
    "\n",
    "# Primer grupo\n",
    "values1=porcentaje_sala_sexo.iloc[0].values.tolist()\n",
    "values1 += values1[:1]\n",
    "ax.plot(angulos, values1, linewidth=1, linestyle='solid', label=\"Hombre\")\n",
    "ax.fill(angulos, values1, 'b', alpha=0.1)\n",
    "\n",
    "# Segundo grupo\n",
    "values2=porcentaje_sala_sexo.iloc[1].values.tolist()\n",
    "values2 += values2[:1]\n",
    "ax.plot(angulos, values2, linewidth=1, linestyle='solid', label=\"Mujer\")\n",
    "ax.fill(angulos, values2, 'g', alpha=0.1)\n",
    "##\n",
    "plt.suptitle('Porcentaje que volvería de acuerdo a la sala por genero')\n",
    "plt.legend(loc='upper right', bbox_to_anchor=(0.1, 0.1))"
   ]
  },
  {
   "cell_type": "markdown",
   "metadata": {},
   "source": [
    "Algo curioso que se nota al observar el gráfico, es que parece como si el caso de los hombres siguiera el mismo estilo que el de las mujeres, solo que con un tamaño menor."
   ]
  },
  {
   "cell_type": "markdown",
   "metadata": {},
   "source": [
    "En conclusión, las salas a las que fue cada persona parece ser un factor relevante para determinar si va a la secuela."
   ]
  },
  {
   "cell_type": "markdown",
   "metadata": {
    "pycharm": {
     "name": "#%% md\n"
    }
   },
   "source": [
    "### ¿Hay más gente que iría a ver la secuela si fue a una sede en particular?"
   ]
  },
  {
   "cell_type": "markdown",
   "metadata": {},
   "source": [
    "En esta sección buscamos saber si por algún motivo alguna sede en particular ayuda a influenciar la ida a la secuela. Los mótivos por los que esto podría llegar a suceder pueden estar relacionados a la calidad del cine, esto puede comprender tanto personal, calidad de las butacas, variedad de la tienda de snacks, etc."
   ]
  },
  {
   "cell_type": "markdown",
   "metadata": {
    "pycharm": {
     "name": "#%% md\n"
    }
   },
   "source": [
    "Empecemos viendo cuántas sedes tenemos y como se distribuyó la cantidad de gente que fue a cada una. De ahí veremos si surge que los encuestados de alguna sede prefieren ir a ver la secuela mas que los encuestados de otra."
   ]
  },
  {
   "cell_type": "code",
   "execution_count": null,
   "metadata": {
    "pycharm": {
     "name": "#%%\n"
    }
   },
   "outputs": [],
   "source": [
    "cantidad_sedes = info_fiumark_df['nombre_sede'].value_counts(normalize=True).round(2)\n",
    "cantidad_sedes"
   ]
  },
  {
   "cell_type": "code",
   "execution_count": null,
   "metadata": {},
   "outputs": [],
   "source": [
    "circulo_centro=plt.Circle( (0,0), 0.7, color='white')\n",
    "plt.figure(dpi=80)\n",
    "plt.pie(cantidad_sedes.values, labels=cantidad_sedes.index.to_list(), colors=['goldenrod','salmon','skyblue'],autopct='%1.0f%%')\n",
    "p=plt.gcf()\n",
    "p.gca().add_artist(circulo_centro)\n",
    "plt.suptitle('Proporción de a que cine corresponden los encuestados')\n",
    "plt.show()"
   ]
  },
  {
   "cell_type": "markdown",
   "metadata": {
    "pycharm": {
     "name": "#%% md\n"
    }
   },
   "source": [
    "Observando lo obtenido, notamos que tenemos 3 sedes y que la mayoría de los encuestados corresponden a la sede de Fiumark en Palermo. Veamos ahora la vuelta a la secuela para cada sede en particular."
   ]
  },
  {
   "cell_type": "code",
   "execution_count": null,
   "metadata": {},
   "outputs": [],
   "source": [
    "info_fiumark_df.groupby(by='nombre_sede').agg({'volveria':'mean'}).round(2)"
   ]
  },
  {
   "cell_type": "code",
   "execution_count": null,
   "metadata": {
    "pycharm": {
     "name": "#%%\n"
    }
   },
   "outputs": [],
   "source": [
    "volveria_por_sede = info_fiumark_df.groupby(by=\"nombre_sede\")['volveria'].value_counts(normalize=True)\n",
    "volveria_por_sede_df = volveria_por_sede.to_frame()\n",
    "volveria_por_sede_df.rename(columns={'volveria':'Cantidad de respuestas'},inplace=True)\n",
    "volveria_por_sede_df.reset_index(inplace=True)\n",
    "volveria_por_sede_df.rename(columns={'volveria':'Vuelve a la secuela','nombre_sede':'Sedes'},inplace=True)"
   ]
  },
  {
   "cell_type": "code",
   "execution_count": null,
   "metadata": {},
   "outputs": [],
   "source": [
    "volveria_por_sede_df['Vuelve a la secuela'].replace([0,1],['No','Si'],inplace=True)"
   ]
  },
  {
   "cell_type": "code",
   "execution_count": null,
   "metadata": {
    "pycharm": {
     "name": "#%%\n"
    }
   },
   "outputs": [],
   "source": [
    "g = sns.catplot(\n",
    "    data=volveria_por_sede_df, kind=\"bar\",\n",
    "    x=\"Sedes\", y=\"Cantidad de respuestas\", hue=\"Vuelve a la secuela\",\n",
    "    ci=None, palette=\"colorblind\", alpha=.6, height=8,aspect=1.5\n",
    ")\n",
    "plt.title(\"Porcentaje de vuelta por sede\")\n",
    "g.despine(left=True)\n",
    "plt.ylim(0,1)\n",
    "g.set_axis_labels(\"Sede\", \"Porcentaje\")"
   ]
  },
  {
   "cell_type": "markdown",
   "metadata": {
    "pycharm": {
     "name": "#%% md\n"
    }
   },
   "source": [
    "Al ver cuantos volverían por sede, obtenemos que la sede no parece ser tan determinante por si sola, quizas podemos notar que en la de Palermo parece que se tiende a no volver, pero hay que tener en cuenta que esta es la que acumula mayor cantidad de encuestados."
   ]
  },
  {
   "cell_type": "markdown",
   "metadata": {},
   "source": [
    "#### ¿Estarán relacionados el género y la sede?"
   ]
  },
  {
   "cell_type": "markdown",
   "metadata": {},
   "source": [
    "En este punto nos interesa ver si hay alguna relación en este caso. Quizás para los hombres o mujeres, no les gustó determinado aspecto del cine."
   ]
  },
  {
   "cell_type": "code",
   "execution_count": null,
   "metadata": {
    "pycharm": {
     "name": "#%%\n"
    }
   },
   "outputs": [],
   "source": [
    "sede_genero = info_fiumark_df.groupby(by=[\"nombre_sede\",\"genero\"]).agg({'volveria':'mean'})\n",
    "sede_genero = sede_genero.unstack('nombre_sede').round(2)\n",
    "sede_genero.columns = sede_genero.columns.get_level_values(1)\n",
    "sede_genero"
   ]
  },
  {
   "cell_type": "markdown",
   "metadata": {},
   "source": [
    "Para concluir esta pregunta que surgió, no parece que haya una relación, ya que parece que independientemente de la sede, las mujeres volverían mucho más que los hombres para todos los casos. Esto sigue la misma línea de lo ya observado antes."
   ]
  },
  {
   "cell_type": "markdown",
   "metadata": {
    "pycharm": {
     "name": "#%% md\n"
    }
   },
   "source": [
    "### ¿El precio fue determinante?"
   ]
  },
  {
   "cell_type": "markdown",
   "metadata": {
    "pycharm": {
     "name": "#%% md\n"
    }
   },
   "source": [
    "Veamos primero como se distribuyen los precios, y después la relación con respecto a la variable de interés."
   ]
  },
  {
   "cell_type": "code",
   "execution_count": null,
   "metadata": {},
   "outputs": [],
   "source": [
    "sns.set(rc={'figure.figsize':(8,7)})\n",
    "plt.figure(dpi=100)\n",
    "g=sns.distplot( a=info_fiumark_df['precio_ticket'],\n",
    "             hist=True, kde=False, rug=False,\n",
    "             bins=40,\n",
    "             axlabel='Precio del ticket')\n",
    "g.set_title('Distribución del precio del ticket')\n",
    "g.set_ylabel(\"Cantidad de personas\")\n",
    "\n",
    "plt.show()"
   ]
  },
  {
   "cell_type": "markdown",
   "metadata": {
    "pycharm": {
     "name": "#%% md\n"
    }
   },
   "source": [
    "Podemos observar que la mayoría de los que fueron a ver la película pago precios inferiores a $\\$$10, con algunos casos excepcionales que pagaron alrededor de $\\$$50. Veamos la relación ahora, para ello creamos categorías en las cuales al comienzo son mas específicas debido a la cantidad de casos, y hacia el final creamos una que agrupe todas."
   ]
  },
  {
   "cell_type": "code",
   "execution_count": null,
   "metadata": {
    "pycharm": {
     "name": "#%%\n"
    }
   },
   "outputs": [],
   "source": [
    "bins = [0, 1, 2, 3, 4, 5, 6, 7, 8, 9, 10, 11, 12, np.inf]\n",
    "rango_precios = pd.cut(info_fiumark_df['precio_ticket'], bins=bins)\n",
    "\n",
    "volveria_por_rango_precio = info_fiumark_df.groupby(by=rango_precios)['volveria'].value_counts()\n",
    "volveria_por_rango_precio_df = volveria_por_rango_precio.to_frame()\n",
    "volveria_por_rango_precio_df.rename(columns={'volveria':'Cantidad de respuestas'},inplace=True)\n",
    "volveria_por_rango_precio_df.reset_index(inplace=True)\n",
    "volveria_por_rango_precio_df.rename(columns={'volveria':'Vuelve a la secuela','precio_ticket':'Rango de precios'},inplace=True)"
   ]
  },
  {
   "cell_type": "code",
   "execution_count": null,
   "metadata": {},
   "outputs": [],
   "source": [
    "volveria_por_rango_precio_df['Vuelve a la secuela'].replace([0,1],['No','Si'],inplace=True)"
   ]
  },
  {
   "cell_type": "code",
   "execution_count": null,
   "metadata": {
    "collapsed": false,
    "jupyter": {
     "outputs_hidden": false
    },
    "pycharm": {
     "name": "#%%\n"
    }
   },
   "outputs": [],
   "source": [
    "g = sns.catplot(\n",
    "    data=volveria_por_rango_precio_df, kind=\"bar\",\n",
    "    x=\"Rango de precios\", y=\"Cantidad de respuestas\", hue=\"Vuelve a la secuela\",\n",
    "    ci=None, palette=\"dark\", alpha=.6, height=8,aspect=1.5\n",
    ")\n",
    "plt.title(\"Cantidad de respuestas de vuelta\")\n",
    "g.despine(left=True)\n",
    "g.set_axis_labels(\"Rango de precios\", \"Cantidad de respuestas\")"
   ]
  },
  {
   "cell_type": "markdown",
   "metadata": {},
   "source": [
    "Veamos ahora normalizado que obtenemos."
   ]
  },
  {
   "cell_type": "code",
   "execution_count": null,
   "metadata": {
    "collapsed": false,
    "jupyter": {
     "outputs_hidden": false
    },
    "pycharm": {
     "name": "#%%\n"
    }
   },
   "outputs": [],
   "source": [
    "volveria_por_rango_precio = info_fiumark_df.groupby(by=rango_precios)['volveria'].value_counts(normalize=True)\n",
    "volveria_por_rango_precio_df = volveria_por_rango_precio.to_frame()\n",
    "volveria_por_rango_precio_df.rename(columns={'volveria':'Cantidad de respuestas'},inplace=True)\n",
    "volveria_por_rango_precio_df.reset_index(inplace=True)\n",
    "volveria_por_rango_precio_df.rename(columns={'volveria':'Vuelve a la secuela','precio_ticket':'Rango de precios'},inplace=True)\n",
    "volveria_por_rango_precio_df['Vuelve a la secuela'].replace([0,1],['No','Si'],inplace=True)\n",
    "\n",
    "g = sns.catplot(\n",
    "    data=volveria_por_rango_precio_df, kind=\"bar\",\n",
    "    x=\"Rango de precios\", y=\"Cantidad de respuestas\", hue=\"Vuelve a la secuela\",\n",
    "    ci=None, palette=\"dark\", alpha=.6, height=8,aspect=1.5\n",
    ")\n",
    "plt.title(\"Respuestas de vuelta normalizado\")\n",
    "g.despine(left=True)\n",
    "g.set_axis_labels(\"Rango de precios\", \"Porcentaje de la respuesta\")"
   ]
  },
  {
   "cell_type": "markdown",
   "metadata": {
    "pycharm": {
     "name": "#%% md\n"
    }
   },
   "source": [
    "Lo que nos encontramos es que en el rango más bajo (de 0 a 1) la mayoría respondió que no volvería, mientras que a partir de que se empieza a incrementar el precio aumenta la cantidad de gente que responde que vuelve. Una hipótesis respecto a esto puede ser que la gente que gasto mas se convence que el gasto realizado valió la pena, de forma tal de que se van con una mejor opinión respecto a la película y una potencial secuela. También hay que tener en cuenta que se obtuvo una mayor cantidad de respuestas de los rangos mas bajos, por lo que sus resultados son más representativos que los últimos."
   ]
  },
  {
   "cell_type": "markdown",
   "metadata": {
    "pycharm": {
     "name": "#%% md\n"
    }
   },
   "source": [
    "#### ¿Habrá alguna relación entre el precio y la edad?"
   ]
  },
  {
   "cell_type": "markdown",
   "metadata": {},
   "source": [
    "Vemos ahora como se distribuye la edad de los encuestados con respecto al precio, ya que puede surgir el caso de que a partir de cierto rango de edades se pague mas o menos."
   ]
  },
  {
   "cell_type": "code",
   "execution_count": null,
   "metadata": {},
   "outputs": [],
   "source": [
    "#Sacamos los valores que estarian muy lejos, debido a que arruinan la escala.\n",
    "precio_menor_a_treinta = info_fiumark_df.loc[info_fiumark_df[\"precio_ticket\"]<30]\n",
    "precio_menor_a_treinta = precio_menor_a_treinta.rename(columns={'volveria':'Vuelve a la secuela','precio_ticket':'Precios','edad':'Edad'})\n",
    "precio_menor_a_treinta['Vuelve a la secuela'].replace([0,1],['No','Si'],inplace=True)"
   ]
  },
  {
   "cell_type": "code",
   "execution_count": null,
   "metadata": {},
   "outputs": [],
   "source": [
    "\n",
    "sns.lmplot( x='Edad', y='Precios',data=precio_menor_a_treinta,fit_reg=False, hue='Vuelve a la secuela', legend=True,height=7,aspect=1.5,markers=[\"x\",\"o\"],palette=['red','green'])\n",
    "plt.title(\"Precio/Edad vuelta a la secuela, sin discriminar genero\")\n",
    "plt.show()"
   ]
  },
  {
   "cell_type": "markdown",
   "metadata": {},
   "source": [
    "Buscamos con los géneros separados ahora."
   ]
  },
  {
   "cell_type": "code",
   "execution_count": null,
   "metadata": {
    "pycharm": {
     "name": "#%%\n"
    }
   },
   "outputs": [],
   "source": [
    "precio_menor_a_treinta_hombre = precio_menor_a_treinta.loc[precio_menor_a_treinta['genero'].str.contains('hombre')]\n",
    "precio_menor_a_treinta_mujer = precio_menor_a_treinta.loc[precio_menor_a_treinta['genero'].str.contains('mujer')]"
   ]
  },
  {
   "cell_type": "code",
   "execution_count": null,
   "metadata": {
    "pycharm": {
     "name": "#%%\n"
    }
   },
   "outputs": [],
   "source": [
    "sns.lmplot( x='Edad', y='Precios',data=precio_menor_a_treinta_hombre,fit_reg=False, hue='Vuelve a la secuela', legend=True,height=8,aspect=1.5,markers=[\"x\",\"o\"],palette=['red','green'])\n",
    "plt.title(\"Precio/Edad vuelta a la secuela, solo hombres\")\n",
    "plt.show()"
   ]
  },
  {
   "cell_type": "code",
   "execution_count": null,
   "metadata": {
    "pycharm": {
     "name": "#%%\n"
    }
   },
   "outputs": [],
   "source": [
    "sns.lmplot( x='Edad', y='Precios',data=precio_menor_a_treinta_mujer,fit_reg=False, hue='Vuelve a la secuela', legend=True,height=8,aspect=1.5,markers=[\"x\",\"o\"],palette=['red','green'])\n",
    "plt.title(\"Precio/Edad vuelta a la secuela, solo mujeres\")\n",
    "plt.show()"
   ]
  },
  {
   "cell_type": "markdown",
   "metadata": {
    "pycharm": {
     "name": "#%% md\n"
    }
   },
   "source": [
    "Observando todos los gráficos hechos, notamos que el primer gráfico no se podía apreciar demasiado al tener ambos géneros juntos, pero al separarlos por edad se puede ver claramente la diferencia. Respecto a los hombres, la gran mayoría dice no volver, independientemente de la edad y del precio, y para el caso de las mujeres sucede lo contrario, estas volverían independientemente también de la edad y del precio. No se observan zonas donde se agrupen de forma particular los encuestados que volverían."
   ]
  },
  {
   "cell_type": "markdown",
   "metadata": {},
   "source": [
    "### ¿Importa la ubicación en la sala?"
   ]
  },
  {
   "cell_type": "markdown",
   "metadata": {
    "pycharm": {
     "name": "#%% md\n"
    }
   },
   "source": [
    "Veamos ahora si podemos llegar a sacar alguna conclusión interesante sobre las filas. Lo primero que debemos de tener en cuenta antes de comenzar, es que este atributo tiene en su gran mayoría valores nulos que fueron remplazados por 'No responde'. Vemos las cantidades con las que vamos a estar trabajando."
   ]
  },
  {
   "cell_type": "code",
   "execution_count": null,
   "metadata": {
    "pycharm": {
     "name": "#%%\n"
    }
   },
   "outputs": [],
   "source": [
    "info_fiumark_df['fila'].value_counts()"
   ]
  },
  {
   "cell_type": "markdown",
   "metadata": {
    "pycharm": {
     "name": "#%% md\n"
    }
   },
   "source": [
    "Notamos que tenemos muy pocos casos que respondieron 'medio', por lo que no vamos a poder sacar algo representativo de esas respuestas.\n",
    "\n",
    "Buscamos la proporción de gente que vuelve por ubicación."
   ]
  },
  {
   "cell_type": "code",
   "execution_count": null,
   "metadata": {
    "pycharm": {
     "name": "#%%\n"
    }
   },
   "outputs": [],
   "source": [
    "vuelta_por_fila = info_fiumark_df.groupby(by='fila').agg({'volveria':'mean'}).round(2)\n",
    "vuelta_por_fila"
   ]
  },
  {
   "cell_type": "code",
   "execution_count": null,
   "metadata": {
    "pycharm": {
     "name": "#%%\n"
    }
   },
   "outputs": [],
   "source": [
    "vuelta_por_fila.sort_values(by='volveria',ascending=False,inplace=True)\n",
    "plt.bar(vuelta_por_fila.index.astype(str), vuelta_por_fila['volveria'], color = 'olive', alpha = 0.6)\n",
    "plt.title(\"Porcentaje de vuelta por lugar en donde se sentó\")\n",
    "plt.xlabel(\"Lugar en el cine\")\n",
    "plt.ylabel(\"Porcentaje que volverían\")\n",
    "plt.ylim(0, 1)\n",
    "plt.show()"
   ]
  },
  {
   "cell_type": "markdown",
   "metadata": {
    "pycharm": {
     "name": "#%% md\n"
    }
   },
   "source": [
    "Observamos que cerca del 70% de los que respondieron que se sentaron adelante, volverían, siendo el valor 'adelante' el que más respuestas tuvo excluyendo a los que no respondieron.\n",
    "\n",
    "En el caso del 'medio', no podemos concluir nada debido a las muy pocas respuestas obtenidas. \n",
    "\n",
    "Con respecto a los que no respondieron no tendríamos información suficiente para sacar alguna conclusión, ya que estos valores en la realidad están distribuidos en 'adelante', 'medio', y muy posiblemente 'atrás'.\n",
    "\n",
    "\n"
   ]
  },
  {
   "cell_type": "markdown",
   "metadata": {},
   "source": [
    "Como conclusión, la ubicación en la sala puede llegar a ser importante, pero no tenemos suficientes casos como para asegurarlo con certeza."
   ]
  },
  {
   "cell_type": "markdown",
   "metadata": {},
   "source": [
    "## Conclusiones del análisis\n",
    "\n",
    "A partir de los datos recolectados hemos podido obtener las siguientes conclusiones:\n",
    "    \n",
    "- Los dos factores más relevantes para identificar si una persona iría a ver Frozen 4 son el género y la edad.\n",
    "\n",
    "- Las mujeres son mucho mas propensas a querer ver la secuela que los hombres para todo rango de edad.\n",
    "\n",
    "- Aproximadamente el 60% de los hombres de edades entre 0 y 10 años vería la secuela, mientras que para el resto de los hombres este número baja a un 20% aproximadamente. Esto muestra también una clara relación entre el género y la edad.\n",
    "\n",
    "- Con respecto al precio de las entradas, no podemos concluir algo en en específico con respecto a cual es un rango ideal. Ya que las mujeres parecen querer volver a la secuela independientemente de este, mientras que para los hombres es lo contrario.\n",
    "\n",
    "- Aproximadamente, un 60% de las personas que fueron a una sala normal volvería al cine a ver Frozen 4 mientras que un 80% de las personas que fueron a una sala 4D no volverían. Esto pareceria indicar que las salas 4D no estarían otorgando una experiencia lo suficientemente buena para que la gente vuelva. Devuelta en este caso las mujeres indicaron que volverían mas veces que los hombres en todas las salas.\n",
    "\n",
    "- Pudimos ver que para un pequeño subconjunto de los datos, las variables 'parientes' y 'amigos' estan relacionadas con la edad. Siendo este el caso de los niños y jovenes, donde parecen disfrutar más la película al ir en grupos reducidos.\n",
    "\n",
    "- Las personas que van con 4 o mas invitados (amigos + parientes) no parece que tiendan a disfrutar la película lo suficiente como para volver a ver la secuela. Esto debe de suceder debido a que en grupos grandes una salida al cine es más para pasar el tiempo con amigos/parientes y no tanto para ver la película.\n",
    "\n",
    "- La sede no parece ser un factor muy importante para decidir si vuelven o no.\n",
    "\n",
    "Por lo que como target, recomendamos fuertemente apuntar la campaña de marketing digital hacia los grupos de mujeres y niños, estando estos comprendidos en el rango de hasta 10 años."
   ]
  },
  {
   "cell_type": "markdown",
   "metadata": {
    "pycharm": {
     "name": "#%% md\n"
    }
   },
   "source": [
    "## Baseline"
   ]
  },
  {
   "cell_type": "code",
   "execution_count": null,
   "metadata": {
    "pycharm": {
     "name": "#%%\n"
    }
   },
   "outputs": [],
   "source": [
    "#A partir de todo el análisis anterior, construir el código baseline que se va a usar para la primera ronda de campaña digital.\n",
    "#Fundamentar el código basándose en las conclusiones de los anteriores puntos.\n",
    "#La función baseline debe llamarse baseline(X: pd.DataFrame) -> List[int]. la cual debe recibir un pandas dataframe producido de la lectura del archivo de testeo original y devolver una lista\n",
    "\n",
    "def baseline(info_fiumark_df: pd.DataFrame):\n",
    " \n",
    "    #CONDICIONES USADAS\n",
    "    es_ninio = info_fiumark_df['edad']<=10\n",
    "    es_joven = (info_fiumark_df['edad']<=20) & (info_fiumark_df['edad']>10)\n",
    "    \n",
    "    es_mujer = info_fiumark_df['genero'].str.contains('mujer') \n",
    "    es_hombre = info_fiumark_df['genero'].str.contains('hombre')\n",
    "    \n",
    "    fue_a_sala_normal = info_fiumark_df['tipo_de_sala'].str.contains('normal')\n",
    "    fue_a_sala_3D =  info_fiumark_df['tipo_de_sala'].str.contains('3d')\n",
    "    \n",
    "    pocos_invitados = (info_fiumark_df['amigos'] + info_fiumark_df['parientes'])<=3\n",
    "    \n",
    "    se_sento_adelante = info_fiumark_df['fila'].str.contains('adelante')\n",
    "        \n",
    "    info_fiumark_df['puntaje'] = 0\n",
    "    \n",
    "    #SALA - GENERO\n",
    "    info_fiumark_df.loc[fue_a_sala_normal & es_mujer, 'puntaje'] = info_fiumark_df.loc[fue_a_sala_normal & es_mujer, 'puntaje'] + 1   # Obtienen 1 ya que la gran mayoria vuelve\n",
    "    info_fiumark_df.loc[fue_a_sala_3D & es_mujer, 'puntaje'] = info_fiumark_df.loc[fue_a_sala_3D & es_mujer, 'puntaje'] + 1           # Obtienen 1 ya que la gran mayoria vuelve\n",
    "    info_fiumark_df.loc[(~fue_a_sala_3D) & (~fue_a_sala_normal) & es_mujer, 'puntaje'] = info_fiumark_df.loc[(~fue_a_sala_3D) & (~fue_a_sala_normal) & es_mujer, 'puntaje'] + 0.4 \n",
    "                                                                                                                                      # Obtienen 0.4 ya que la mitad vuelve, \n",
    "                                                                                                                                      # pero no es suficiente por si solo\n",
    "    info_fiumark_df.loc[fue_a_sala_normal & es_hombre, 'puntaje'] = info_fiumark_df.loc[fue_a_sala_normal & es_hombre, 'puntaje'] + 0.4 \n",
    "                                                                                            # Obtienen un poco debido a que los hombres parecieron disfrutar mas la pelicula en la sala normal\n",
    "    \n",
    "    #EDAD - PARIENTES - AMIGOS  \n",
    "    info_fiumark_df.loc[es_ninio, 'puntaje'] = info_fiumark_df.loc[es_ninio, 'puntaje'] + 1 # Casi todos los ninios vuelven\n",
    "    info_fiumark_df.loc[es_joven & pocos_invitados, 'puntaje'] = info_fiumark_df.loc[es_joven & pocos_invitados, 'puntaje'] + 0.5 # Algo mas de la mitad en el caso este vuelve \n",
    "    \n",
    "    #FILA\n",
    "    info_fiumark_df.loc[se_sento_adelante, 'puntaje'] = info_fiumark_df.loc[se_sento_adelante, 'puntaje'] + 0.2 # Vuelve mas de la mitad, pero reciben muy poco debido a la falta de respuestas\n",
    "    \n",
    "    #CALCULO DE LA VUELTA\n",
    "    info_fiumark_df['volveria_estimado'] = 0\n",
    "    puntaje_suficiente = info_fiumark_df['puntaje']>=1\n",
    "    info_fiumark_df.loc[puntaje_suficiente,'volveria_estimado'] = info_fiumark_df.loc[puntaje_suficiente,'volveria_estimado'] +1\n",
    "    \n",
    "    resultado = info_fiumark_df['volveria_estimado'].values.tolist()\n",
    "    \n",
    "    #SACAMOS LAS COLUMNAS AUXILIARES USADAS\n",
    "    info_fiumark_df.drop(columns=['volveria_estimado','puntaje'],inplace=True)\n",
    "    \n",
    "    return resultado"
   ]
  },
  {
   "cell_type": "code",
   "execution_count": null,
   "metadata": {},
   "outputs": [],
   "source": [
    "(baseline(info_fiumark_df) == info_fiumark_df['volveria']).mean().round(2)"
   ]
  },
  {
   "cell_type": "code",
   "execution_count": null,
   "metadata": {},
   "outputs": [],
   "source": [
    "#info_fiumark_df['fila'].nunique"
   ]
  },
  {
   "cell_type": "code",
   "execution_count": null,
   "metadata": {},
   "outputs": [],
   "source": []
  }
 ],
 "metadata": {
  "colab": {
   "collapsed_sections": [],
   "include_colab_link": true,
   "name": "TP-Datos.ipynb",
   "provenance": []
  },
  "kernelspec": {
   "display_name": "Python 3",
   "language": "python",
   "name": "python3"
  },
  "language_info": {
   "codemirror_mode": {
    "name": "ipython",
    "version": 3
   },
   "file_extension": ".py",
   "mimetype": "text/x-python",
   "name": "python",
   "nbconvert_exporter": "python",
   "pygments_lexer": "ipython3",
   "version": "3.8.3"
  }
 },
 "nbformat": 4,
 "nbformat_minor": 4
}
